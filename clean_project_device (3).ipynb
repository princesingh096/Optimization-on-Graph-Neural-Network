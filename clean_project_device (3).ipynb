{
  "nbformat": 4,
  "nbformat_minor": 0,
  "metadata": {
    "colab": {
      "provenance": [],
      "gpuType": "T4"
    },
    "kernelspec": {
      "name": "python3",
      "display_name": "Python 3"
    },
    "language_info": {
      "name": "python"
    },
    "accelerator": "GPU"
  },
  "cells": [
    {
      "cell_type": "code",
      "source": [
        "!pip install torch_geometric\n",
        "!pip install pyg_lib torch_scatter torch_sparse torch_cluster torch_spline_conv -f https://data.pyg.org/whl/torch-2.3.0+cpu.html\n",
        "\n",
        "import requests\n",
        "import tarfile\n",
        "\n",
        "# Download and extract the file\n",
        "url = \"http://glaros.dtc.umn.edu/gkhome/fetch/sw/metis/metis-5.1.0.tar.gz\"\n",
        "response = requests.get(url, stream=True)\n",
        "file = tarfile.open(fileobj=response.raw, mode=\"r|gz\")\n",
        "file.extractall(path=\".\")\n",
        "\n",
        "# Change working directory\n",
        "%cd metis-5.1.0\n",
        "\n",
        "# The remaining steps as you have shown in the question, with updated path\n",
        "!make config shared=1 prefix=~/.local/\n",
        "!make install\n",
        "!cp ~/.local/lib/libmetis.so /usr/lib/libmetis.so\n",
        "!export METIS_DLL=/usr/lib/libmetis.so\n",
        "!pip3 install metis-python\n",
        "%cd .."
      ],
      "metadata": {
        "colab": {
          "base_uri": "https://localhost:8080/"
        },
        "id": "SPEMtFTnwZq-",
        "outputId": "bbdd657a-e67c-43b1-e81c-a4b28e35b244"
      },
      "execution_count": 1,
      "outputs": [
        {
          "output_type": "stream",
          "name": "stdout",
          "text": [
            "Collecting torch_geometric\n",
            "  Downloading torch_geometric-2.5.3-py3-none-any.whl (1.1 MB)\n",
            "\u001b[2K     \u001b[90m━━━━━━━━━━━━━━━━━━━━━━━━━━━━━━━━━━━━━━━━\u001b[0m \u001b[32m1.1/1.1 MB\u001b[0m \u001b[31m14.4 MB/s\u001b[0m eta \u001b[36m0:00:00\u001b[0m\n",
            "\u001b[?25hRequirement already satisfied: tqdm in /usr/local/lib/python3.10/dist-packages (from torch_geometric) (4.66.4)\n",
            "Requirement already satisfied: numpy in /usr/local/lib/python3.10/dist-packages (from torch_geometric) (1.25.2)\n",
            "Requirement already satisfied: scipy in /usr/local/lib/python3.10/dist-packages (from torch_geometric) (1.11.4)\n",
            "Requirement already satisfied: fsspec in /usr/local/lib/python3.10/dist-packages (from torch_geometric) (2023.6.0)\n",
            "Requirement already satisfied: jinja2 in /usr/local/lib/python3.10/dist-packages (from torch_geometric) (3.1.4)\n",
            "Requirement already satisfied: aiohttp in /usr/local/lib/python3.10/dist-packages (from torch_geometric) (3.9.5)\n",
            "Requirement already satisfied: requests in /usr/local/lib/python3.10/dist-packages (from torch_geometric) (2.31.0)\n",
            "Requirement already satisfied: pyparsing in /usr/local/lib/python3.10/dist-packages (from torch_geometric) (3.1.2)\n",
            "Requirement already satisfied: scikit-learn in /usr/local/lib/python3.10/dist-packages (from torch_geometric) (1.2.2)\n",
            "Requirement already satisfied: psutil>=5.8.0 in /usr/local/lib/python3.10/dist-packages (from torch_geometric) (5.9.5)\n",
            "Requirement already satisfied: aiosignal>=1.1.2 in /usr/local/lib/python3.10/dist-packages (from aiohttp->torch_geometric) (1.3.1)\n",
            "Requirement already satisfied: attrs>=17.3.0 in /usr/local/lib/python3.10/dist-packages (from aiohttp->torch_geometric) (23.2.0)\n",
            "Requirement already satisfied: frozenlist>=1.1.1 in /usr/local/lib/python3.10/dist-packages (from aiohttp->torch_geometric) (1.4.1)\n",
            "Requirement already satisfied: multidict<7.0,>=4.5 in /usr/local/lib/python3.10/dist-packages (from aiohttp->torch_geometric) (6.0.5)\n",
            "Requirement already satisfied: yarl<2.0,>=1.0 in /usr/local/lib/python3.10/dist-packages (from aiohttp->torch_geometric) (1.9.4)\n",
            "Requirement already satisfied: async-timeout<5.0,>=4.0 in /usr/local/lib/python3.10/dist-packages (from aiohttp->torch_geometric) (4.0.3)\n",
            "Requirement already satisfied: MarkupSafe>=2.0 in /usr/local/lib/python3.10/dist-packages (from jinja2->torch_geometric) (2.1.5)\n",
            "Requirement already satisfied: charset-normalizer<4,>=2 in /usr/local/lib/python3.10/dist-packages (from requests->torch_geometric) (3.3.2)\n",
            "Requirement already satisfied: idna<4,>=2.5 in /usr/local/lib/python3.10/dist-packages (from requests->torch_geometric) (3.7)\n",
            "Requirement already satisfied: urllib3<3,>=1.21.1 in /usr/local/lib/python3.10/dist-packages (from requests->torch_geometric) (2.0.7)\n",
            "Requirement already satisfied: certifi>=2017.4.17 in /usr/local/lib/python3.10/dist-packages (from requests->torch_geometric) (2024.6.2)\n",
            "Requirement already satisfied: joblib>=1.1.1 in /usr/local/lib/python3.10/dist-packages (from scikit-learn->torch_geometric) (1.4.2)\n",
            "Requirement already satisfied: threadpoolctl>=2.0.0 in /usr/local/lib/python3.10/dist-packages (from scikit-learn->torch_geometric) (3.5.0)\n",
            "Installing collected packages: torch_geometric\n",
            "Successfully installed torch_geometric-2.5.3\n",
            "Looking in links: https://data.pyg.org/whl/torch-2.3.0+cpu.html\n",
            "Collecting pyg_lib\n",
            "  Downloading https://data.pyg.org/whl/torch-2.3.0%2Bcpu/pyg_lib-0.4.0%2Bpt23cpu-cp310-cp310-linux_x86_64.whl (1.3 MB)\n",
            "\u001b[2K     \u001b[90m━━━━━━━━━━━━━━━━━━━━━━━━━━━━━━━━━━━━━━━━\u001b[0m \u001b[32m1.3/1.3 MB\u001b[0m \u001b[31m18.5 MB/s\u001b[0m eta \u001b[36m0:00:00\u001b[0m\n",
            "\u001b[?25hCollecting torch_scatter\n",
            "  Downloading https://data.pyg.org/whl/torch-2.3.0%2Bcpu/torch_scatter-2.1.2%2Bpt23cpu-cp310-cp310-linux_x86_64.whl (510 kB)\n",
            "\u001b[2K     \u001b[90m━━━━━━━━━━━━━━━━━━━━━━━━━━━━━━━━━━━━━━━━\u001b[0m \u001b[32m510.7/510.7 kB\u001b[0m \u001b[31m52.9 MB/s\u001b[0m eta \u001b[36m0:00:00\u001b[0m\n",
            "\u001b[?25hCollecting torch_sparse\n",
            "  Downloading https://data.pyg.org/whl/torch-2.3.0%2Bcpu/torch_sparse-0.6.18%2Bpt23cpu-cp310-cp310-linux_x86_64.whl (1.2 MB)\n",
            "\u001b[2K     \u001b[90m━━━━━━━━━━━━━━━━━━━━━━━━━━━━━━━━━━━━━━━━\u001b[0m \u001b[32m1.2/1.2 MB\u001b[0m \u001b[31m79.9 MB/s\u001b[0m eta \u001b[36m0:00:00\u001b[0m\n",
            "\u001b[?25hCollecting torch_cluster\n",
            "  Downloading https://data.pyg.org/whl/torch-2.3.0%2Bcpu/torch_cluster-1.6.3%2Bpt23cpu-cp310-cp310-linux_x86_64.whl (777 kB)\n",
            "\u001b[2K     \u001b[90m━━━━━━━━━━━━━━━━━━━━━━━━━━━━━━━━━━━━━━━━\u001b[0m \u001b[32m777.1/777.1 kB\u001b[0m \u001b[31m66.8 MB/s\u001b[0m eta \u001b[36m0:00:00\u001b[0m\n",
            "\u001b[?25hCollecting torch_spline_conv\n",
            "  Downloading https://data.pyg.org/whl/torch-2.3.0%2Bcpu/torch_spline_conv-1.2.2%2Bpt23cpu-cp310-cp310-linux_x86_64.whl (215 kB)\n",
            "\u001b[2K     \u001b[90m━━━━━━━━━━━━━━━━━━━━━━━━━━━━━━━━━━━━━━━━\u001b[0m \u001b[32m215.8/215.8 kB\u001b[0m \u001b[31m25.4 MB/s\u001b[0m eta \u001b[36m0:00:00\u001b[0m\n",
            "\u001b[?25hRequirement already satisfied: scipy in /usr/local/lib/python3.10/dist-packages (from torch_sparse) (1.11.4)\n",
            "Requirement already satisfied: numpy<1.28.0,>=1.21.6 in /usr/local/lib/python3.10/dist-packages (from scipy->torch_sparse) (1.25.2)\n",
            "Installing collected packages: torch_spline_conv, torch_scatter, pyg_lib, torch_sparse, torch_cluster\n",
            "Successfully installed pyg_lib-0.4.0+pt23cpu torch_cluster-1.6.3+pt23cpu torch_scatter-2.1.2+pt23cpu torch_sparse-0.6.18+pt23cpu torch_spline_conv-1.2.2+pt23cpu\n",
            "/content/metis-5.1.0\n",
            "rm -rf build/Linux-x86_64\n",
            "mkdir -p build/Linux-x86_64\n",
            "cd build/Linux-x86_64 && cmake /content/metis-5.1.0 -DCMAKE_VERBOSE_MAKEFILE=1 -DGKLIB_PATH=/content/metis-5.1.0/GKlib -DCMAKE_INSTALL_PREFIX=/root/.local/ -DSHARED=1\n",
            "\u001b[0mCMake Deprecation Warning at CMakeLists.txt:1 (cmake_minimum_required):\n",
            "  Compatibility with CMake < 3.5 will be removed from a future version of\n",
            "  CMake.\n",
            "\n",
            "  Update the VERSION argument <min> value or use a ...<max> suffix to tell\n",
            "  CMake that the project does not need compatibility with older versions.\n",
            "\n",
            "\u001b[0m\n",
            "-- The C compiler identification is GNU 11.4.0\n",
            "-- The CXX compiler identification is GNU 11.4.0\n",
            "-- Detecting C compiler ABI info\n",
            "-- Detecting C compiler ABI info - done\n",
            "-- Check for working C compiler: /usr/bin/cc - skipped\n",
            "-- Detecting C compile features\n",
            "-- Detecting C compile features - done\n",
            "-- Detecting CXX compiler ABI info\n",
            "-- Detecting CXX compiler ABI info - done\n",
            "-- Check for working CXX compiler: /usr/bin/c++ - skipped\n",
            "-- Detecting CXX compile features\n",
            "-- Detecting CXX compile features - done\n",
            "-- Looking for execinfo.h\n",
            "-- Looking for execinfo.h - found\n",
            "-- Looking for getline\n",
            "-- Looking for getline - found\n",
            "-- checking for thread-local storage - found\n",
            "-- Configuring done (1.4s)\n",
            "-- Generating done (0.0s)\n",
            "-- Build files have been written to: /content/metis-5.1.0/build/Linux-x86_64\n",
            "make[1]: Entering directory '/content/metis-5.1.0/build/Linux-x86_64'\n",
            "/usr/local/lib/python3.10/dist-packages/cmake/data/bin/cmake -S/content/metis-5.1.0 -B/content/metis-5.1.0/build/Linux-x86_64 --check-build-system CMakeFiles/Makefile.cmake 0\n",
            "/usr/local/lib/python3.10/dist-packages/cmake/data/bin/cmake -E cmake_progress_start /content/metis-5.1.0/build/Linux-x86_64/CMakeFiles /content/metis-5.1.0/build/Linux-x86_64//CMakeFiles/progress.marks\n",
            "make  -f CMakeFiles/Makefile2 all\n",
            "make[2]: Entering directory '/content/metis-5.1.0/build/Linux-x86_64'\n",
            "make  -f libmetis/CMakeFiles/metis.dir/build.make libmetis/CMakeFiles/metis.dir/depend\n",
            "make[3]: Entering directory '/content/metis-5.1.0/build/Linux-x86_64'\n",
            "cd /content/metis-5.1.0/build/Linux-x86_64 && /usr/local/lib/python3.10/dist-packages/cmake/data/bin/cmake -E cmake_depends \"Unix Makefiles\" /content/metis-5.1.0 /content/metis-5.1.0/libmetis /content/metis-5.1.0/build/Linux-x86_64 /content/metis-5.1.0/build/Linux-x86_64/libmetis /content/metis-5.1.0/build/Linux-x86_64/libmetis/CMakeFiles/metis.dir/DependInfo.cmake \"--color=\"\n",
            "make[3]: Leaving directory '/content/metis-5.1.0/build/Linux-x86_64'\n",
            "make  -f libmetis/CMakeFiles/metis.dir/build.make libmetis/CMakeFiles/metis.dir/build\n",
            "make[3]: Entering directory '/content/metis-5.1.0/build/Linux-x86_64'\n",
            "[  1%] \u001b[32mBuilding C object libmetis/CMakeFiles/metis.dir/__/GKlib/b64.c.o\u001b[0m\n",
            "cd /content/metis-5.1.0/build/Linux-x86_64/libmetis && /usr/bin/cc -Dmetis_EXPORTS -I/content/metis-5.1.0/GKlib -I/content/metis-5.1.0/include -I/content/metis-5.1.0/libmetis/. -DLINUX -D_FILE_OFFSET_BITS=64 -std=c99 -fno-strict-aliasing -fPIC -Wall -pedantic -Wno-unused-but-set-variable -Wno-unused-variable -Wno-unknown-pragmas -DNDEBUG -DNDEBUG2 -DHAVE_EXECINFO_H -DHAVE_GETLINE -O3 -fPIC -MD -MT libmetis/CMakeFiles/metis.dir/__/GKlib/b64.c.o -MF CMakeFiles/metis.dir/__/GKlib/b64.c.o.d -o CMakeFiles/metis.dir/__/GKlib/b64.c.o -c /content/metis-5.1.0/GKlib/b64.c\n",
            "[  2%] \u001b[32mBuilding C object libmetis/CMakeFiles/metis.dir/__/GKlib/blas.c.o\u001b[0m\n",
            "cd /content/metis-5.1.0/build/Linux-x86_64/libmetis && /usr/bin/cc -Dmetis_EXPORTS -I/content/metis-5.1.0/GKlib -I/content/metis-5.1.0/include -I/content/metis-5.1.0/libmetis/. -DLINUX -D_FILE_OFFSET_BITS=64 -std=c99 -fno-strict-aliasing -fPIC -Wall -pedantic -Wno-unused-but-set-variable -Wno-unused-variable -Wno-unknown-pragmas -DNDEBUG -DNDEBUG2 -DHAVE_EXECINFO_H -DHAVE_GETLINE -O3 -fPIC -MD -MT libmetis/CMakeFiles/metis.dir/__/GKlib/blas.c.o -MF CMakeFiles/metis.dir/__/GKlib/blas.c.o.d -o CMakeFiles/metis.dir/__/GKlib/blas.c.o -c /content/metis-5.1.0/GKlib/blas.c\n",
            "[  3%] \u001b[32mBuilding C object libmetis/CMakeFiles/metis.dir/__/GKlib/csr.c.o\u001b[0m\n",
            "cd /content/metis-5.1.0/build/Linux-x86_64/libmetis && /usr/bin/cc -Dmetis_EXPORTS -I/content/metis-5.1.0/GKlib -I/content/metis-5.1.0/include -I/content/metis-5.1.0/libmetis/. -DLINUX -D_FILE_OFFSET_BITS=64 -std=c99 -fno-strict-aliasing -fPIC -Wall -pedantic -Wno-unused-but-set-variable -Wno-unused-variable -Wno-unknown-pragmas -DNDEBUG -DNDEBUG2 -DHAVE_EXECINFO_H -DHAVE_GETLINE -O3 -fPIC -MD -MT libmetis/CMakeFiles/metis.dir/__/GKlib/csr.c.o -MF CMakeFiles/metis.dir/__/GKlib/csr.c.o.d -o CMakeFiles/metis.dir/__/GKlib/csr.c.o -c /content/metis-5.1.0/GKlib/csr.c\n",
            "\u001b[01m\u001b[K/content/metis-5.1.0/GKlib/csr.c:\u001b[m\u001b[K In function ‘\u001b[01m\u001b[Kgk_csr_Normalize\u001b[m\u001b[K’:\n",
            "\u001b[01m\u001b[K/content/metis-5.1.0/GKlib/csr.c:1344:14:\u001b[m\u001b[K \u001b[01;35m\u001b[Kwarning: \u001b[m\u001b[Kthis ‘\u001b[01m\u001b[Kif\u001b[m\u001b[K’ clause does not guard... [\u001b[01;35m\u001b[K\u001b]8;;https://gcc.gnu.org/onlinedocs/gcc/Warning-Options.html#index-Wmisleading-indentation\u0007-Wmisleading-indentation\u001b]8;;\u0007\u001b[m\u001b[K]\n",
            " 1344 |         else \u001b[01;35m\u001b[Kif\u001b[m\u001b[K (norm == 1)\n",
            "      |              \u001b[01;35m\u001b[K^~\u001b[m\u001b[K\n",
            "\u001b[01m\u001b[K/content/metis-5.1.0/GKlib/csr.c:1346:11:\u001b[m\u001b[K \u001b[01;36m\u001b[Knote: \u001b[m\u001b[K...this statement, but the latter is misleadingly indented as if it were guarded by the ‘\u001b[01m\u001b[Kif\u001b[m\u001b[K’\n",
            " 1346 |           \u001b[01;36m\u001b[Kfor\u001b[m\u001b[K (j=ptr[i]; j<ptr[i+1]; j++)\n",
            "      |           \u001b[01;36m\u001b[K^~~\u001b[m\u001b[K\n",
            "\u001b[01m\u001b[K/content/metis-5.1.0/GKlib/csr.c:1371:14:\u001b[m\u001b[K \u001b[01;35m\u001b[Kwarning: \u001b[m\u001b[Kthis ‘\u001b[01m\u001b[Kif\u001b[m\u001b[K’ clause does not guard... [\u001b[01;35m\u001b[K\u001b]8;;https://gcc.gnu.org/onlinedocs/gcc/Warning-Options.html#index-Wmisleading-indentation\u0007-Wmisleading-indentation\u001b]8;;\u0007\u001b[m\u001b[K]\n",
            " 1371 |         else \u001b[01;35m\u001b[Kif\u001b[m\u001b[K (norm == 1)\n",
            "      |              \u001b[01;35m\u001b[K^~\u001b[m\u001b[K\n",
            "\u001b[01m\u001b[K/content/metis-5.1.0/GKlib/csr.c:1373:11:\u001b[m\u001b[K \u001b[01;36m\u001b[Knote: \u001b[m\u001b[K...this statement, but the latter is misleadingly indented as if it were guarded by the ‘\u001b[01m\u001b[Kif\u001b[m\u001b[K’\n",
            " 1373 |           \u001b[01;36m\u001b[Kfor\u001b[m\u001b[K (j=ptr[i]; j<ptr[i+1]; j++)\n",
            "      |           \u001b[01;36m\u001b[K^~~\u001b[m\u001b[K\n",
            "[  4%] \u001b[32mBuilding C object libmetis/CMakeFiles/metis.dir/__/GKlib/error.c.o\u001b[0m\n",
            "cd /content/metis-5.1.0/build/Linux-x86_64/libmetis && /usr/bin/cc -Dmetis_EXPORTS -I/content/metis-5.1.0/GKlib -I/content/metis-5.1.0/include -I/content/metis-5.1.0/libmetis/. -DLINUX -D_FILE_OFFSET_BITS=64 -std=c99 -fno-strict-aliasing -fPIC -Wall -pedantic -Wno-unused-but-set-variable -Wno-unused-variable -Wno-unknown-pragmas -DNDEBUG -DNDEBUG2 -DHAVE_EXECINFO_H -DHAVE_GETLINE -O3 -fPIC -MD -MT libmetis/CMakeFiles/metis.dir/__/GKlib/error.c.o -MF CMakeFiles/metis.dir/__/GKlib/error.c.o.d -o CMakeFiles/metis.dir/__/GKlib/error.c.o -c /content/metis-5.1.0/GKlib/error.c\n",
            "[  5%] \u001b[32mBuilding C object libmetis/CMakeFiles/metis.dir/__/GKlib/evaluate.c.o\u001b[0m\n",
            "cd /content/metis-5.1.0/build/Linux-x86_64/libmetis && /usr/bin/cc -Dmetis_EXPORTS -I/content/metis-5.1.0/GKlib -I/content/metis-5.1.0/include -I/content/metis-5.1.0/libmetis/. -DLINUX -D_FILE_OFFSET_BITS=64 -std=c99 -fno-strict-aliasing -fPIC -Wall -pedantic -Wno-unused-but-set-variable -Wno-unused-variable -Wno-unknown-pragmas -DNDEBUG -DNDEBUG2 -DHAVE_EXECINFO_H -DHAVE_GETLINE -O3 -fPIC -MD -MT libmetis/CMakeFiles/metis.dir/__/GKlib/evaluate.c.o -MF CMakeFiles/metis.dir/__/GKlib/evaluate.c.o.d -o CMakeFiles/metis.dir/__/GKlib/evaluate.c.o -c /content/metis-5.1.0/GKlib/evaluate.c\n",
            "[  6%] \u001b[32mBuilding C object libmetis/CMakeFiles/metis.dir/__/GKlib/fkvkselect.c.o\u001b[0m\n",
            "cd /content/metis-5.1.0/build/Linux-x86_64/libmetis && /usr/bin/cc -Dmetis_EXPORTS -I/content/metis-5.1.0/GKlib -I/content/metis-5.1.0/include -I/content/metis-5.1.0/libmetis/. -DLINUX -D_FILE_OFFSET_BITS=64 -std=c99 -fno-strict-aliasing -fPIC -Wall -pedantic -Wno-unused-but-set-variable -Wno-unused-variable -Wno-unknown-pragmas -DNDEBUG -DNDEBUG2 -DHAVE_EXECINFO_H -DHAVE_GETLINE -O3 -fPIC -MD -MT libmetis/CMakeFiles/metis.dir/__/GKlib/fkvkselect.c.o -MF CMakeFiles/metis.dir/__/GKlib/fkvkselect.c.o.d -o CMakeFiles/metis.dir/__/GKlib/fkvkselect.c.o -c /content/metis-5.1.0/GKlib/fkvkselect.c\n",
            "[  7%] \u001b[32mBuilding C object libmetis/CMakeFiles/metis.dir/__/GKlib/fs.c.o\u001b[0m\n",
            "cd /content/metis-5.1.0/build/Linux-x86_64/libmetis && /usr/bin/cc -Dmetis_EXPORTS -I/content/metis-5.1.0/GKlib -I/content/metis-5.1.0/include -I/content/metis-5.1.0/libmetis/. -DLINUX -D_FILE_OFFSET_BITS=64 -std=c99 -fno-strict-aliasing -fPIC -Wall -pedantic -Wno-unused-but-set-variable -Wno-unused-variable -Wno-unknown-pragmas -DNDEBUG -DNDEBUG2 -DHAVE_EXECINFO_H -DHAVE_GETLINE -O3 -fPIC -MD -MT libmetis/CMakeFiles/metis.dir/__/GKlib/fs.c.o -MF CMakeFiles/metis.dir/__/GKlib/fs.c.o.d -o CMakeFiles/metis.dir/__/GKlib/fs.c.o -c /content/metis-5.1.0/GKlib/fs.c\n",
            "[  9%] \u001b[32mBuilding C object libmetis/CMakeFiles/metis.dir/__/GKlib/getopt.c.o\u001b[0m\n",
            "cd /content/metis-5.1.0/build/Linux-x86_64/libmetis && /usr/bin/cc -Dmetis_EXPORTS -I/content/metis-5.1.0/GKlib -I/content/metis-5.1.0/include -I/content/metis-5.1.0/libmetis/. -DLINUX -D_FILE_OFFSET_BITS=64 -std=c99 -fno-strict-aliasing -fPIC -Wall -pedantic -Wno-unused-but-set-variable -Wno-unused-variable -Wno-unknown-pragmas -DNDEBUG -DNDEBUG2 -DHAVE_EXECINFO_H -DHAVE_GETLINE -O3 -fPIC -MD -MT libmetis/CMakeFiles/metis.dir/__/GKlib/getopt.c.o -MF CMakeFiles/metis.dir/__/GKlib/getopt.c.o.d -o CMakeFiles/metis.dir/__/GKlib/getopt.c.o -c /content/metis-5.1.0/GKlib/getopt.c\n",
            "\u001b[01m\u001b[K/content/metis-5.1.0/GKlib/getopt.c:\u001b[m\u001b[K In function ‘\u001b[01m\u001b[Kgk_getopt_internal\u001b[m\u001b[K’:\n",
            "\u001b[01m\u001b[K/content/metis-5.1.0/GKlib/getopt.c:343:5:\u001b[m\u001b[K \u001b[01;35m\u001b[Kwarning: \u001b[m\u001b[Kthis ‘\u001b[01m\u001b[Kif\u001b[m\u001b[K’ clause does not guard... [\u001b[01;35m\u001b[K\u001b]8;;https://gcc.gnu.org/onlinedocs/gcc/Warning-Options.html#index-Wmisleading-indentation\u0007-Wmisleading-indentation\u001b]8;;\u0007\u001b[m\u001b[K]\n",
            "  343 |     \u001b[01;35m\u001b[Kif\u001b[m\u001b[K (gk_optind == 0)\n",
            "      |     \u001b[01;35m\u001b[K^~\u001b[m\u001b[K\n",
            "\u001b[01m\u001b[K/content/metis-5.1.0/GKlib/getopt.c:345:7:\u001b[m\u001b[K \u001b[01;36m\u001b[Knote: \u001b[m\u001b[K...this statement, but the latter is misleadingly indented as if it were guarded by the ‘\u001b[01m\u001b[Kif\u001b[m\u001b[K’\n",
            "  345 |       \u001b[01;36m\u001b[Koptstring\u001b[m\u001b[K = gk_getopt_initialize (argc, argv, optstring);\n",
            "      |       \u001b[01;36m\u001b[K^~~~~~~~~\u001b[m\u001b[K\n",
            "\u001b[01m\u001b[K/content/metis-5.1.0/GKlib/getopt.c:700:9:\u001b[m\u001b[K \u001b[01;35m\u001b[Kwarning: \u001b[m\u001b[Kthis ‘\u001b[01m\u001b[Kelse\u001b[m\u001b[K’ clause does not guard... [\u001b[01;35m\u001b[K\u001b]8;;https://gcc.gnu.org/onlinedocs/gcc/Warning-Options.html#index-Wmisleading-indentation\u0007-Wmisleading-indentation\u001b]8;;\u0007\u001b[m\u001b[K]\n",
            "  700 |         \u001b[01;35m\u001b[Kelse\u001b[m\u001b[K\n",
            "      |         \u001b[01;35m\u001b[K^~~~\u001b[m\u001b[K\n",
            "\u001b[01m\u001b[K/content/metis-5.1.0/GKlib/getopt.c:703:11:\u001b[m\u001b[K \u001b[01;36m\u001b[Knote: \u001b[m\u001b[K...this statement, but the latter is misleadingly indented as if it were guarded by the ‘\u001b[01m\u001b[Kelse\u001b[m\u001b[K’\n",
            "  703 |           \u001b[01;36m\u001b[Knextchar\u001b[m\u001b[K = NULL;\n",
            "      |           \u001b[01;36m\u001b[K^~~~~~~~\u001b[m\u001b[K\n",
            "[ 10%] \u001b[32mBuilding C object libmetis/CMakeFiles/metis.dir/__/GKlib/gkregex.c.o\u001b[0m\n",
            "cd /content/metis-5.1.0/build/Linux-x86_64/libmetis && /usr/bin/cc -Dmetis_EXPORTS -I/content/metis-5.1.0/GKlib -I/content/metis-5.1.0/include -I/content/metis-5.1.0/libmetis/. -DLINUX -D_FILE_OFFSET_BITS=64 -std=c99 -fno-strict-aliasing -fPIC -Wall -pedantic -Wno-unused-but-set-variable -Wno-unused-variable -Wno-unknown-pragmas -DNDEBUG -DNDEBUG2 -DHAVE_EXECINFO_H -DHAVE_GETLINE -O3 -fPIC -MD -MT libmetis/CMakeFiles/metis.dir/__/GKlib/gkregex.c.o -MF CMakeFiles/metis.dir/__/GKlib/gkregex.c.o.d -o CMakeFiles/metis.dir/__/GKlib/gkregex.c.o -c /content/metis-5.1.0/GKlib/gkregex.c\n",
            "[ 11%] \u001b[32mBuilding C object libmetis/CMakeFiles/metis.dir/__/GKlib/graph.c.o\u001b[0m\n",
            "cd /content/metis-5.1.0/build/Linux-x86_64/libmetis && /usr/bin/cc -Dmetis_EXPORTS -I/content/metis-5.1.0/GKlib -I/content/metis-5.1.0/include -I/content/metis-5.1.0/libmetis/. -DLINUX -D_FILE_OFFSET_BITS=64 -std=c99 -fno-strict-aliasing -fPIC -Wall -pedantic -Wno-unused-but-set-variable -Wno-unused-variable -Wno-unknown-pragmas -DNDEBUG -DNDEBUG2 -DHAVE_EXECINFO_H -DHAVE_GETLINE -O3 -fPIC -MD -MT libmetis/CMakeFiles/metis.dir/__/GKlib/graph.c.o -MF CMakeFiles/metis.dir/__/GKlib/graph.c.o.d -o CMakeFiles/metis.dir/__/GKlib/graph.c.o -c /content/metis-5.1.0/GKlib/graph.c\n",
            "[ 12%] \u001b[32mBuilding C object libmetis/CMakeFiles/metis.dir/__/GKlib/htable.c.o\u001b[0m\n",
            "cd /content/metis-5.1.0/build/Linux-x86_64/libmetis && /usr/bin/cc -Dmetis_EXPORTS -I/content/metis-5.1.0/GKlib -I/content/metis-5.1.0/include -I/content/metis-5.1.0/libmetis/. -DLINUX -D_FILE_OFFSET_BITS=64 -std=c99 -fno-strict-aliasing -fPIC -Wall -pedantic -Wno-unused-but-set-variable -Wno-unused-variable -Wno-unknown-pragmas -DNDEBUG -DNDEBUG2 -DHAVE_EXECINFO_H -DHAVE_GETLINE -O3 -fPIC -MD -MT libmetis/CMakeFiles/metis.dir/__/GKlib/htable.c.o -MF CMakeFiles/metis.dir/__/GKlib/htable.c.o.d -o CMakeFiles/metis.dir/__/GKlib/htable.c.o -c /content/metis-5.1.0/GKlib/htable.c\n",
            "[ 13%] \u001b[32mBuilding C object libmetis/CMakeFiles/metis.dir/__/GKlib/io.c.o\u001b[0m\n",
            "cd /content/metis-5.1.0/build/Linux-x86_64/libmetis && /usr/bin/cc -Dmetis_EXPORTS -I/content/metis-5.1.0/GKlib -I/content/metis-5.1.0/include -I/content/metis-5.1.0/libmetis/. -DLINUX -D_FILE_OFFSET_BITS=64 -std=c99 -fno-strict-aliasing -fPIC -Wall -pedantic -Wno-unused-but-set-variable -Wno-unused-variable -Wno-unknown-pragmas -DNDEBUG -DNDEBUG2 -DHAVE_EXECINFO_H -DHAVE_GETLINE -O3 -fPIC -MD -MT libmetis/CMakeFiles/metis.dir/__/GKlib/io.c.o -MF CMakeFiles/metis.dir/__/GKlib/io.c.o.d -o CMakeFiles/metis.dir/__/GKlib/io.c.o -c /content/metis-5.1.0/GKlib/io.c\n",
            "[ 14%] \u001b[32mBuilding C object libmetis/CMakeFiles/metis.dir/__/GKlib/itemsets.c.o\u001b[0m\n",
            "cd /content/metis-5.1.0/build/Linux-x86_64/libmetis && /usr/bin/cc -Dmetis_EXPORTS -I/content/metis-5.1.0/GKlib -I/content/metis-5.1.0/include -I/content/metis-5.1.0/libmetis/. -DLINUX -D_FILE_OFFSET_BITS=64 -std=c99 -fno-strict-aliasing -fPIC -Wall -pedantic -Wno-unused-but-set-variable -Wno-unused-variable -Wno-unknown-pragmas -DNDEBUG -DNDEBUG2 -DHAVE_EXECINFO_H -DHAVE_GETLINE -O3 -fPIC -MD -MT libmetis/CMakeFiles/metis.dir/__/GKlib/itemsets.c.o -MF CMakeFiles/metis.dir/__/GKlib/itemsets.c.o.d -o CMakeFiles/metis.dir/__/GKlib/itemsets.c.o -c /content/metis-5.1.0/GKlib/itemsets.c\n",
            "[ 15%] \u001b[32mBuilding C object libmetis/CMakeFiles/metis.dir/__/GKlib/mcore.c.o\u001b[0m\n",
            "cd /content/metis-5.1.0/build/Linux-x86_64/libmetis && /usr/bin/cc -Dmetis_EXPORTS -I/content/metis-5.1.0/GKlib -I/content/metis-5.1.0/include -I/content/metis-5.1.0/libmetis/. -DLINUX -D_FILE_OFFSET_BITS=64 -std=c99 -fno-strict-aliasing -fPIC -Wall -pedantic -Wno-unused-but-set-variable -Wno-unused-variable -Wno-unknown-pragmas -DNDEBUG -DNDEBUG2 -DHAVE_EXECINFO_H -DHAVE_GETLINE -O3 -fPIC -MD -MT libmetis/CMakeFiles/metis.dir/__/GKlib/mcore.c.o -MF CMakeFiles/metis.dir/__/GKlib/mcore.c.o.d -o CMakeFiles/metis.dir/__/GKlib/mcore.c.o -c /content/metis-5.1.0/GKlib/mcore.c\n",
            "[ 17%] \u001b[32mBuilding C object libmetis/CMakeFiles/metis.dir/__/GKlib/memory.c.o\u001b[0m\n",
            "cd /content/metis-5.1.0/build/Linux-x86_64/libmetis && /usr/bin/cc -Dmetis_EXPORTS -I/content/metis-5.1.0/GKlib -I/content/metis-5.1.0/include -I/content/metis-5.1.0/libmetis/. -DLINUX -D_FILE_OFFSET_BITS=64 -std=c99 -fno-strict-aliasing -fPIC -Wall -pedantic -Wno-unused-but-set-variable -Wno-unused-variable -Wno-unknown-pragmas -DNDEBUG -DNDEBUG2 -DHAVE_EXECINFO_H -DHAVE_GETLINE -O3 -fPIC -MD -MT libmetis/CMakeFiles/metis.dir/__/GKlib/memory.c.o -MF CMakeFiles/metis.dir/__/GKlib/memory.c.o.d -o CMakeFiles/metis.dir/__/GKlib/memory.c.o -c /content/metis-5.1.0/GKlib/memory.c\n",
            "[ 18%] \u001b[32mBuilding C object libmetis/CMakeFiles/metis.dir/__/GKlib/omp.c.o\u001b[0m\n",
            "cd /content/metis-5.1.0/build/Linux-x86_64/libmetis && /usr/bin/cc -Dmetis_EXPORTS -I/content/metis-5.1.0/GKlib -I/content/metis-5.1.0/include -I/content/metis-5.1.0/libmetis/. -DLINUX -D_FILE_OFFSET_BITS=64 -std=c99 -fno-strict-aliasing -fPIC -Wall -pedantic -Wno-unused-but-set-variable -Wno-unused-variable -Wno-unknown-pragmas -DNDEBUG -DNDEBUG2 -DHAVE_EXECINFO_H -DHAVE_GETLINE -O3 -fPIC -MD -MT libmetis/CMakeFiles/metis.dir/__/GKlib/omp.c.o -MF CMakeFiles/metis.dir/__/GKlib/omp.c.o.d -o CMakeFiles/metis.dir/__/GKlib/omp.c.o -c /content/metis-5.1.0/GKlib/omp.c\n",
            "[ 19%] \u001b[32mBuilding C object libmetis/CMakeFiles/metis.dir/__/GKlib/pdb.c.o\u001b[0m\n",
            "cd /content/metis-5.1.0/build/Linux-x86_64/libmetis && /usr/bin/cc -Dmetis_EXPORTS -I/content/metis-5.1.0/GKlib -I/content/metis-5.1.0/include -I/content/metis-5.1.0/libmetis/. -DLINUX -D_FILE_OFFSET_BITS=64 -std=c99 -fno-strict-aliasing -fPIC -Wall -pedantic -Wno-unused-but-set-variable -Wno-unused-variable -Wno-unknown-pragmas -DNDEBUG -DNDEBUG2 -DHAVE_EXECINFO_H -DHAVE_GETLINE -O3 -fPIC -MD -MT libmetis/CMakeFiles/metis.dir/__/GKlib/pdb.c.o -MF CMakeFiles/metis.dir/__/GKlib/pdb.c.o.d -o CMakeFiles/metis.dir/__/GKlib/pdb.c.o -c /content/metis-5.1.0/GKlib/pdb.c\n",
            "[ 20%] \u001b[32mBuilding C object libmetis/CMakeFiles/metis.dir/__/GKlib/pqueue.c.o\u001b[0m\n",
            "cd /content/metis-5.1.0/build/Linux-x86_64/libmetis && /usr/bin/cc -Dmetis_EXPORTS -I/content/metis-5.1.0/GKlib -I/content/metis-5.1.0/include -I/content/metis-5.1.0/libmetis/. -DLINUX -D_FILE_OFFSET_BITS=64 -std=c99 -fno-strict-aliasing -fPIC -Wall -pedantic -Wno-unused-but-set-variable -Wno-unused-variable -Wno-unknown-pragmas -DNDEBUG -DNDEBUG2 -DHAVE_EXECINFO_H -DHAVE_GETLINE -O3 -fPIC -MD -MT libmetis/CMakeFiles/metis.dir/__/GKlib/pqueue.c.o -MF CMakeFiles/metis.dir/__/GKlib/pqueue.c.o.d -o CMakeFiles/metis.dir/__/GKlib/pqueue.c.o -c /content/metis-5.1.0/GKlib/pqueue.c\n",
            "[ 21%] \u001b[32mBuilding C object libmetis/CMakeFiles/metis.dir/__/GKlib/random.c.o\u001b[0m\n",
            "cd /content/metis-5.1.0/build/Linux-x86_64/libmetis && /usr/bin/cc -Dmetis_EXPORTS -I/content/metis-5.1.0/GKlib -I/content/metis-5.1.0/include -I/content/metis-5.1.0/libmetis/. -DLINUX -D_FILE_OFFSET_BITS=64 -std=c99 -fno-strict-aliasing -fPIC -Wall -pedantic -Wno-unused-but-set-variable -Wno-unused-variable -Wno-unknown-pragmas -DNDEBUG -DNDEBUG2 -DHAVE_EXECINFO_H -DHAVE_GETLINE -O3 -fPIC -MD -MT libmetis/CMakeFiles/metis.dir/__/GKlib/random.c.o -MF CMakeFiles/metis.dir/__/GKlib/random.c.o.d -o CMakeFiles/metis.dir/__/GKlib/random.c.o -c /content/metis-5.1.0/GKlib/random.c\n",
            "[ 22%] \u001b[32mBuilding C object libmetis/CMakeFiles/metis.dir/__/GKlib/rw.c.o\u001b[0m\n",
            "cd /content/metis-5.1.0/build/Linux-x86_64/libmetis && /usr/bin/cc -Dmetis_EXPORTS -I/content/metis-5.1.0/GKlib -I/content/metis-5.1.0/include -I/content/metis-5.1.0/libmetis/. -DLINUX -D_FILE_OFFSET_BITS=64 -std=c99 -fno-strict-aliasing -fPIC -Wall -pedantic -Wno-unused-but-set-variable -Wno-unused-variable -Wno-unknown-pragmas -DNDEBUG -DNDEBUG2 -DHAVE_EXECINFO_H -DHAVE_GETLINE -O3 -fPIC -MD -MT libmetis/CMakeFiles/metis.dir/__/GKlib/rw.c.o -MF CMakeFiles/metis.dir/__/GKlib/rw.c.o.d -o CMakeFiles/metis.dir/__/GKlib/rw.c.o -c /content/metis-5.1.0/GKlib/rw.c\n",
            "[ 23%] \u001b[32mBuilding C object libmetis/CMakeFiles/metis.dir/__/GKlib/seq.c.o\u001b[0m\n",
            "cd /content/metis-5.1.0/build/Linux-x86_64/libmetis && /usr/bin/cc -Dmetis_EXPORTS -I/content/metis-5.1.0/GKlib -I/content/metis-5.1.0/include -I/content/metis-5.1.0/libmetis/. -DLINUX -D_FILE_OFFSET_BITS=64 -std=c99 -fno-strict-aliasing -fPIC -Wall -pedantic -Wno-unused-but-set-variable -Wno-unused-variable -Wno-unknown-pragmas -DNDEBUG -DNDEBUG2 -DHAVE_EXECINFO_H -DHAVE_GETLINE -O3 -fPIC -MD -MT libmetis/CMakeFiles/metis.dir/__/GKlib/seq.c.o -MF CMakeFiles/metis.dir/__/GKlib/seq.c.o.d -o CMakeFiles/metis.dir/__/GKlib/seq.c.o -c /content/metis-5.1.0/GKlib/seq.c\n",
            "[ 25%] \u001b[32mBuilding C object libmetis/CMakeFiles/metis.dir/__/GKlib/sort.c.o\u001b[0m\n",
            "cd /content/metis-5.1.0/build/Linux-x86_64/libmetis && /usr/bin/cc -Dmetis_EXPORTS -I/content/metis-5.1.0/GKlib -I/content/metis-5.1.0/include -I/content/metis-5.1.0/libmetis/. -DLINUX -D_FILE_OFFSET_BITS=64 -std=c99 -fno-strict-aliasing -fPIC -Wall -pedantic -Wno-unused-but-set-variable -Wno-unused-variable -Wno-unknown-pragmas -DNDEBUG -DNDEBUG2 -DHAVE_EXECINFO_H -DHAVE_GETLINE -O3 -fPIC -MD -MT libmetis/CMakeFiles/metis.dir/__/GKlib/sort.c.o -MF CMakeFiles/metis.dir/__/GKlib/sort.c.o.d -o CMakeFiles/metis.dir/__/GKlib/sort.c.o -c /content/metis-5.1.0/GKlib/sort.c\n",
            "[ 26%] \u001b[32mBuilding C object libmetis/CMakeFiles/metis.dir/__/GKlib/string.c.o\u001b[0m\n",
            "cd /content/metis-5.1.0/build/Linux-x86_64/libmetis && /usr/bin/cc -Dmetis_EXPORTS -I/content/metis-5.1.0/GKlib -I/content/metis-5.1.0/include -I/content/metis-5.1.0/libmetis/. -DLINUX -D_FILE_OFFSET_BITS=64 -std=c99 -fno-strict-aliasing -fPIC -Wall -pedantic -Wno-unused-but-set-variable -Wno-unused-variable -Wno-unknown-pragmas -DNDEBUG -DNDEBUG2 -DHAVE_EXECINFO_H -DHAVE_GETLINE -O3 -fPIC -MD -MT libmetis/CMakeFiles/metis.dir/__/GKlib/string.c.o -MF CMakeFiles/metis.dir/__/GKlib/string.c.o.d -o CMakeFiles/metis.dir/__/GKlib/string.c.o -c /content/metis-5.1.0/GKlib/string.c\n",
            "[ 27%] \u001b[32mBuilding C object libmetis/CMakeFiles/metis.dir/__/GKlib/timers.c.o\u001b[0m\n",
            "cd /content/metis-5.1.0/build/Linux-x86_64/libmetis && /usr/bin/cc -Dmetis_EXPORTS -I/content/metis-5.1.0/GKlib -I/content/metis-5.1.0/include -I/content/metis-5.1.0/libmetis/. -DLINUX -D_FILE_OFFSET_BITS=64 -std=c99 -fno-strict-aliasing -fPIC -Wall -pedantic -Wno-unused-but-set-variable -Wno-unused-variable -Wno-unknown-pragmas -DNDEBUG -DNDEBUG2 -DHAVE_EXECINFO_H -DHAVE_GETLINE -O3 -fPIC -MD -MT libmetis/CMakeFiles/metis.dir/__/GKlib/timers.c.o -MF CMakeFiles/metis.dir/__/GKlib/timers.c.o.d -o CMakeFiles/metis.dir/__/GKlib/timers.c.o -c /content/metis-5.1.0/GKlib/timers.c\n",
            "[ 28%] \u001b[32mBuilding C object libmetis/CMakeFiles/metis.dir/__/GKlib/tokenizer.c.o\u001b[0m\n",
            "cd /content/metis-5.1.0/build/Linux-x86_64/libmetis && /usr/bin/cc -Dmetis_EXPORTS -I/content/metis-5.1.0/GKlib -I/content/metis-5.1.0/include -I/content/metis-5.1.0/libmetis/. -DLINUX -D_FILE_OFFSET_BITS=64 -std=c99 -fno-strict-aliasing -fPIC -Wall -pedantic -Wno-unused-but-set-variable -Wno-unused-variable -Wno-unknown-pragmas -DNDEBUG -DNDEBUG2 -DHAVE_EXECINFO_H -DHAVE_GETLINE -O3 -fPIC -MD -MT libmetis/CMakeFiles/metis.dir/__/GKlib/tokenizer.c.o -MF CMakeFiles/metis.dir/__/GKlib/tokenizer.c.o.d -o CMakeFiles/metis.dir/__/GKlib/tokenizer.c.o -c /content/metis-5.1.0/GKlib/tokenizer.c\n",
            "[ 29%] \u001b[32mBuilding C object libmetis/CMakeFiles/metis.dir/__/GKlib/util.c.o\u001b[0m\n",
            "cd /content/metis-5.1.0/build/Linux-x86_64/libmetis && /usr/bin/cc -Dmetis_EXPORTS -I/content/metis-5.1.0/GKlib -I/content/metis-5.1.0/include -I/content/metis-5.1.0/libmetis/. -DLINUX -D_FILE_OFFSET_BITS=64 -std=c99 -fno-strict-aliasing -fPIC -Wall -pedantic -Wno-unused-but-set-variable -Wno-unused-variable -Wno-unknown-pragmas -DNDEBUG -DNDEBUG2 -DHAVE_EXECINFO_H -DHAVE_GETLINE -O3 -fPIC -MD -MT libmetis/CMakeFiles/metis.dir/__/GKlib/util.c.o -MF CMakeFiles/metis.dir/__/GKlib/util.c.o.d -o CMakeFiles/metis.dir/__/GKlib/util.c.o -c /content/metis-5.1.0/GKlib/util.c\n",
            "[ 30%] \u001b[32mBuilding C object libmetis/CMakeFiles/metis.dir/auxapi.c.o\u001b[0m\n",
            "cd /content/metis-5.1.0/build/Linux-x86_64/libmetis && /usr/bin/cc -Dmetis_EXPORTS -I/content/metis-5.1.0/GKlib -I/content/metis-5.1.0/include -I/content/metis-5.1.0/libmetis/. -DLINUX -D_FILE_OFFSET_BITS=64 -std=c99 -fno-strict-aliasing -fPIC -Wall -pedantic -Wno-unused-but-set-variable -Wno-unused-variable -Wno-unknown-pragmas -DNDEBUG -DNDEBUG2 -DHAVE_EXECINFO_H -DHAVE_GETLINE -O3 -fPIC -MD -MT libmetis/CMakeFiles/metis.dir/auxapi.c.o -MF CMakeFiles/metis.dir/auxapi.c.o.d -o CMakeFiles/metis.dir/auxapi.c.o -c /content/metis-5.1.0/libmetis/auxapi.c\n",
            "[ 31%] \u001b[32mBuilding C object libmetis/CMakeFiles/metis.dir/balance.c.o\u001b[0m\n",
            "cd /content/metis-5.1.0/build/Linux-x86_64/libmetis && /usr/bin/cc -Dmetis_EXPORTS -I/content/metis-5.1.0/GKlib -I/content/metis-5.1.0/include -I/content/metis-5.1.0/libmetis/. -DLINUX -D_FILE_OFFSET_BITS=64 -std=c99 -fno-strict-aliasing -fPIC -Wall -pedantic -Wno-unused-but-set-variable -Wno-unused-variable -Wno-unknown-pragmas -DNDEBUG -DNDEBUG2 -DHAVE_EXECINFO_H -DHAVE_GETLINE -O3 -fPIC -MD -MT libmetis/CMakeFiles/metis.dir/balance.c.o -MF CMakeFiles/metis.dir/balance.c.o.d -o CMakeFiles/metis.dir/balance.c.o -c /content/metis-5.1.0/libmetis/balance.c\n",
            "[ 32%] \u001b[32mBuilding C object libmetis/CMakeFiles/metis.dir/bucketsort.c.o\u001b[0m\n",
            "cd /content/metis-5.1.0/build/Linux-x86_64/libmetis && /usr/bin/cc -Dmetis_EXPORTS -I/content/metis-5.1.0/GKlib -I/content/metis-5.1.0/include -I/content/metis-5.1.0/libmetis/. -DLINUX -D_FILE_OFFSET_BITS=64 -std=c99 -fno-strict-aliasing -fPIC -Wall -pedantic -Wno-unused-but-set-variable -Wno-unused-variable -Wno-unknown-pragmas -DNDEBUG -DNDEBUG2 -DHAVE_EXECINFO_H -DHAVE_GETLINE -O3 -fPIC -MD -MT libmetis/CMakeFiles/metis.dir/bucketsort.c.o -MF CMakeFiles/metis.dir/bucketsort.c.o.d -o CMakeFiles/metis.dir/bucketsort.c.o -c /content/metis-5.1.0/libmetis/bucketsort.c\n",
            "[ 34%] \u001b[32mBuilding C object libmetis/CMakeFiles/metis.dir/checkgraph.c.o\u001b[0m\n",
            "cd /content/metis-5.1.0/build/Linux-x86_64/libmetis && /usr/bin/cc -Dmetis_EXPORTS -I/content/metis-5.1.0/GKlib -I/content/metis-5.1.0/include -I/content/metis-5.1.0/libmetis/. -DLINUX -D_FILE_OFFSET_BITS=64 -std=c99 -fno-strict-aliasing -fPIC -Wall -pedantic -Wno-unused-but-set-variable -Wno-unused-variable -Wno-unknown-pragmas -DNDEBUG -DNDEBUG2 -DHAVE_EXECINFO_H -DHAVE_GETLINE -O3 -fPIC -MD -MT libmetis/CMakeFiles/metis.dir/checkgraph.c.o -MF CMakeFiles/metis.dir/checkgraph.c.o.d -o CMakeFiles/metis.dir/checkgraph.c.o -c /content/metis-5.1.0/libmetis/checkgraph.c\n",
            "[ 35%] \u001b[32mBuilding C object libmetis/CMakeFiles/metis.dir/coarsen.c.o\u001b[0m\n",
            "cd /content/metis-5.1.0/build/Linux-x86_64/libmetis && /usr/bin/cc -Dmetis_EXPORTS -I/content/metis-5.1.0/GKlib -I/content/metis-5.1.0/include -I/content/metis-5.1.0/libmetis/. -DLINUX -D_FILE_OFFSET_BITS=64 -std=c99 -fno-strict-aliasing -fPIC -Wall -pedantic -Wno-unused-but-set-variable -Wno-unused-variable -Wno-unknown-pragmas -DNDEBUG -DNDEBUG2 -DHAVE_EXECINFO_H -DHAVE_GETLINE -O3 -fPIC -MD -MT libmetis/CMakeFiles/metis.dir/coarsen.c.o -MF CMakeFiles/metis.dir/coarsen.c.o.d -o CMakeFiles/metis.dir/coarsen.c.o -c /content/metis-5.1.0/libmetis/coarsen.c\n",
            "[ 36%] \u001b[32mBuilding C object libmetis/CMakeFiles/metis.dir/compress.c.o\u001b[0m\n",
            "cd /content/metis-5.1.0/build/Linux-x86_64/libmetis && /usr/bin/cc -Dmetis_EXPORTS -I/content/metis-5.1.0/GKlib -I/content/metis-5.1.0/include -I/content/metis-5.1.0/libmetis/. -DLINUX -D_FILE_OFFSET_BITS=64 -std=c99 -fno-strict-aliasing -fPIC -Wall -pedantic -Wno-unused-but-set-variable -Wno-unused-variable -Wno-unknown-pragmas -DNDEBUG -DNDEBUG2 -DHAVE_EXECINFO_H -DHAVE_GETLINE -O3 -fPIC -MD -MT libmetis/CMakeFiles/metis.dir/compress.c.o -MF CMakeFiles/metis.dir/compress.c.o.d -o CMakeFiles/metis.dir/compress.c.o -c /content/metis-5.1.0/libmetis/compress.c\n",
            "[ 37%] \u001b[32mBuilding C object libmetis/CMakeFiles/metis.dir/contig.c.o\u001b[0m\n",
            "cd /content/metis-5.1.0/build/Linux-x86_64/libmetis && /usr/bin/cc -Dmetis_EXPORTS -I/content/metis-5.1.0/GKlib -I/content/metis-5.1.0/include -I/content/metis-5.1.0/libmetis/. -DLINUX -D_FILE_OFFSET_BITS=64 -std=c99 -fno-strict-aliasing -fPIC -Wall -pedantic -Wno-unused-but-set-variable -Wno-unused-variable -Wno-unknown-pragmas -DNDEBUG -DNDEBUG2 -DHAVE_EXECINFO_H -DHAVE_GETLINE -O3 -fPIC -MD -MT libmetis/CMakeFiles/metis.dir/contig.c.o -MF CMakeFiles/metis.dir/contig.c.o.d -o CMakeFiles/metis.dir/contig.c.o -c /content/metis-5.1.0/libmetis/contig.c\n",
            "[ 38%] \u001b[32mBuilding C object libmetis/CMakeFiles/metis.dir/debug.c.o\u001b[0m\n",
            "cd /content/metis-5.1.0/build/Linux-x86_64/libmetis && /usr/bin/cc -Dmetis_EXPORTS -I/content/metis-5.1.0/GKlib -I/content/metis-5.1.0/include -I/content/metis-5.1.0/libmetis/. -DLINUX -D_FILE_OFFSET_BITS=64 -std=c99 -fno-strict-aliasing -fPIC -Wall -pedantic -Wno-unused-but-set-variable -Wno-unused-variable -Wno-unknown-pragmas -DNDEBUG -DNDEBUG2 -DHAVE_EXECINFO_H -DHAVE_GETLINE -O3 -fPIC -MD -MT libmetis/CMakeFiles/metis.dir/debug.c.o -MF CMakeFiles/metis.dir/debug.c.o.d -o CMakeFiles/metis.dir/debug.c.o -c /content/metis-5.1.0/libmetis/debug.c\n",
            "[ 39%] \u001b[32mBuilding C object libmetis/CMakeFiles/metis.dir/fm.c.o\u001b[0m\n",
            "cd /content/metis-5.1.0/build/Linux-x86_64/libmetis && /usr/bin/cc -Dmetis_EXPORTS -I/content/metis-5.1.0/GKlib -I/content/metis-5.1.0/include -I/content/metis-5.1.0/libmetis/. -DLINUX -D_FILE_OFFSET_BITS=64 -std=c99 -fno-strict-aliasing -fPIC -Wall -pedantic -Wno-unused-but-set-variable -Wno-unused-variable -Wno-unknown-pragmas -DNDEBUG -DNDEBUG2 -DHAVE_EXECINFO_H -DHAVE_GETLINE -O3 -fPIC -MD -MT libmetis/CMakeFiles/metis.dir/fm.c.o -MF CMakeFiles/metis.dir/fm.c.o.d -o CMakeFiles/metis.dir/fm.c.o -c /content/metis-5.1.0/libmetis/fm.c\n",
            "[ 40%] \u001b[32mBuilding C object libmetis/CMakeFiles/metis.dir/fortran.c.o\u001b[0m\n",
            "cd /content/metis-5.1.0/build/Linux-x86_64/libmetis && /usr/bin/cc -Dmetis_EXPORTS -I/content/metis-5.1.0/GKlib -I/content/metis-5.1.0/include -I/content/metis-5.1.0/libmetis/. -DLINUX -D_FILE_OFFSET_BITS=64 -std=c99 -fno-strict-aliasing -fPIC -Wall -pedantic -Wno-unused-but-set-variable -Wno-unused-variable -Wno-unknown-pragmas -DNDEBUG -DNDEBUG2 -DHAVE_EXECINFO_H -DHAVE_GETLINE -O3 -fPIC -MD -MT libmetis/CMakeFiles/metis.dir/fortran.c.o -MF CMakeFiles/metis.dir/fortran.c.o.d -o CMakeFiles/metis.dir/fortran.c.o -c /content/metis-5.1.0/libmetis/fortran.c\n",
            "[ 42%] \u001b[32mBuilding C object libmetis/CMakeFiles/metis.dir/frename.c.o\u001b[0m\n",
            "cd /content/metis-5.1.0/build/Linux-x86_64/libmetis && /usr/bin/cc -Dmetis_EXPORTS -I/content/metis-5.1.0/GKlib -I/content/metis-5.1.0/include -I/content/metis-5.1.0/libmetis/. -DLINUX -D_FILE_OFFSET_BITS=64 -std=c99 -fno-strict-aliasing -fPIC -Wall -pedantic -Wno-unused-but-set-variable -Wno-unused-variable -Wno-unknown-pragmas -DNDEBUG -DNDEBUG2 -DHAVE_EXECINFO_H -DHAVE_GETLINE -O3 -fPIC -MD -MT libmetis/CMakeFiles/metis.dir/frename.c.o -MF CMakeFiles/metis.dir/frename.c.o.d -o CMakeFiles/metis.dir/frename.c.o -c /content/metis-5.1.0/libmetis/frename.c\n",
            "[ 43%] \u001b[32mBuilding C object libmetis/CMakeFiles/metis.dir/gklib.c.o\u001b[0m\n",
            "cd /content/metis-5.1.0/build/Linux-x86_64/libmetis && /usr/bin/cc -Dmetis_EXPORTS -I/content/metis-5.1.0/GKlib -I/content/metis-5.1.0/include -I/content/metis-5.1.0/libmetis/. -DLINUX -D_FILE_OFFSET_BITS=64 -std=c99 -fno-strict-aliasing -fPIC -Wall -pedantic -Wno-unused-but-set-variable -Wno-unused-variable -Wno-unknown-pragmas -DNDEBUG -DNDEBUG2 -DHAVE_EXECINFO_H -DHAVE_GETLINE -O3 -fPIC -MD -MT libmetis/CMakeFiles/metis.dir/gklib.c.o -MF CMakeFiles/metis.dir/gklib.c.o.d -o CMakeFiles/metis.dir/gklib.c.o -c /content/metis-5.1.0/libmetis/gklib.c\n",
            "[ 44%] \u001b[32mBuilding C object libmetis/CMakeFiles/metis.dir/graph.c.o\u001b[0m\n",
            "cd /content/metis-5.1.0/build/Linux-x86_64/libmetis && /usr/bin/cc -Dmetis_EXPORTS -I/content/metis-5.1.0/GKlib -I/content/metis-5.1.0/include -I/content/metis-5.1.0/libmetis/. -DLINUX -D_FILE_OFFSET_BITS=64 -std=c99 -fno-strict-aliasing -fPIC -Wall -pedantic -Wno-unused-but-set-variable -Wno-unused-variable -Wno-unknown-pragmas -DNDEBUG -DNDEBUG2 -DHAVE_EXECINFO_H -DHAVE_GETLINE -O3 -fPIC -MD -MT libmetis/CMakeFiles/metis.dir/graph.c.o -MF CMakeFiles/metis.dir/graph.c.o.d -o CMakeFiles/metis.dir/graph.c.o -c /content/metis-5.1.0/libmetis/graph.c\n",
            "[ 45%] \u001b[32mBuilding C object libmetis/CMakeFiles/metis.dir/initpart.c.o\u001b[0m\n",
            "cd /content/metis-5.1.0/build/Linux-x86_64/libmetis && /usr/bin/cc -Dmetis_EXPORTS -I/content/metis-5.1.0/GKlib -I/content/metis-5.1.0/include -I/content/metis-5.1.0/libmetis/. -DLINUX -D_FILE_OFFSET_BITS=64 -std=c99 -fno-strict-aliasing -fPIC -Wall -pedantic -Wno-unused-but-set-variable -Wno-unused-variable -Wno-unknown-pragmas -DNDEBUG -DNDEBUG2 -DHAVE_EXECINFO_H -DHAVE_GETLINE -O3 -fPIC -MD -MT libmetis/CMakeFiles/metis.dir/initpart.c.o -MF CMakeFiles/metis.dir/initpart.c.o.d -o CMakeFiles/metis.dir/initpart.c.o -c /content/metis-5.1.0/libmetis/initpart.c\n",
            "[ 46%] \u001b[32mBuilding C object libmetis/CMakeFiles/metis.dir/kmetis.c.o\u001b[0m\n",
            "cd /content/metis-5.1.0/build/Linux-x86_64/libmetis && /usr/bin/cc -Dmetis_EXPORTS -I/content/metis-5.1.0/GKlib -I/content/metis-5.1.0/include -I/content/metis-5.1.0/libmetis/. -DLINUX -D_FILE_OFFSET_BITS=64 -std=c99 -fno-strict-aliasing -fPIC -Wall -pedantic -Wno-unused-but-set-variable -Wno-unused-variable -Wno-unknown-pragmas -DNDEBUG -DNDEBUG2 -DHAVE_EXECINFO_H -DHAVE_GETLINE -O3 -fPIC -MD -MT libmetis/CMakeFiles/metis.dir/kmetis.c.o -MF CMakeFiles/metis.dir/kmetis.c.o.d -o CMakeFiles/metis.dir/kmetis.c.o -c /content/metis-5.1.0/libmetis/kmetis.c\n",
            "[ 47%] \u001b[32mBuilding C object libmetis/CMakeFiles/metis.dir/kwayfm.c.o\u001b[0m\n",
            "cd /content/metis-5.1.0/build/Linux-x86_64/libmetis && /usr/bin/cc -Dmetis_EXPORTS -I/content/metis-5.1.0/GKlib -I/content/metis-5.1.0/include -I/content/metis-5.1.0/libmetis/. -DLINUX -D_FILE_OFFSET_BITS=64 -std=c99 -fno-strict-aliasing -fPIC -Wall -pedantic -Wno-unused-but-set-variable -Wno-unused-variable -Wno-unknown-pragmas -DNDEBUG -DNDEBUG2 -DHAVE_EXECINFO_H -DHAVE_GETLINE -O3 -fPIC -MD -MT libmetis/CMakeFiles/metis.dir/kwayfm.c.o -MF CMakeFiles/metis.dir/kwayfm.c.o.d -o CMakeFiles/metis.dir/kwayfm.c.o -c /content/metis-5.1.0/libmetis/kwayfm.c\n",
            "[ 48%] \u001b[32mBuilding C object libmetis/CMakeFiles/metis.dir/kwayrefine.c.o\u001b[0m\n",
            "cd /content/metis-5.1.0/build/Linux-x86_64/libmetis && /usr/bin/cc -Dmetis_EXPORTS -I/content/metis-5.1.0/GKlib -I/content/metis-5.1.0/include -I/content/metis-5.1.0/libmetis/. -DLINUX -D_FILE_OFFSET_BITS=64 -std=c99 -fno-strict-aliasing -fPIC -Wall -pedantic -Wno-unused-but-set-variable -Wno-unused-variable -Wno-unknown-pragmas -DNDEBUG -DNDEBUG2 -DHAVE_EXECINFO_H -DHAVE_GETLINE -O3 -fPIC -MD -MT libmetis/CMakeFiles/metis.dir/kwayrefine.c.o -MF CMakeFiles/metis.dir/kwayrefine.c.o.d -o CMakeFiles/metis.dir/kwayrefine.c.o -c /content/metis-5.1.0/libmetis/kwayrefine.c\n",
            "[ 50%] \u001b[32mBuilding C object libmetis/CMakeFiles/metis.dir/mcutil.c.o\u001b[0m\n",
            "cd /content/metis-5.1.0/build/Linux-x86_64/libmetis && /usr/bin/cc -Dmetis_EXPORTS -I/content/metis-5.1.0/GKlib -I/content/metis-5.1.0/include -I/content/metis-5.1.0/libmetis/. -DLINUX -D_FILE_OFFSET_BITS=64 -std=c99 -fno-strict-aliasing -fPIC -Wall -pedantic -Wno-unused-but-set-variable -Wno-unused-variable -Wno-unknown-pragmas -DNDEBUG -DNDEBUG2 -DHAVE_EXECINFO_H -DHAVE_GETLINE -O3 -fPIC -MD -MT libmetis/CMakeFiles/metis.dir/mcutil.c.o -MF CMakeFiles/metis.dir/mcutil.c.o.d -o CMakeFiles/metis.dir/mcutil.c.o -c /content/metis-5.1.0/libmetis/mcutil.c\n",
            "[ 51%] \u001b[32mBuilding C object libmetis/CMakeFiles/metis.dir/mesh.c.o\u001b[0m\n",
            "cd /content/metis-5.1.0/build/Linux-x86_64/libmetis && /usr/bin/cc -Dmetis_EXPORTS -I/content/metis-5.1.0/GKlib -I/content/metis-5.1.0/include -I/content/metis-5.1.0/libmetis/. -DLINUX -D_FILE_OFFSET_BITS=64 -std=c99 -fno-strict-aliasing -fPIC -Wall -pedantic -Wno-unused-but-set-variable -Wno-unused-variable -Wno-unknown-pragmas -DNDEBUG -DNDEBUG2 -DHAVE_EXECINFO_H -DHAVE_GETLINE -O3 -fPIC -MD -MT libmetis/CMakeFiles/metis.dir/mesh.c.o -MF CMakeFiles/metis.dir/mesh.c.o.d -o CMakeFiles/metis.dir/mesh.c.o -c /content/metis-5.1.0/libmetis/mesh.c\n",
            "[ 52%] \u001b[32mBuilding C object libmetis/CMakeFiles/metis.dir/meshpart.c.o\u001b[0m\n",
            "cd /content/metis-5.1.0/build/Linux-x86_64/libmetis && /usr/bin/cc -Dmetis_EXPORTS -I/content/metis-5.1.0/GKlib -I/content/metis-5.1.0/include -I/content/metis-5.1.0/libmetis/. -DLINUX -D_FILE_OFFSET_BITS=64 -std=c99 -fno-strict-aliasing -fPIC -Wall -pedantic -Wno-unused-but-set-variable -Wno-unused-variable -Wno-unknown-pragmas -DNDEBUG -DNDEBUG2 -DHAVE_EXECINFO_H -DHAVE_GETLINE -O3 -fPIC -MD -MT libmetis/CMakeFiles/metis.dir/meshpart.c.o -MF CMakeFiles/metis.dir/meshpart.c.o.d -o CMakeFiles/metis.dir/meshpart.c.o -c /content/metis-5.1.0/libmetis/meshpart.c\n",
            "[ 53%] \u001b[32mBuilding C object libmetis/CMakeFiles/metis.dir/minconn.c.o\u001b[0m\n",
            "cd /content/metis-5.1.0/build/Linux-x86_64/libmetis && /usr/bin/cc -Dmetis_EXPORTS -I/content/metis-5.1.0/GKlib -I/content/metis-5.1.0/include -I/content/metis-5.1.0/libmetis/. -DLINUX -D_FILE_OFFSET_BITS=64 -std=c99 -fno-strict-aliasing -fPIC -Wall -pedantic -Wno-unused-but-set-variable -Wno-unused-variable -Wno-unknown-pragmas -DNDEBUG -DNDEBUG2 -DHAVE_EXECINFO_H -DHAVE_GETLINE -O3 -fPIC -MD -MT libmetis/CMakeFiles/metis.dir/minconn.c.o -MF CMakeFiles/metis.dir/minconn.c.o.d -o CMakeFiles/metis.dir/minconn.c.o -c /content/metis-5.1.0/libmetis/minconn.c\n",
            "[ 54%] \u001b[32mBuilding C object libmetis/CMakeFiles/metis.dir/mincover.c.o\u001b[0m\n",
            "cd /content/metis-5.1.0/build/Linux-x86_64/libmetis && /usr/bin/cc -Dmetis_EXPORTS -I/content/metis-5.1.0/GKlib -I/content/metis-5.1.0/include -I/content/metis-5.1.0/libmetis/. -DLINUX -D_FILE_OFFSET_BITS=64 -std=c99 -fno-strict-aliasing -fPIC -Wall -pedantic -Wno-unused-but-set-variable -Wno-unused-variable -Wno-unknown-pragmas -DNDEBUG -DNDEBUG2 -DHAVE_EXECINFO_H -DHAVE_GETLINE -O3 -fPIC -MD -MT libmetis/CMakeFiles/metis.dir/mincover.c.o -MF CMakeFiles/metis.dir/mincover.c.o.d -o CMakeFiles/metis.dir/mincover.c.o -c /content/metis-5.1.0/libmetis/mincover.c\n",
            "[ 55%] \u001b[32mBuilding C object libmetis/CMakeFiles/metis.dir/mmd.c.o\u001b[0m\n",
            "cd /content/metis-5.1.0/build/Linux-x86_64/libmetis && /usr/bin/cc -Dmetis_EXPORTS -I/content/metis-5.1.0/GKlib -I/content/metis-5.1.0/include -I/content/metis-5.1.0/libmetis/. -DLINUX -D_FILE_OFFSET_BITS=64 -std=c99 -fno-strict-aliasing -fPIC -Wall -pedantic -Wno-unused-but-set-variable -Wno-unused-variable -Wno-unknown-pragmas -DNDEBUG -DNDEBUG2 -DHAVE_EXECINFO_H -DHAVE_GETLINE -O3 -fPIC -MD -MT libmetis/CMakeFiles/metis.dir/mmd.c.o -MF CMakeFiles/metis.dir/mmd.c.o.d -o CMakeFiles/metis.dir/mmd.c.o -c /content/metis-5.1.0/libmetis/mmd.c\n",
            "[ 56%] \u001b[32mBuilding C object libmetis/CMakeFiles/metis.dir/ometis.c.o\u001b[0m\n",
            "cd /content/metis-5.1.0/build/Linux-x86_64/libmetis && /usr/bin/cc -Dmetis_EXPORTS -I/content/metis-5.1.0/GKlib -I/content/metis-5.1.0/include -I/content/metis-5.1.0/libmetis/. -DLINUX -D_FILE_OFFSET_BITS=64 -std=c99 -fno-strict-aliasing -fPIC -Wall -pedantic -Wno-unused-but-set-variable -Wno-unused-variable -Wno-unknown-pragmas -DNDEBUG -DNDEBUG2 -DHAVE_EXECINFO_H -DHAVE_GETLINE -O3 -fPIC -MD -MT libmetis/CMakeFiles/metis.dir/ometis.c.o -MF CMakeFiles/metis.dir/ometis.c.o.d -o CMakeFiles/metis.dir/ometis.c.o -c /content/metis-5.1.0/libmetis/ometis.c\n",
            "[ 57%] \u001b[32mBuilding C object libmetis/CMakeFiles/metis.dir/options.c.o\u001b[0m\n",
            "cd /content/metis-5.1.0/build/Linux-x86_64/libmetis && /usr/bin/cc -Dmetis_EXPORTS -I/content/metis-5.1.0/GKlib -I/content/metis-5.1.0/include -I/content/metis-5.1.0/libmetis/. -DLINUX -D_FILE_OFFSET_BITS=64 -std=c99 -fno-strict-aliasing -fPIC -Wall -pedantic -Wno-unused-but-set-variable -Wno-unused-variable -Wno-unknown-pragmas -DNDEBUG -DNDEBUG2 -DHAVE_EXECINFO_H -DHAVE_GETLINE -O3 -fPIC -MD -MT libmetis/CMakeFiles/metis.dir/options.c.o -MF CMakeFiles/metis.dir/options.c.o.d -o CMakeFiles/metis.dir/options.c.o -c /content/metis-5.1.0/libmetis/options.c\n",
            "[ 59%] \u001b[32mBuilding C object libmetis/CMakeFiles/metis.dir/parmetis.c.o\u001b[0m\n",
            "cd /content/metis-5.1.0/build/Linux-x86_64/libmetis && /usr/bin/cc -Dmetis_EXPORTS -I/content/metis-5.1.0/GKlib -I/content/metis-5.1.0/include -I/content/metis-5.1.0/libmetis/. -DLINUX -D_FILE_OFFSET_BITS=64 -std=c99 -fno-strict-aliasing -fPIC -Wall -pedantic -Wno-unused-but-set-variable -Wno-unused-variable -Wno-unknown-pragmas -DNDEBUG -DNDEBUG2 -DHAVE_EXECINFO_H -DHAVE_GETLINE -O3 -fPIC -MD -MT libmetis/CMakeFiles/metis.dir/parmetis.c.o -MF CMakeFiles/metis.dir/parmetis.c.o.d -o CMakeFiles/metis.dir/parmetis.c.o -c /content/metis-5.1.0/libmetis/parmetis.c\n",
            "[ 60%] \u001b[32mBuilding C object libmetis/CMakeFiles/metis.dir/pmetis.c.o\u001b[0m\n",
            "cd /content/metis-5.1.0/build/Linux-x86_64/libmetis && /usr/bin/cc -Dmetis_EXPORTS -I/content/metis-5.1.0/GKlib -I/content/metis-5.1.0/include -I/content/metis-5.1.0/libmetis/. -DLINUX -D_FILE_OFFSET_BITS=64 -std=c99 -fno-strict-aliasing -fPIC -Wall -pedantic -Wno-unused-but-set-variable -Wno-unused-variable -Wno-unknown-pragmas -DNDEBUG -DNDEBUG2 -DHAVE_EXECINFO_H -DHAVE_GETLINE -O3 -fPIC -MD -MT libmetis/CMakeFiles/metis.dir/pmetis.c.o -MF CMakeFiles/metis.dir/pmetis.c.o.d -o CMakeFiles/metis.dir/pmetis.c.o -c /content/metis-5.1.0/libmetis/pmetis.c\n",
            "[ 61%] \u001b[32mBuilding C object libmetis/CMakeFiles/metis.dir/refine.c.o\u001b[0m\n",
            "cd /content/metis-5.1.0/build/Linux-x86_64/libmetis && /usr/bin/cc -Dmetis_EXPORTS -I/content/metis-5.1.0/GKlib -I/content/metis-5.1.0/include -I/content/metis-5.1.0/libmetis/. -DLINUX -D_FILE_OFFSET_BITS=64 -std=c99 -fno-strict-aliasing -fPIC -Wall -pedantic -Wno-unused-but-set-variable -Wno-unused-variable -Wno-unknown-pragmas -DNDEBUG -DNDEBUG2 -DHAVE_EXECINFO_H -DHAVE_GETLINE -O3 -fPIC -MD -MT libmetis/CMakeFiles/metis.dir/refine.c.o -MF CMakeFiles/metis.dir/refine.c.o.d -o CMakeFiles/metis.dir/refine.c.o -c /content/metis-5.1.0/libmetis/refine.c\n",
            "[ 62%] \u001b[32mBuilding C object libmetis/CMakeFiles/metis.dir/separator.c.o\u001b[0m\n",
            "cd /content/metis-5.1.0/build/Linux-x86_64/libmetis && /usr/bin/cc -Dmetis_EXPORTS -I/content/metis-5.1.0/GKlib -I/content/metis-5.1.0/include -I/content/metis-5.1.0/libmetis/. -DLINUX -D_FILE_OFFSET_BITS=64 -std=c99 -fno-strict-aliasing -fPIC -Wall -pedantic -Wno-unused-but-set-variable -Wno-unused-variable -Wno-unknown-pragmas -DNDEBUG -DNDEBUG2 -DHAVE_EXECINFO_H -DHAVE_GETLINE -O3 -fPIC -MD -MT libmetis/CMakeFiles/metis.dir/separator.c.o -MF CMakeFiles/metis.dir/separator.c.o.d -o CMakeFiles/metis.dir/separator.c.o -c /content/metis-5.1.0/libmetis/separator.c\n",
            "[ 63%] \u001b[32mBuilding C object libmetis/CMakeFiles/metis.dir/sfm.c.o\u001b[0m\n",
            "cd /content/metis-5.1.0/build/Linux-x86_64/libmetis && /usr/bin/cc -Dmetis_EXPORTS -I/content/metis-5.1.0/GKlib -I/content/metis-5.1.0/include -I/content/metis-5.1.0/libmetis/. -DLINUX -D_FILE_OFFSET_BITS=64 -std=c99 -fno-strict-aliasing -fPIC -Wall -pedantic -Wno-unused-but-set-variable -Wno-unused-variable -Wno-unknown-pragmas -DNDEBUG -DNDEBUG2 -DHAVE_EXECINFO_H -DHAVE_GETLINE -O3 -fPIC -MD -MT libmetis/CMakeFiles/metis.dir/sfm.c.o -MF CMakeFiles/metis.dir/sfm.c.o.d -o CMakeFiles/metis.dir/sfm.c.o -c /content/metis-5.1.0/libmetis/sfm.c\n",
            "[ 64%] \u001b[32mBuilding C object libmetis/CMakeFiles/metis.dir/srefine.c.o\u001b[0m\n",
            "cd /content/metis-5.1.0/build/Linux-x86_64/libmetis && /usr/bin/cc -Dmetis_EXPORTS -I/content/metis-5.1.0/GKlib -I/content/metis-5.1.0/include -I/content/metis-5.1.0/libmetis/. -DLINUX -D_FILE_OFFSET_BITS=64 -std=c99 -fno-strict-aliasing -fPIC -Wall -pedantic -Wno-unused-but-set-variable -Wno-unused-variable -Wno-unknown-pragmas -DNDEBUG -DNDEBUG2 -DHAVE_EXECINFO_H -DHAVE_GETLINE -O3 -fPIC -MD -MT libmetis/CMakeFiles/metis.dir/srefine.c.o -MF CMakeFiles/metis.dir/srefine.c.o.d -o CMakeFiles/metis.dir/srefine.c.o -c /content/metis-5.1.0/libmetis/srefine.c\n",
            "[ 65%] \u001b[32mBuilding C object libmetis/CMakeFiles/metis.dir/stat.c.o\u001b[0m\n",
            "cd /content/metis-5.1.0/build/Linux-x86_64/libmetis && /usr/bin/cc -Dmetis_EXPORTS -I/content/metis-5.1.0/GKlib -I/content/metis-5.1.0/include -I/content/metis-5.1.0/libmetis/. -DLINUX -D_FILE_OFFSET_BITS=64 -std=c99 -fno-strict-aliasing -fPIC -Wall -pedantic -Wno-unused-but-set-variable -Wno-unused-variable -Wno-unknown-pragmas -DNDEBUG -DNDEBUG2 -DHAVE_EXECINFO_H -DHAVE_GETLINE -O3 -fPIC -MD -MT libmetis/CMakeFiles/metis.dir/stat.c.o -MF CMakeFiles/metis.dir/stat.c.o.d -o CMakeFiles/metis.dir/stat.c.o -c /content/metis-5.1.0/libmetis/stat.c\n",
            "[ 67%] \u001b[32mBuilding C object libmetis/CMakeFiles/metis.dir/timing.c.o\u001b[0m\n",
            "cd /content/metis-5.1.0/build/Linux-x86_64/libmetis && /usr/bin/cc -Dmetis_EXPORTS -I/content/metis-5.1.0/GKlib -I/content/metis-5.1.0/include -I/content/metis-5.1.0/libmetis/. -DLINUX -D_FILE_OFFSET_BITS=64 -std=c99 -fno-strict-aliasing -fPIC -Wall -pedantic -Wno-unused-but-set-variable -Wno-unused-variable -Wno-unknown-pragmas -DNDEBUG -DNDEBUG2 -DHAVE_EXECINFO_H -DHAVE_GETLINE -O3 -fPIC -MD -MT libmetis/CMakeFiles/metis.dir/timing.c.o -MF CMakeFiles/metis.dir/timing.c.o.d -o CMakeFiles/metis.dir/timing.c.o -c /content/metis-5.1.0/libmetis/timing.c\n",
            "[ 68%] \u001b[32mBuilding C object libmetis/CMakeFiles/metis.dir/util.c.o\u001b[0m\n",
            "cd /content/metis-5.1.0/build/Linux-x86_64/libmetis && /usr/bin/cc -Dmetis_EXPORTS -I/content/metis-5.1.0/GKlib -I/content/metis-5.1.0/include -I/content/metis-5.1.0/libmetis/. -DLINUX -D_FILE_OFFSET_BITS=64 -std=c99 -fno-strict-aliasing -fPIC -Wall -pedantic -Wno-unused-but-set-variable -Wno-unused-variable -Wno-unknown-pragmas -DNDEBUG -DNDEBUG2 -DHAVE_EXECINFO_H -DHAVE_GETLINE -O3 -fPIC -MD -MT libmetis/CMakeFiles/metis.dir/util.c.o -MF CMakeFiles/metis.dir/util.c.o.d -o CMakeFiles/metis.dir/util.c.o -c /content/metis-5.1.0/libmetis/util.c\n",
            "[ 69%] \u001b[32mBuilding C object libmetis/CMakeFiles/metis.dir/wspace.c.o\u001b[0m\n",
            "cd /content/metis-5.1.0/build/Linux-x86_64/libmetis && /usr/bin/cc -Dmetis_EXPORTS -I/content/metis-5.1.0/GKlib -I/content/metis-5.1.0/include -I/content/metis-5.1.0/libmetis/. -DLINUX -D_FILE_OFFSET_BITS=64 -std=c99 -fno-strict-aliasing -fPIC -Wall -pedantic -Wno-unused-but-set-variable -Wno-unused-variable -Wno-unknown-pragmas -DNDEBUG -DNDEBUG2 -DHAVE_EXECINFO_H -DHAVE_GETLINE -O3 -fPIC -MD -MT libmetis/CMakeFiles/metis.dir/wspace.c.o -MF CMakeFiles/metis.dir/wspace.c.o.d -o CMakeFiles/metis.dir/wspace.c.o -c /content/metis-5.1.0/libmetis/wspace.c\n",
            "[ 70%] \u001b[32m\u001b[1mLinking C shared library libmetis.so\u001b[0m\n",
            "cd /content/metis-5.1.0/build/Linux-x86_64/libmetis && /usr/local/lib/python3.10/dist-packages/cmake/data/bin/cmake -E cmake_link_script CMakeFiles/metis.dir/link.txt --verbose=1\n",
            "/usr/bin/cc -fPIC  -DLINUX -D_FILE_OFFSET_BITS=64 -std=c99 -fno-strict-aliasing -fPIC -Wall -pedantic -Wno-unused-but-set-variable -Wno-unused-variable -Wno-unknown-pragmas -DNDEBUG -DNDEBUG2 -DHAVE_EXECINFO_H -DHAVE_GETLINE -O3 -shared -Wl,-soname,libmetis.so -o libmetis.so CMakeFiles/metis.dir/__/GKlib/b64.c.o CMakeFiles/metis.dir/__/GKlib/blas.c.o CMakeFiles/metis.dir/__/GKlib/csr.c.o CMakeFiles/metis.dir/__/GKlib/error.c.o CMakeFiles/metis.dir/__/GKlib/evaluate.c.o CMakeFiles/metis.dir/__/GKlib/fkvkselect.c.o CMakeFiles/metis.dir/__/GKlib/fs.c.o CMakeFiles/metis.dir/__/GKlib/getopt.c.o CMakeFiles/metis.dir/__/GKlib/gkregex.c.o CMakeFiles/metis.dir/__/GKlib/graph.c.o CMakeFiles/metis.dir/__/GKlib/htable.c.o CMakeFiles/metis.dir/__/GKlib/io.c.o CMakeFiles/metis.dir/__/GKlib/itemsets.c.o CMakeFiles/metis.dir/__/GKlib/mcore.c.o CMakeFiles/metis.dir/__/GKlib/memory.c.o CMakeFiles/metis.dir/__/GKlib/omp.c.o CMakeFiles/metis.dir/__/GKlib/pdb.c.o CMakeFiles/metis.dir/__/GKlib/pqueue.c.o CMakeFiles/metis.dir/__/GKlib/random.c.o CMakeFiles/metis.dir/__/GKlib/rw.c.o CMakeFiles/metis.dir/__/GKlib/seq.c.o CMakeFiles/metis.dir/__/GKlib/sort.c.o CMakeFiles/metis.dir/__/GKlib/string.c.o CMakeFiles/metis.dir/__/GKlib/timers.c.o CMakeFiles/metis.dir/__/GKlib/tokenizer.c.o CMakeFiles/metis.dir/__/GKlib/util.c.o CMakeFiles/metis.dir/auxapi.c.o CMakeFiles/metis.dir/balance.c.o CMakeFiles/metis.dir/bucketsort.c.o CMakeFiles/metis.dir/checkgraph.c.o CMakeFiles/metis.dir/coarsen.c.o CMakeFiles/metis.dir/compress.c.o CMakeFiles/metis.dir/contig.c.o CMakeFiles/metis.dir/debug.c.o CMakeFiles/metis.dir/fm.c.o CMakeFiles/metis.dir/fortran.c.o CMakeFiles/metis.dir/frename.c.o CMakeFiles/metis.dir/gklib.c.o CMakeFiles/metis.dir/graph.c.o CMakeFiles/metis.dir/initpart.c.o CMakeFiles/metis.dir/kmetis.c.o CMakeFiles/metis.dir/kwayfm.c.o CMakeFiles/metis.dir/kwayrefine.c.o CMakeFiles/metis.dir/mcutil.c.o CMakeFiles/metis.dir/mesh.c.o CMakeFiles/metis.dir/meshpart.c.o CMakeFiles/metis.dir/minconn.c.o CMakeFiles/metis.dir/mincover.c.o CMakeFiles/metis.dir/mmd.c.o CMakeFiles/metis.dir/ometis.c.o CMakeFiles/metis.dir/options.c.o CMakeFiles/metis.dir/parmetis.c.o CMakeFiles/metis.dir/pmetis.c.o CMakeFiles/metis.dir/refine.c.o CMakeFiles/metis.dir/separator.c.o CMakeFiles/metis.dir/sfm.c.o CMakeFiles/metis.dir/srefine.c.o CMakeFiles/metis.dir/stat.c.o CMakeFiles/metis.dir/timing.c.o CMakeFiles/metis.dir/util.c.o CMakeFiles/metis.dir/wspace.c.o  -lm \n",
            "make[3]: Leaving directory '/content/metis-5.1.0/build/Linux-x86_64'\n",
            "[ 70%] Built target metis\n",
            "make  -f programs/CMakeFiles/gpmetis.dir/build.make programs/CMakeFiles/gpmetis.dir/depend\n",
            "make[3]: Entering directory '/content/metis-5.1.0/build/Linux-x86_64'\n",
            "cd /content/metis-5.1.0/build/Linux-x86_64 && /usr/local/lib/python3.10/dist-packages/cmake/data/bin/cmake -E cmake_depends \"Unix Makefiles\" /content/metis-5.1.0 /content/metis-5.1.0/programs /content/metis-5.1.0/build/Linux-x86_64 /content/metis-5.1.0/build/Linux-x86_64/programs /content/metis-5.1.0/build/Linux-x86_64/programs/CMakeFiles/gpmetis.dir/DependInfo.cmake \"--color=\"\n",
            "make[3]: Leaving directory '/content/metis-5.1.0/build/Linux-x86_64'\n",
            "make  -f programs/CMakeFiles/gpmetis.dir/build.make programs/CMakeFiles/gpmetis.dir/build\n",
            "make[3]: Entering directory '/content/metis-5.1.0/build/Linux-x86_64'\n",
            "[ 71%] \u001b[32mBuilding C object programs/CMakeFiles/gpmetis.dir/gpmetis.c.o\u001b[0m\n",
            "cd /content/metis-5.1.0/build/Linux-x86_64/programs && /usr/bin/cc -DSVNINFO=\\\"\\\" -I/content/metis-5.1.0/GKlib -I/content/metis-5.1.0/include -I/content/metis-5.1.0/programs/../libmetis -DLINUX -D_FILE_OFFSET_BITS=64 -std=c99 -fno-strict-aliasing -fPIC -Wall -pedantic -Wno-unused-but-set-variable -Wno-unused-variable -Wno-unknown-pragmas -DNDEBUG -DNDEBUG2 -DHAVE_EXECINFO_H -DHAVE_GETLINE -O3 -MD -MT programs/CMakeFiles/gpmetis.dir/gpmetis.c.o -MF CMakeFiles/gpmetis.dir/gpmetis.c.o.d -o CMakeFiles/gpmetis.dir/gpmetis.c.o -c /content/metis-5.1.0/programs/gpmetis.c\n",
            "[ 72%] \u001b[32mBuilding C object programs/CMakeFiles/gpmetis.dir/cmdline_gpmetis.c.o\u001b[0m\n",
            "cd /content/metis-5.1.0/build/Linux-x86_64/programs && /usr/bin/cc -DSVNINFO=\\\"\\\" -I/content/metis-5.1.0/GKlib -I/content/metis-5.1.0/include -I/content/metis-5.1.0/programs/../libmetis -DLINUX -D_FILE_OFFSET_BITS=64 -std=c99 -fno-strict-aliasing -fPIC -Wall -pedantic -Wno-unused-but-set-variable -Wno-unused-variable -Wno-unknown-pragmas -DNDEBUG -DNDEBUG2 -DHAVE_EXECINFO_H -DHAVE_GETLINE -O3 -MD -MT programs/CMakeFiles/gpmetis.dir/cmdline_gpmetis.c.o -MF CMakeFiles/gpmetis.dir/cmdline_gpmetis.c.o.d -o CMakeFiles/gpmetis.dir/cmdline_gpmetis.c.o -c /content/metis-5.1.0/programs/cmdline_gpmetis.c\n",
            "[ 73%] \u001b[32mBuilding C object programs/CMakeFiles/gpmetis.dir/io.c.o\u001b[0m\n",
            "cd /content/metis-5.1.0/build/Linux-x86_64/programs && /usr/bin/cc -DSVNINFO=\\\"\\\" -I/content/metis-5.1.0/GKlib -I/content/metis-5.1.0/include -I/content/metis-5.1.0/programs/../libmetis -DLINUX -D_FILE_OFFSET_BITS=64 -std=c99 -fno-strict-aliasing -fPIC -Wall -pedantic -Wno-unused-but-set-variable -Wno-unused-variable -Wno-unknown-pragmas -DNDEBUG -DNDEBUG2 -DHAVE_EXECINFO_H -DHAVE_GETLINE -O3 -MD -MT programs/CMakeFiles/gpmetis.dir/io.c.o -MF CMakeFiles/gpmetis.dir/io.c.o.d -o CMakeFiles/gpmetis.dir/io.c.o -c /content/metis-5.1.0/programs/io.c\n",
            "[ 75%] \u001b[32mBuilding C object programs/CMakeFiles/gpmetis.dir/stat.c.o\u001b[0m\n",
            "cd /content/metis-5.1.0/build/Linux-x86_64/programs && /usr/bin/cc -DSVNINFO=\\\"\\\" -I/content/metis-5.1.0/GKlib -I/content/metis-5.1.0/include -I/content/metis-5.1.0/programs/../libmetis -DLINUX -D_FILE_OFFSET_BITS=64 -std=c99 -fno-strict-aliasing -fPIC -Wall -pedantic -Wno-unused-but-set-variable -Wno-unused-variable -Wno-unknown-pragmas -DNDEBUG -DNDEBUG2 -DHAVE_EXECINFO_H -DHAVE_GETLINE -O3 -MD -MT programs/CMakeFiles/gpmetis.dir/stat.c.o -MF CMakeFiles/gpmetis.dir/stat.c.o.d -o CMakeFiles/gpmetis.dir/stat.c.o -c /content/metis-5.1.0/programs/stat.c\n",
            "[ 76%] \u001b[32m\u001b[1mLinking C executable gpmetis\u001b[0m\n",
            "cd /content/metis-5.1.0/build/Linux-x86_64/programs && /usr/local/lib/python3.10/dist-packages/cmake/data/bin/cmake -E cmake_link_script CMakeFiles/gpmetis.dir/link.txt --verbose=1\n",
            "/usr/bin/cc  -DLINUX -D_FILE_OFFSET_BITS=64 -std=c99 -fno-strict-aliasing -fPIC -Wall -pedantic -Wno-unused-but-set-variable -Wno-unused-variable -Wno-unknown-pragmas -DNDEBUG -DNDEBUG2 -DHAVE_EXECINFO_H -DHAVE_GETLINE -O3 -rdynamic CMakeFiles/gpmetis.dir/gpmetis.c.o CMakeFiles/gpmetis.dir/cmdline_gpmetis.c.o CMakeFiles/gpmetis.dir/io.c.o CMakeFiles/gpmetis.dir/stat.c.o -o gpmetis   -L/home/karypis/local/lib  -Wl,-rpath,/home/karypis/local/lib:/content/metis-5.1.0/build/Linux-x86_64/libmetis: ../libmetis/libmetis.so -lm \n",
            "make[3]: Leaving directory '/content/metis-5.1.0/build/Linux-x86_64'\n",
            "[ 76%] Built target gpmetis\n",
            "make  -f programs/CMakeFiles/ndmetis.dir/build.make programs/CMakeFiles/ndmetis.dir/depend\n",
            "make[3]: Entering directory '/content/metis-5.1.0/build/Linux-x86_64'\n",
            "cd /content/metis-5.1.0/build/Linux-x86_64 && /usr/local/lib/python3.10/dist-packages/cmake/data/bin/cmake -E cmake_depends \"Unix Makefiles\" /content/metis-5.1.0 /content/metis-5.1.0/programs /content/metis-5.1.0/build/Linux-x86_64 /content/metis-5.1.0/build/Linux-x86_64/programs /content/metis-5.1.0/build/Linux-x86_64/programs/CMakeFiles/ndmetis.dir/DependInfo.cmake \"--color=\"\n",
            "make[3]: Leaving directory '/content/metis-5.1.0/build/Linux-x86_64'\n",
            "make  -f programs/CMakeFiles/ndmetis.dir/build.make programs/CMakeFiles/ndmetis.dir/build\n",
            "make[3]: Entering directory '/content/metis-5.1.0/build/Linux-x86_64'\n",
            "[ 77%] \u001b[32mBuilding C object programs/CMakeFiles/ndmetis.dir/ndmetis.c.o\u001b[0m\n",
            "cd /content/metis-5.1.0/build/Linux-x86_64/programs && /usr/bin/cc -DSVNINFO=\\\"\\\" -I/content/metis-5.1.0/GKlib -I/content/metis-5.1.0/include -I/content/metis-5.1.0/programs/../libmetis -DLINUX -D_FILE_OFFSET_BITS=64 -std=c99 -fno-strict-aliasing -fPIC -Wall -pedantic -Wno-unused-but-set-variable -Wno-unused-variable -Wno-unknown-pragmas -DNDEBUG -DNDEBUG2 -DHAVE_EXECINFO_H -DHAVE_GETLINE -O3 -MD -MT programs/CMakeFiles/ndmetis.dir/ndmetis.c.o -MF CMakeFiles/ndmetis.dir/ndmetis.c.o.d -o CMakeFiles/ndmetis.dir/ndmetis.c.o -c /content/metis-5.1.0/programs/ndmetis.c\n",
            "[ 78%] \u001b[32mBuilding C object programs/CMakeFiles/ndmetis.dir/cmdline_ndmetis.c.o\u001b[0m\n",
            "cd /content/metis-5.1.0/build/Linux-x86_64/programs && /usr/bin/cc -DSVNINFO=\\\"\\\" -I/content/metis-5.1.0/GKlib -I/content/metis-5.1.0/include -I/content/metis-5.1.0/programs/../libmetis -DLINUX -D_FILE_OFFSET_BITS=64 -std=c99 -fno-strict-aliasing -fPIC -Wall -pedantic -Wno-unused-but-set-variable -Wno-unused-variable -Wno-unknown-pragmas -DNDEBUG -DNDEBUG2 -DHAVE_EXECINFO_H -DHAVE_GETLINE -O3 -MD -MT programs/CMakeFiles/ndmetis.dir/cmdline_ndmetis.c.o -MF CMakeFiles/ndmetis.dir/cmdline_ndmetis.c.o.d -o CMakeFiles/ndmetis.dir/cmdline_ndmetis.c.o -c /content/metis-5.1.0/programs/cmdline_ndmetis.c\n",
            "[ 79%] \u001b[32mBuilding C object programs/CMakeFiles/ndmetis.dir/io.c.o\u001b[0m\n",
            "cd /content/metis-5.1.0/build/Linux-x86_64/programs && /usr/bin/cc -DSVNINFO=\\\"\\\" -I/content/metis-5.1.0/GKlib -I/content/metis-5.1.0/include -I/content/metis-5.1.0/programs/../libmetis -DLINUX -D_FILE_OFFSET_BITS=64 -std=c99 -fno-strict-aliasing -fPIC -Wall -pedantic -Wno-unused-but-set-variable -Wno-unused-variable -Wno-unknown-pragmas -DNDEBUG -DNDEBUG2 -DHAVE_EXECINFO_H -DHAVE_GETLINE -O3 -MD -MT programs/CMakeFiles/ndmetis.dir/io.c.o -MF CMakeFiles/ndmetis.dir/io.c.o.d -o CMakeFiles/ndmetis.dir/io.c.o -c /content/metis-5.1.0/programs/io.c\n",
            "[ 80%] \u001b[32mBuilding C object programs/CMakeFiles/ndmetis.dir/smbfactor.c.o\u001b[0m\n",
            "cd /content/metis-5.1.0/build/Linux-x86_64/programs && /usr/bin/cc -DSVNINFO=\\\"\\\" -I/content/metis-5.1.0/GKlib -I/content/metis-5.1.0/include -I/content/metis-5.1.0/programs/../libmetis -DLINUX -D_FILE_OFFSET_BITS=64 -std=c99 -fno-strict-aliasing -fPIC -Wall -pedantic -Wno-unused-but-set-variable -Wno-unused-variable -Wno-unknown-pragmas -DNDEBUG -DNDEBUG2 -DHAVE_EXECINFO_H -DHAVE_GETLINE -O3 -MD -MT programs/CMakeFiles/ndmetis.dir/smbfactor.c.o -MF CMakeFiles/ndmetis.dir/smbfactor.c.o.d -o CMakeFiles/ndmetis.dir/smbfactor.c.o -c /content/metis-5.1.0/programs/smbfactor.c\n",
            "[ 81%] \u001b[32m\u001b[1mLinking C executable ndmetis\u001b[0m\n",
            "cd /content/metis-5.1.0/build/Linux-x86_64/programs && /usr/local/lib/python3.10/dist-packages/cmake/data/bin/cmake -E cmake_link_script CMakeFiles/ndmetis.dir/link.txt --verbose=1\n",
            "/usr/bin/cc  -DLINUX -D_FILE_OFFSET_BITS=64 -std=c99 -fno-strict-aliasing -fPIC -Wall -pedantic -Wno-unused-but-set-variable -Wno-unused-variable -Wno-unknown-pragmas -DNDEBUG -DNDEBUG2 -DHAVE_EXECINFO_H -DHAVE_GETLINE -O3 -rdynamic CMakeFiles/ndmetis.dir/ndmetis.c.o CMakeFiles/ndmetis.dir/cmdline_ndmetis.c.o CMakeFiles/ndmetis.dir/io.c.o CMakeFiles/ndmetis.dir/smbfactor.c.o -o ndmetis   -L/home/karypis/local/lib  -Wl,-rpath,/home/karypis/local/lib:/content/metis-5.1.0/build/Linux-x86_64/libmetis: ../libmetis/libmetis.so -lm \n",
            "make[3]: Leaving directory '/content/metis-5.1.0/build/Linux-x86_64'\n",
            "[ 81%] Built target ndmetis\n",
            "make  -f programs/CMakeFiles/mpmetis.dir/build.make programs/CMakeFiles/mpmetis.dir/depend\n",
            "make[3]: Entering directory '/content/metis-5.1.0/build/Linux-x86_64'\n",
            "cd /content/metis-5.1.0/build/Linux-x86_64 && /usr/local/lib/python3.10/dist-packages/cmake/data/bin/cmake -E cmake_depends \"Unix Makefiles\" /content/metis-5.1.0 /content/metis-5.1.0/programs /content/metis-5.1.0/build/Linux-x86_64 /content/metis-5.1.0/build/Linux-x86_64/programs /content/metis-5.1.0/build/Linux-x86_64/programs/CMakeFiles/mpmetis.dir/DependInfo.cmake \"--color=\"\n",
            "make[3]: Leaving directory '/content/metis-5.1.0/build/Linux-x86_64'\n",
            "make  -f programs/CMakeFiles/mpmetis.dir/build.make programs/CMakeFiles/mpmetis.dir/build\n",
            "make[3]: Entering directory '/content/metis-5.1.0/build/Linux-x86_64'\n",
            "[ 82%] \u001b[32mBuilding C object programs/CMakeFiles/mpmetis.dir/mpmetis.c.o\u001b[0m\n",
            "cd /content/metis-5.1.0/build/Linux-x86_64/programs && /usr/bin/cc -DSVNINFO=\\\"\\\" -I/content/metis-5.1.0/GKlib -I/content/metis-5.1.0/include -I/content/metis-5.1.0/programs/../libmetis -DLINUX -D_FILE_OFFSET_BITS=64 -std=c99 -fno-strict-aliasing -fPIC -Wall -pedantic -Wno-unused-but-set-variable -Wno-unused-variable -Wno-unknown-pragmas -DNDEBUG -DNDEBUG2 -DHAVE_EXECINFO_H -DHAVE_GETLINE -O3 -MD -MT programs/CMakeFiles/mpmetis.dir/mpmetis.c.o -MF CMakeFiles/mpmetis.dir/mpmetis.c.o.d -o CMakeFiles/mpmetis.dir/mpmetis.c.o -c /content/metis-5.1.0/programs/mpmetis.c\n",
            "[ 84%] \u001b[32mBuilding C object programs/CMakeFiles/mpmetis.dir/cmdline_mpmetis.c.o\u001b[0m\n",
            "cd /content/metis-5.1.0/build/Linux-x86_64/programs && /usr/bin/cc -DSVNINFO=\\\"\\\" -I/content/metis-5.1.0/GKlib -I/content/metis-5.1.0/include -I/content/metis-5.1.0/programs/../libmetis -DLINUX -D_FILE_OFFSET_BITS=64 -std=c99 -fno-strict-aliasing -fPIC -Wall -pedantic -Wno-unused-but-set-variable -Wno-unused-variable -Wno-unknown-pragmas -DNDEBUG -DNDEBUG2 -DHAVE_EXECINFO_H -DHAVE_GETLINE -O3 -MD -MT programs/CMakeFiles/mpmetis.dir/cmdline_mpmetis.c.o -MF CMakeFiles/mpmetis.dir/cmdline_mpmetis.c.o.d -o CMakeFiles/mpmetis.dir/cmdline_mpmetis.c.o -c /content/metis-5.1.0/programs/cmdline_mpmetis.c\n",
            "[ 85%] \u001b[32mBuilding C object programs/CMakeFiles/mpmetis.dir/io.c.o\u001b[0m\n",
            "cd /content/metis-5.1.0/build/Linux-x86_64/programs && /usr/bin/cc -DSVNINFO=\\\"\\\" -I/content/metis-5.1.0/GKlib -I/content/metis-5.1.0/include -I/content/metis-5.1.0/programs/../libmetis -DLINUX -D_FILE_OFFSET_BITS=64 -std=c99 -fno-strict-aliasing -fPIC -Wall -pedantic -Wno-unused-but-set-variable -Wno-unused-variable -Wno-unknown-pragmas -DNDEBUG -DNDEBUG2 -DHAVE_EXECINFO_H -DHAVE_GETLINE -O3 -MD -MT programs/CMakeFiles/mpmetis.dir/io.c.o -MF CMakeFiles/mpmetis.dir/io.c.o.d -o CMakeFiles/mpmetis.dir/io.c.o -c /content/metis-5.1.0/programs/io.c\n",
            "[ 86%] \u001b[32mBuilding C object programs/CMakeFiles/mpmetis.dir/stat.c.o\u001b[0m\n",
            "cd /content/metis-5.1.0/build/Linux-x86_64/programs && /usr/bin/cc -DSVNINFO=\\\"\\\" -I/content/metis-5.1.0/GKlib -I/content/metis-5.1.0/include -I/content/metis-5.1.0/programs/../libmetis -DLINUX -D_FILE_OFFSET_BITS=64 -std=c99 -fno-strict-aliasing -fPIC -Wall -pedantic -Wno-unused-but-set-variable -Wno-unused-variable -Wno-unknown-pragmas -DNDEBUG -DNDEBUG2 -DHAVE_EXECINFO_H -DHAVE_GETLINE -O3 -MD -MT programs/CMakeFiles/mpmetis.dir/stat.c.o -MF CMakeFiles/mpmetis.dir/stat.c.o.d -o CMakeFiles/mpmetis.dir/stat.c.o -c /content/metis-5.1.0/programs/stat.c\n",
            "[ 87%] \u001b[32m\u001b[1mLinking C executable mpmetis\u001b[0m\n",
            "cd /content/metis-5.1.0/build/Linux-x86_64/programs && /usr/local/lib/python3.10/dist-packages/cmake/data/bin/cmake -E cmake_link_script CMakeFiles/mpmetis.dir/link.txt --verbose=1\n",
            "/usr/bin/cc  -DLINUX -D_FILE_OFFSET_BITS=64 -std=c99 -fno-strict-aliasing -fPIC -Wall -pedantic -Wno-unused-but-set-variable -Wno-unused-variable -Wno-unknown-pragmas -DNDEBUG -DNDEBUG2 -DHAVE_EXECINFO_H -DHAVE_GETLINE -O3 -rdynamic CMakeFiles/mpmetis.dir/mpmetis.c.o CMakeFiles/mpmetis.dir/cmdline_mpmetis.c.o CMakeFiles/mpmetis.dir/io.c.o CMakeFiles/mpmetis.dir/stat.c.o -o mpmetis   -L/home/karypis/local/lib  -Wl,-rpath,/home/karypis/local/lib:/content/metis-5.1.0/build/Linux-x86_64/libmetis: ../libmetis/libmetis.so -lm \n",
            "make[3]: Leaving directory '/content/metis-5.1.0/build/Linux-x86_64'\n",
            "[ 87%] Built target mpmetis\n",
            "make  -f programs/CMakeFiles/m2gmetis.dir/build.make programs/CMakeFiles/m2gmetis.dir/depend\n",
            "make[3]: Entering directory '/content/metis-5.1.0/build/Linux-x86_64'\n",
            "cd /content/metis-5.1.0/build/Linux-x86_64 && /usr/local/lib/python3.10/dist-packages/cmake/data/bin/cmake -E cmake_depends \"Unix Makefiles\" /content/metis-5.1.0 /content/metis-5.1.0/programs /content/metis-5.1.0/build/Linux-x86_64 /content/metis-5.1.0/build/Linux-x86_64/programs /content/metis-5.1.0/build/Linux-x86_64/programs/CMakeFiles/m2gmetis.dir/DependInfo.cmake \"--color=\"\n",
            "make[3]: Leaving directory '/content/metis-5.1.0/build/Linux-x86_64'\n",
            "make  -f programs/CMakeFiles/m2gmetis.dir/build.make programs/CMakeFiles/m2gmetis.dir/build\n",
            "make[3]: Entering directory '/content/metis-5.1.0/build/Linux-x86_64'\n",
            "[ 88%] \u001b[32mBuilding C object programs/CMakeFiles/m2gmetis.dir/m2gmetis.c.o\u001b[0m\n",
            "cd /content/metis-5.1.0/build/Linux-x86_64/programs && /usr/bin/cc -DSVNINFO=\\\"\\\" -I/content/metis-5.1.0/GKlib -I/content/metis-5.1.0/include -I/content/metis-5.1.0/programs/../libmetis -DLINUX -D_FILE_OFFSET_BITS=64 -std=c99 -fno-strict-aliasing -fPIC -Wall -pedantic -Wno-unused-but-set-variable -Wno-unused-variable -Wno-unknown-pragmas -DNDEBUG -DNDEBUG2 -DHAVE_EXECINFO_H -DHAVE_GETLINE -O3 -MD -MT programs/CMakeFiles/m2gmetis.dir/m2gmetis.c.o -MF CMakeFiles/m2gmetis.dir/m2gmetis.c.o.d -o CMakeFiles/m2gmetis.dir/m2gmetis.c.o -c /content/metis-5.1.0/programs/m2gmetis.c\n",
            "[ 89%] \u001b[32mBuilding C object programs/CMakeFiles/m2gmetis.dir/cmdline_m2gmetis.c.o\u001b[0m\n",
            "cd /content/metis-5.1.0/build/Linux-x86_64/programs && /usr/bin/cc -DSVNINFO=\\\"\\\" -I/content/metis-5.1.0/GKlib -I/content/metis-5.1.0/include -I/content/metis-5.1.0/programs/../libmetis -DLINUX -D_FILE_OFFSET_BITS=64 -std=c99 -fno-strict-aliasing -fPIC -Wall -pedantic -Wno-unused-but-set-variable -Wno-unused-variable -Wno-unknown-pragmas -DNDEBUG -DNDEBUG2 -DHAVE_EXECINFO_H -DHAVE_GETLINE -O3 -MD -MT programs/CMakeFiles/m2gmetis.dir/cmdline_m2gmetis.c.o -MF CMakeFiles/m2gmetis.dir/cmdline_m2gmetis.c.o.d -o CMakeFiles/m2gmetis.dir/cmdline_m2gmetis.c.o -c /content/metis-5.1.0/programs/cmdline_m2gmetis.c\n",
            "[ 90%] \u001b[32mBuilding C object programs/CMakeFiles/m2gmetis.dir/io.c.o\u001b[0m\n",
            "cd /content/metis-5.1.0/build/Linux-x86_64/programs && /usr/bin/cc -DSVNINFO=\\\"\\\" -I/content/metis-5.1.0/GKlib -I/content/metis-5.1.0/include -I/content/metis-5.1.0/programs/../libmetis -DLINUX -D_FILE_OFFSET_BITS=64 -std=c99 -fno-strict-aliasing -fPIC -Wall -pedantic -Wno-unused-but-set-variable -Wno-unused-variable -Wno-unknown-pragmas -DNDEBUG -DNDEBUG2 -DHAVE_EXECINFO_H -DHAVE_GETLINE -O3 -MD -MT programs/CMakeFiles/m2gmetis.dir/io.c.o -MF CMakeFiles/m2gmetis.dir/io.c.o.d -o CMakeFiles/m2gmetis.dir/io.c.o -c /content/metis-5.1.0/programs/io.c\n",
            "[ 92%] \u001b[32m\u001b[1mLinking C executable m2gmetis\u001b[0m\n",
            "cd /content/metis-5.1.0/build/Linux-x86_64/programs && /usr/local/lib/python3.10/dist-packages/cmake/data/bin/cmake -E cmake_link_script CMakeFiles/m2gmetis.dir/link.txt --verbose=1\n",
            "/usr/bin/cc  -DLINUX -D_FILE_OFFSET_BITS=64 -std=c99 -fno-strict-aliasing -fPIC -Wall -pedantic -Wno-unused-but-set-variable -Wno-unused-variable -Wno-unknown-pragmas -DNDEBUG -DNDEBUG2 -DHAVE_EXECINFO_H -DHAVE_GETLINE -O3 -rdynamic CMakeFiles/m2gmetis.dir/m2gmetis.c.o CMakeFiles/m2gmetis.dir/cmdline_m2gmetis.c.o CMakeFiles/m2gmetis.dir/io.c.o -o m2gmetis   -L/home/karypis/local/lib  -Wl,-rpath,/home/karypis/local/lib:/content/metis-5.1.0/build/Linux-x86_64/libmetis: ../libmetis/libmetis.so -lm \n",
            "make[3]: Leaving directory '/content/metis-5.1.0/build/Linux-x86_64'\n",
            "[ 92%] Built target m2gmetis\n",
            "make  -f programs/CMakeFiles/graphchk.dir/build.make programs/CMakeFiles/graphchk.dir/depend\n",
            "make[3]: Entering directory '/content/metis-5.1.0/build/Linux-x86_64'\n",
            "cd /content/metis-5.1.0/build/Linux-x86_64 && /usr/local/lib/python3.10/dist-packages/cmake/data/bin/cmake -E cmake_depends \"Unix Makefiles\" /content/metis-5.1.0 /content/metis-5.1.0/programs /content/metis-5.1.0/build/Linux-x86_64 /content/metis-5.1.0/build/Linux-x86_64/programs /content/metis-5.1.0/build/Linux-x86_64/programs/CMakeFiles/graphchk.dir/DependInfo.cmake \"--color=\"\n",
            "make[3]: Leaving directory '/content/metis-5.1.0/build/Linux-x86_64'\n",
            "make  -f programs/CMakeFiles/graphchk.dir/build.make programs/CMakeFiles/graphchk.dir/build\n",
            "make[3]: Entering directory '/content/metis-5.1.0/build/Linux-x86_64'\n",
            "[ 93%] \u001b[32mBuilding C object programs/CMakeFiles/graphchk.dir/graphchk.c.o\u001b[0m\n",
            "cd /content/metis-5.1.0/build/Linux-x86_64/programs && /usr/bin/cc -DSVNINFO=\\\"\\\" -I/content/metis-5.1.0/GKlib -I/content/metis-5.1.0/include -I/content/metis-5.1.0/programs/../libmetis -DLINUX -D_FILE_OFFSET_BITS=64 -std=c99 -fno-strict-aliasing -fPIC -Wall -pedantic -Wno-unused-but-set-variable -Wno-unused-variable -Wno-unknown-pragmas -DNDEBUG -DNDEBUG2 -DHAVE_EXECINFO_H -DHAVE_GETLINE -O3 -MD -MT programs/CMakeFiles/graphchk.dir/graphchk.c.o -MF CMakeFiles/graphchk.dir/graphchk.c.o.d -o CMakeFiles/graphchk.dir/graphchk.c.o -c /content/metis-5.1.0/programs/graphchk.c\n",
            "[ 94%] \u001b[32mBuilding C object programs/CMakeFiles/graphchk.dir/io.c.o\u001b[0m\n",
            "cd /content/metis-5.1.0/build/Linux-x86_64/programs && /usr/bin/cc -DSVNINFO=\\\"\\\" -I/content/metis-5.1.0/GKlib -I/content/metis-5.1.0/include -I/content/metis-5.1.0/programs/../libmetis -DLINUX -D_FILE_OFFSET_BITS=64 -std=c99 -fno-strict-aliasing -fPIC -Wall -pedantic -Wno-unused-but-set-variable -Wno-unused-variable -Wno-unknown-pragmas -DNDEBUG -DNDEBUG2 -DHAVE_EXECINFO_H -DHAVE_GETLINE -O3 -MD -MT programs/CMakeFiles/graphchk.dir/io.c.o -MF CMakeFiles/graphchk.dir/io.c.o.d -o CMakeFiles/graphchk.dir/io.c.o -c /content/metis-5.1.0/programs/io.c\n",
            "[ 95%] \u001b[32m\u001b[1mLinking C executable graphchk\u001b[0m\n",
            "cd /content/metis-5.1.0/build/Linux-x86_64/programs && /usr/local/lib/python3.10/dist-packages/cmake/data/bin/cmake -E cmake_link_script CMakeFiles/graphchk.dir/link.txt --verbose=1\n",
            "/usr/bin/cc  -DLINUX -D_FILE_OFFSET_BITS=64 -std=c99 -fno-strict-aliasing -fPIC -Wall -pedantic -Wno-unused-but-set-variable -Wno-unused-variable -Wno-unknown-pragmas -DNDEBUG -DNDEBUG2 -DHAVE_EXECINFO_H -DHAVE_GETLINE -O3 -rdynamic CMakeFiles/graphchk.dir/graphchk.c.o CMakeFiles/graphchk.dir/io.c.o -o graphchk   -L/home/karypis/local/lib  -Wl,-rpath,/home/karypis/local/lib:/content/metis-5.1.0/build/Linux-x86_64/libmetis: ../libmetis/libmetis.so -lm \n",
            "make[3]: Leaving directory '/content/metis-5.1.0/build/Linux-x86_64'\n",
            "[ 95%] Built target graphchk\n",
            "make  -f programs/CMakeFiles/cmpfillin.dir/build.make programs/CMakeFiles/cmpfillin.dir/depend\n",
            "make[3]: Entering directory '/content/metis-5.1.0/build/Linux-x86_64'\n",
            "cd /content/metis-5.1.0/build/Linux-x86_64 && /usr/local/lib/python3.10/dist-packages/cmake/data/bin/cmake -E cmake_depends \"Unix Makefiles\" /content/metis-5.1.0 /content/metis-5.1.0/programs /content/metis-5.1.0/build/Linux-x86_64 /content/metis-5.1.0/build/Linux-x86_64/programs /content/metis-5.1.0/build/Linux-x86_64/programs/CMakeFiles/cmpfillin.dir/DependInfo.cmake \"--color=\"\n",
            "make[3]: Leaving directory '/content/metis-5.1.0/build/Linux-x86_64'\n",
            "make  -f programs/CMakeFiles/cmpfillin.dir/build.make programs/CMakeFiles/cmpfillin.dir/build\n",
            "make[3]: Entering directory '/content/metis-5.1.0/build/Linux-x86_64'\n",
            "[ 96%] \u001b[32mBuilding C object programs/CMakeFiles/cmpfillin.dir/cmpfillin.c.o\u001b[0m\n",
            "cd /content/metis-5.1.0/build/Linux-x86_64/programs && /usr/bin/cc -DSVNINFO=\\\"\\\" -I/content/metis-5.1.0/GKlib -I/content/metis-5.1.0/include -I/content/metis-5.1.0/programs/../libmetis -DLINUX -D_FILE_OFFSET_BITS=64 -std=c99 -fno-strict-aliasing -fPIC -Wall -pedantic -Wno-unused-but-set-variable -Wno-unused-variable -Wno-unknown-pragmas -DNDEBUG -DNDEBUG2 -DHAVE_EXECINFO_H -DHAVE_GETLINE -O3 -MD -MT programs/CMakeFiles/cmpfillin.dir/cmpfillin.c.o -MF CMakeFiles/cmpfillin.dir/cmpfillin.c.o.d -o CMakeFiles/cmpfillin.dir/cmpfillin.c.o -c /content/metis-5.1.0/programs/cmpfillin.c\n",
            "[ 97%] \u001b[32mBuilding C object programs/CMakeFiles/cmpfillin.dir/io.c.o\u001b[0m\n",
            "cd /content/metis-5.1.0/build/Linux-x86_64/programs && /usr/bin/cc -DSVNINFO=\\\"\\\" -I/content/metis-5.1.0/GKlib -I/content/metis-5.1.0/include -I/content/metis-5.1.0/programs/../libmetis -DLINUX -D_FILE_OFFSET_BITS=64 -std=c99 -fno-strict-aliasing -fPIC -Wall -pedantic -Wno-unused-but-set-variable -Wno-unused-variable -Wno-unknown-pragmas -DNDEBUG -DNDEBUG2 -DHAVE_EXECINFO_H -DHAVE_GETLINE -O3 -MD -MT programs/CMakeFiles/cmpfillin.dir/io.c.o -MF CMakeFiles/cmpfillin.dir/io.c.o.d -o CMakeFiles/cmpfillin.dir/io.c.o -c /content/metis-5.1.0/programs/io.c\n",
            "[ 98%] \u001b[32mBuilding C object programs/CMakeFiles/cmpfillin.dir/smbfactor.c.o\u001b[0m\n",
            "cd /content/metis-5.1.0/build/Linux-x86_64/programs && /usr/bin/cc -DSVNINFO=\\\"\\\" -I/content/metis-5.1.0/GKlib -I/content/metis-5.1.0/include -I/content/metis-5.1.0/programs/../libmetis -DLINUX -D_FILE_OFFSET_BITS=64 -std=c99 -fno-strict-aliasing -fPIC -Wall -pedantic -Wno-unused-but-set-variable -Wno-unused-variable -Wno-unknown-pragmas -DNDEBUG -DNDEBUG2 -DHAVE_EXECINFO_H -DHAVE_GETLINE -O3 -MD -MT programs/CMakeFiles/cmpfillin.dir/smbfactor.c.o -MF CMakeFiles/cmpfillin.dir/smbfactor.c.o.d -o CMakeFiles/cmpfillin.dir/smbfactor.c.o -c /content/metis-5.1.0/programs/smbfactor.c\n",
            "[100%] \u001b[32m\u001b[1mLinking C executable cmpfillin\u001b[0m\n",
            "cd /content/metis-5.1.0/build/Linux-x86_64/programs && /usr/local/lib/python3.10/dist-packages/cmake/data/bin/cmake -E cmake_link_script CMakeFiles/cmpfillin.dir/link.txt --verbose=1\n",
            "/usr/bin/cc  -DLINUX -D_FILE_OFFSET_BITS=64 -std=c99 -fno-strict-aliasing -fPIC -Wall -pedantic -Wno-unused-but-set-variable -Wno-unused-variable -Wno-unknown-pragmas -DNDEBUG -DNDEBUG2 -DHAVE_EXECINFO_H -DHAVE_GETLINE -O3 -rdynamic CMakeFiles/cmpfillin.dir/cmpfillin.c.o CMakeFiles/cmpfillin.dir/io.c.o CMakeFiles/cmpfillin.dir/smbfactor.c.o -o cmpfillin   -L/home/karypis/local/lib  -Wl,-rpath,/home/karypis/local/lib:/content/metis-5.1.0/build/Linux-x86_64/libmetis: ../libmetis/libmetis.so -lm \n",
            "make[3]: Leaving directory '/content/metis-5.1.0/build/Linux-x86_64'\n",
            "[100%] Built target cmpfillin\n",
            "make[2]: Leaving directory '/content/metis-5.1.0/build/Linux-x86_64'\n",
            "/usr/local/lib/python3.10/dist-packages/cmake/data/bin/cmake -E cmake_progress_start /content/metis-5.1.0/build/Linux-x86_64/CMakeFiles 0\n",
            "make  -f CMakeFiles/Makefile2 preinstall\n",
            "make[2]: Entering directory '/content/metis-5.1.0/build/Linux-x86_64'\n",
            "make[2]: Nothing to be done for 'preinstall'.\n",
            "make[2]: Leaving directory '/content/metis-5.1.0/build/Linux-x86_64'\n",
            "\u001b[36mInstall the project...\u001b[0m\n",
            "/usr/local/lib/python3.10/dist-packages/cmake/data/bin/cmake -P cmake_install.cmake\n",
            "-- Install configuration: \"\"\n",
            "-- Installing: /root/.local/include/metis.h\n",
            "-- Installing: /root/.local/lib/libmetis.so\n",
            "-- Installing: /root/.local/bin/gpmetis\n",
            "-- Set runtime path of \"/root/.local/bin/gpmetis\" to \"\"\n",
            "-- Installing: /root/.local/bin/ndmetis\n",
            "-- Set runtime path of \"/root/.local/bin/ndmetis\" to \"\"\n",
            "-- Installing: /root/.local/bin/mpmetis\n",
            "-- Set runtime path of \"/root/.local/bin/mpmetis\" to \"\"\n",
            "-- Installing: /root/.local/bin/m2gmetis\n",
            "-- Set runtime path of \"/root/.local/bin/m2gmetis\" to \"\"\n",
            "-- Installing: /root/.local/bin/graphchk\n",
            "-- Set runtime path of \"/root/.local/bin/graphchk\" to \"\"\n",
            "-- Installing: /root/.local/bin/cmpfillin\n",
            "-- Set runtime path of \"/root/.local/bin/cmpfillin\" to \"\"\n",
            "make[1]: Leaving directory '/content/metis-5.1.0/build/Linux-x86_64'\n",
            "Collecting metis-python\n",
            "  Downloading metis-python-0.1.tar.gz (11 kB)\n",
            "  Preparing metadata (setup.py) ... \u001b[?25l\u001b[?25hdone\n",
            "Requirement already satisfied: networkx in /usr/local/lib/python3.10/dist-packages (from metis-python) (3.3)\n",
            "Building wheels for collected packages: metis-python\n",
            "  Building wheel for metis-python (setup.py) ... \u001b[?25l\u001b[?25hdone\n",
            "  Created wheel for metis-python: filename=metis_python-0.1-py3-none-any.whl size=11167 sha256=0137498b55828194e87e0b995bfc2bd1f721b40ea1b0fef557d30080a619fc28\n",
            "  Stored in directory: /root/.cache/pip/wheels/49/2c/94/5c30dd51e289dee8d350288854f2b899b4fdb6e36976860e0f\n",
            "Successfully built metis-python\n",
            "Installing collected packages: metis-python\n",
            "Successfully installed metis-python-0.1\n",
            "/content\n"
          ]
        }
      ]
    },
    {
      "cell_type": "code",
      "execution_count": 2,
      "metadata": {
        "id": "IxLQgxvowYLW"
      },
      "outputs": [],
      "source": [
        "import torch\n",
        "import torch.nn.functional as F\n",
        "from torch_geometric.datasets import Planetoid, Flickr, Reddit, NELL\n",
        "from torch_geometric.nn import GCNConv, SAGEConv, GINConv, SGConv\n",
        "from torch_geometric.utils import to_networkx, from_networkx\n",
        "import metispy as metis\n",
        "import time\n",
        "from torch.nn import Sequential as Seq, Linear, ReLU\n",
        "from itertools import product\n",
        "import numpy as np\n",
        "import matplotlib as plt\n",
        "import networkx as nx\n",
        "import json\n",
        "import os"
      ]
    },
    {
      "cell_type": "code",
      "source": [
        "device = torch.device('cuda' if torch.cuda.is_available() else 'cpu')\n",
        "print('device:',device)\n",
        "# Define the GCN model\n",
        "class GCN(torch.nn.Module):\n",
        "    def __init__(self, num_node_features, hidden_nodes, num_classes):\n",
        "        super(GCN, self).__init__()\n",
        "        self.conv1 = GCNConv(num_node_features, hidden_nodes)\n",
        "        self.conv2 = GCNConv(hidden_nodes, num_classes)\n",
        "\n",
        "    def forward(self, data):\n",
        "        x, edge_index = data.x.to(device), data.edge_index.to(device)\n",
        "        x = self.conv1(x, edge_index)\n",
        "        x = F.relu(x)\n",
        "        x = F.dropout(x, training=self.training)\n",
        "        x = self.conv2(x, edge_index)\n",
        "        return F.log_softmax(x, dim=1)\n",
        "\n",
        "# Define the GraphSAGE model\n",
        "class GraphSAGE(torch.nn.Module):\n",
        "    def __init__(self, num_node_features, hidden_nodes, num_classes):\n",
        "        super(GraphSAGE, self).__init__()\n",
        "        self.conv1 = SAGEConv(num_node_features, hidden_nodes)\n",
        "        self.conv2 = SAGEConv(hidden_nodes, num_classes)\n",
        "\n",
        "    def forward(self, data):\n",
        "        x, edge_index = data.x.to(device), data.edge_index.to(device)\n",
        "        x = self.conv1(x, edge_index)\n",
        "        x = F.relu(x)\n",
        "        x = F.dropout(x, training=self.training)\n",
        "        x = self.conv2(x, edge_index)\n",
        "        return F.log_softmax(x, dim=1)\n",
        "\n",
        "class GIN(torch.nn.Module):\n",
        "    def __init__(self, num_node_features, hidden_nodes, num_classes):\n",
        "        super(GIN, self).__init__()\n",
        "        nn1 = Seq(Linear(num_node_features, hidden_nodes), ReLU(), Linear(hidden_nodes, hidden_nodes))\n",
        "        self.conv1 = GINConv(nn1)\n",
        "        nn2 = Seq(Linear(hidden_nodes, hidden_nodes), ReLU(), Linear(hidden_nodes, num_classes))\n",
        "        self.conv2 = GINConv(nn2)\n",
        "\n",
        "    def forward(self, data):\n",
        "        x, edge_index = data.x.to(device), data.edge_index.to(device)\n",
        "        x = self.conv1(x, edge_index)\n",
        "        x = F.relu(x)\n",
        "        x = F.dropout(x, training=self.training)\n",
        "        x = self.conv2(x, edge_index)\n",
        "        return F.log_softmax(x, dim=1)\n",
        "\n",
        "class SGC(torch.nn.Module):\n",
        "    def __init__(self, num_node_features, hidden_nodes, num_classes):\n",
        "        super(SGC, self).__init__()\n",
        "        self.conv1 = SGConv(num_node_features, num_classes, K=2, cached=True)\n",
        "\n",
        "    def forward(self, data):\n",
        "        x, edge_index = data.x.to(device), data.edge_index.to(device)\n",
        "        x = self.conv1(x, edge_index)\n",
        "        return F.log_softmax(x, dim=1)"
      ],
      "metadata": {
        "id": "3iPdTXYwwwAM",
        "colab": {
          "base_uri": "https://localhost:8080/"
        },
        "outputId": "22036b37-3d53-45e6-f71e-a8ab367f2a0a"
      },
      "execution_count": 3,
      "outputs": [
        {
          "output_type": "stream",
          "name": "stdout",
          "text": [
            "device: cuda\n"
          ]
        }
      ]
    },
    {
      "cell_type": "code",
      "source": [
        "\n",
        "# Function to load datasets\n",
        "def load_dataset(name, parts):\n",
        "    # parts = 1\n",
        "    if name in ['Cora', 'CiteSeer', 'PubMed']:\n",
        "        return Planetoid(root=f'/tmp/{name}_{parts}', name=name)\n",
        "    elif name == 'Flickr':\n",
        "        return Flickr(root=f'/tmp/Flickr_{parts}')\n",
        "    elif name == 'NELL':\n",
        "        return NELL(root=f'/tmp/NELL_{parts}')\n",
        "    elif name == 'Reddit':\n",
        "        return Reddit(root=f'/tmp/Reddit_{parts}')\n",
        "    else:\n",
        "        raise ValueError(f'Unknown dataset: {name}')\n",
        "\n",
        "def parts_by_metis(data, num_parts):\n",
        "  assert num_parts > 1\n",
        "  # Step 2: Use METIS to partition the graph\n",
        "  adjlist = [[] for _ in range(len(data.x))]\n",
        "  for i, j in data.edge_index.t().tolist():\n",
        "      adjlist[i].append(j)\n",
        "\n",
        "  # Partition the graph into communities using METIS\n",
        "  (edgecuts, parts) = metis.part_graph(adjlist, num_parts)\n",
        "\n",
        "  # Rearrange the adjacency matrix into block-diagonal form\n",
        "  adj_blocks = torch.zeros((len(data.x), len(data.x)))\n",
        "  for i in range(len(data.x)):\n",
        "      for j in adjlist[i]:\n",
        "          if parts[i] == parts[j]:\n",
        "              adj_blocks[i, j] = 1.0\n",
        "\n",
        "  # Convert adjacency blocks to edge index format\n",
        "  edge_index = adj_blocks.nonzero().t()\n",
        "  data.edge_index = edge_index\n",
        "  return data\n",
        "\n",
        "\n",
        "def kernighan_lin_k(graph, k=3):\n",
        "    # Initial partition (divide nodes evenly into k parts)\n",
        "    node_list = list(graph.nodes())\n",
        "    partitions = [set(node_list[i::k]) for i in range(k)]\n",
        "\n",
        "    best_partitions = [partitions[i].copy() for i in range(k)]\n",
        "    best_edge_cut = sum(nx.cut_size(graph, partitions[i], set.union(*(partitions[:i] + partitions[i+1:]))) for i in range(k))\n",
        "\n",
        "    improvement = True\n",
        "    while improvement:\n",
        "        improvement = False\n",
        "        for part_idx in range(k):\n",
        "            for other_part_idx in range(k):\n",
        "                if part_idx == other_part_idx:\n",
        "                    continue\n",
        "\n",
        "                for node in partitions[part_idx]:\n",
        "                    # Find best node to swap from part_idx to other_part_idx\n",
        "                    best_gain = float('inf')\n",
        "                    best_candidate = None\n",
        "\n",
        "                    for candidate_node in partitions[other_part_idx]:\n",
        "                        # Create new partitions after swapping\n",
        "                        new_partitions = [part.copy() for part in partitions]\n",
        "                        new_partitions[part_idx].remove(node)\n",
        "                        new_partitions[part_idx].add(candidate_node)\n",
        "                        new_partitions[other_part_idx].remove(candidate_node)\n",
        "                        new_partitions[other_part_idx].add(node)\n",
        "\n",
        "                        # Calculate the new cut size\n",
        "                        new_edge_cut = sum(nx.cut_size(graph, new_partitions[i], set.union(*(new_partitions[:i] + new_partitions[i+1:]))) for i in range(k))\n",
        "\n",
        "                        # Calculate gain (reduction in edge cut)\n",
        "                        gain = best_edge_cut - new_edge_cut\n",
        "\n",
        "                        if gain < best_gain:\n",
        "                            best_gain = gain\n",
        "                            best_candidate = candidate_node\n",
        "\n",
        "                    if best_candidate is not None:\n",
        "                        # Perform the swap if it improves the cut size\n",
        "                        partitions[part_idx].remove(node)\n",
        "                        partitions[other_part_idx].add(node)\n",
        "                        partitions[other_part_idx].remove(best_candidate)\n",
        "                        partitions[part_idx].add(best_candidate)\n",
        "\n",
        "                        # Update the best partitions if a better solution is found\n",
        "                        new_edge_cut = sum(nx.cut_size(graph, partitions[i], set.union(*(partitions[:i] + partitions[i+1:]))) for i in range(k))\n",
        "                        if new_edge_cut < best_edge_cut:\n",
        "                            best_edge_cut = new_edge_cut\n",
        "                            best_partitions = [part.copy() for part in partitions]\n",
        "                            improvement = True\n",
        "                            break\n",
        "\n",
        "                if improvement:\n",
        "                    break\n",
        "            if improvement:\n",
        "                break\n",
        "\n",
        "    return best_partitions, best_edge_cut\n",
        "\n",
        "def update_edge_index(data, partitions, G):\n",
        "    new_edges = []\n",
        "    for part in partitions:\n",
        "        for node in part:\n",
        "            for neighbor in G.neighbors(node):\n",
        "                if node < neighbor:  # To avoid duplicate edges\n",
        "                    new_edges.append([node, neighbor])\n",
        "                    new_edges.append([neighbor, node])\n",
        "\n",
        "    new_edge_index = torch.tensor(new_edges, dtype=torch.long).t().contiguous()\n",
        "    data.edge_index = new_edge_index\n",
        "    return data\n",
        "\n",
        "def parts_by_kl(data, num_parts=2):\n",
        "  G = to_networkx(data, to_undirected=True)\n",
        "  partitions, edge_cut = kernighan_lin_k(G, num_parts)\n",
        "  data = update_edge_index(data, partitions, G)\n",
        "  return data\n",
        "\n",
        "# Function to partition the dataset using METIS and visualize the adjacency matrix\n",
        "def get_partitioned_dataset(dataset_name, partition_method, num_parts=2, visualize=False):\n",
        "    # Step 1: Load the Cora dataset\n",
        "    dataset = load_dataset(dataset_name, num_parts)\n",
        "    data = dataset[0]\n",
        "\n",
        "    if num_parts > 1 and num_parts < len(data.x):\n",
        "      if 'metis' == partition_method:\n",
        "        data = parts_by_metis(data, num_parts)\n",
        "      elif 'kernighan–lin' == partition_method:\n",
        "        data = parts_by_kl(data, num_parts)\n",
        "      else:\n",
        "        raise ValueError(f\"unknown partition_method: {partition_method}\")\n",
        "    # # Visualization (optional)\n",
        "    # if visualize:\n",
        "    #     adj_matrix = np.zeros((len(data.x), len(data.x)))\n",
        "    #     for i, j in data.edge_index.t().tolist():\n",
        "    #         adj_matrix[i, j] = 1\n",
        "    #         adj_matrix[j, i] = 1  # Assuming undirected graph, add symmetrically\n",
        "\n",
        "    #     sorted_indices = np.argsort(parts)\n",
        "    #     adj_matrix_sorted = adj_matrix[sorted_indices][:, sorted_indices]\n",
        "\n",
        "    #     plt.figure(figsize=(10, 10))\n",
        "    #     plt.imshow(adj_matrix_sorted, cmap='binary', interpolation='none')\n",
        "    #     plt.title(f'Clustered Adjacency Matrix (Cora Dataset, {num_parts} partitions)')\n",
        "    #     plt.xlabel('Nodes')\n",
        "    #     plt.ylabel('Nodes')\n",
        "    #     plt.xticks(np.arange(0, len(adj_matrix_sorted), 50))\n",
        "    #     plt.yticks(np.arange(0, len(adj_matrix_sorted), 50))\n",
        "    #     plt.gca().set_xticklabels(np.arange(0, len(adj_matrix_sorted), 50))\n",
        "    #     plt.gca().set_yticklabels(np.arange(0, len(adj_matrix_sorted), 50))\n",
        "    #     plt.gca().tick_params(axis='both', which='both', length=0)\n",
        "    #     plt.imshow(adj_matrix_sorted, cmap='binary', interpolation='none')\n",
        "    #     plt.scatter(np.arange(len(sorted_indices)), np.arange(len(sorted_indices)), marker='.', cmap='tab10')\n",
        "    #     plt.show()\n",
        "\n",
        "    data = data.to(device)\n",
        "    return dataset.num_features, dataset.num_classes, data\n"
      ],
      "metadata": {
        "id": "lxTLtxdcwzx8"
      },
      "execution_count": 4,
      "outputs": []
    },
    {
      "cell_type": "code",
      "source": [
        "\n",
        "# Train the model\n",
        "def train(model, data, optimizer, criterion):\n",
        "    model.train()\n",
        "    optimizer.zero_grad()\n",
        "    start_time = time.time_ns()\n",
        "    out = model(data)\n",
        "    loss = criterion(out[data.train_mask], data.y[data.train_mask])\n",
        "    loss.backward()\n",
        "    optimizer.step()\n",
        "    end_time = time.time_ns()\n",
        "    return loss, end_time-start_time\n",
        "\n",
        "# Test the model\n",
        "def test(model, data, optimizer, criterion):\n",
        "    model.eval()\n",
        "    start_time = time.time_ns()\n",
        "    out = model(data)\n",
        "    end_time = time.time_ns()\n",
        "    pred = out.argmax(dim=1)\n",
        "    correct = (pred[data.test_mask] == data.y[data.test_mask]).sum()\n",
        "    acc = int(correct) / int(data.test_mask.sum())\n",
        "    return acc, end_time-start_time\n",
        "\n",
        "def dump_results(results, suffix=\"\"):\n",
        "  file_path = os.path.abspath(f'./experiment_results_{device}_{suffix}.json')\n",
        "  with open(file_path, 'w') as f:\n",
        "      json.dump({\"results\":results}, f)\n",
        "  print(f\"dumped to {file_path}\")"
      ],
      "metadata": {
        "id": "JpanmjkPw5BM"
      },
      "execution_count": 5,
      "outputs": []
    },
    {
      "cell_type": "code",
      "source": [
        "MODEL_LIST = [\n",
        "    # GCN,\n",
        "    # GIN,\n",
        "    # GraphSAGE,\n",
        "    SGC,\n",
        "    ]\n",
        "DATASET_LIST = [\n",
        "    'Cora',\n",
        "    'CiteSeer',\n",
        "    'PubMed',\n",
        "    # 'Flickr',\n",
        "    # 'NELL',\n",
        "    # 'Reddit',\n",
        "    ]\n",
        "PARTITION_METHOD_LIST = [\n",
        "    'metis',\n",
        "    # 'kernighan–lin',\n",
        "]\n",
        "\n",
        "LEARNING_RATE = 0.01\n",
        "WEIGHT_DECAY = 5e-4\n",
        "HIDDEN_LAYER_NODES = 16\n",
        "EPOCHS = 200\n",
        "NUM_PARTS_LIST = [part_size for part_size in range(1, 10, 1)]+[part_size for part_size in range(10, 100, 10)]+[part_size for part_size in range(100, 1000, 100) ]+[part_size for part_size in range(1000, 10000, 1000) ]+[part_size for part_size in range(10000, 100000, 10000) ]\n",
        "NUM_ITERATIONS = 3"
      ],
      "metadata": {
        "id": "RWfyRucrw8Jo"
      },
      "execution_count": 6,
      "outputs": []
    },
    {
      "cell_type": "code",
      "source": [
        "experiment_results = []\n",
        "\n",
        "root_start_time = time.time()\n",
        "\n",
        "for part_method, model_class, dataset_name in product( PARTITION_METHOD_LIST, MODEL_LIST, DATASET_LIST):\n",
        "  for num_parts in NUM_PARTS_LIST:\n",
        "    # Load the Cora dataset\n",
        "    data_num_node_features, data_num_classes, data  = get_partitioned_dataset(dataset_name, part_method, num_parts)\n",
        "    if len(data.x) < num_parts:\n",
        "      break\n",
        "    data = data.to(device)\n",
        "    current_result =  {\n",
        "        'partition_method': str(part_method),\n",
        "        \"GNN\": model_class.__name__,\n",
        "        'dataset': dataset_name,\n",
        "        'num_parts': num_parts,\n",
        "        'device':str(device),\n",
        "        'edges_after_partition': len(data.edge_index[0]),\n",
        "        'avg_train_loss': 0,\n",
        "        'time_taken_for_train': 0,\n",
        "        'time_taken_for_test': 0,\n",
        "        'test_accuracy': 0,\n",
        "    }\n",
        "\n",
        "    for cur_iter in range(NUM_ITERATIONS):\n",
        "      # Initialize the model, optimizer, and loss function\n",
        "      gnn_model = model_class(data_num_node_features, HIDDEN_LAYER_NODES, data_num_classes).to(device)\n",
        "      adam_optimizer = torch.optim.Adam(gnn_model.parameters(), lr=LEARNING_RATE, weight_decay=WEIGHT_DECAY)\n",
        "      cross_criterion = torch.nn.CrossEntropyLoss()\n",
        "\n",
        "      # Training loop\n",
        "      avg_total_loss = 0\n",
        "      avg_train_time = 0\n",
        "      for epoch in range(EPOCHS):\n",
        "          loss, train_time = train(gnn_model, data, adam_optimizer, cross_criterion)\n",
        "          avg_total_loss += loss.item()\n",
        "          avg_train_time += train_time\n",
        "      avg_total_loss = avg_total_loss / EPOCHS\n",
        "      train_time = avg_train_time / EPOCHS\n",
        "\n",
        "      current_result['avg_train_loss'] += avg_total_loss\n",
        "      current_result['time_taken_for_train'] += train_time\n",
        "\n",
        "      # Evaluate the model\n",
        "      accuracy, test_time = test(gnn_model, data, adam_optimizer, cross_criterion)\n",
        "      current_result['test_accuracy'] += accuracy\n",
        "      current_result['time_taken_for_test'] += test_time\n",
        "\n",
        "    current_result['avg_train_loss'] /= NUM_ITERATIONS\n",
        "    current_result['time_taken_for_train'] /= NUM_ITERATIONS\n",
        "    current_result['time_taken_for_test'] /= NUM_ITERATIONS\n",
        "    current_result['test_accuracy'] /= NUM_ITERATIONS\n",
        "\n",
        "    print(current_result)\n",
        "    experiment_results.append ( current_result )\n",
        "    dump_results(experiment_results, '_'.join(cur.__name__ for cur in MODEL_LIST))\n",
        "\n",
        "root_end_time = time.time()\n",
        "\n",
        "print(\"total_mins\", (root_end_time-root_start_time))"
      ],
      "metadata": {
        "colab": {
          "base_uri": "https://localhost:8080/"
        },
        "id": "4jdgV77jxCLX",
        "outputId": "45c626aa-fba2-4911-fac8-0f0beba9ff59"
      },
      "execution_count": null,
      "outputs": [
        {
          "output_type": "stream",
          "name": "stdout",
          "text": [
            "{'partition_method': 'metis', 'GNN': 'SGC', 'dataset': 'Cora', 'num_parts': 1, 'device': 'cuda', 'edges_after_partition': 10556, 'avg_train_loss': 0.21055348156640927, 'time_taken_for_train': 2663378.92, 'time_taken_for_test': 178208.66666666666, 'test_accuracy': 0.7983333333333333}\n",
            "dumped to /content/experiment_results_cuda_SGC.json\n"
          ]
        },
        {
          "output_type": "stream",
          "name": "stderr",
          "text": [
            "Downloading https://github.com/kimiyoung/planetoid/raw/master/data/ind.cora.x\n",
            "Downloading https://github.com/kimiyoung/planetoid/raw/master/data/ind.cora.tx\n",
            "Downloading https://github.com/kimiyoung/planetoid/raw/master/data/ind.cora.allx\n",
            "Downloading https://github.com/kimiyoung/planetoid/raw/master/data/ind.cora.y\n",
            "Downloading https://github.com/kimiyoung/planetoid/raw/master/data/ind.cora.ty\n",
            "Downloading https://github.com/kimiyoung/planetoid/raw/master/data/ind.cora.ally\n",
            "Downloading https://github.com/kimiyoung/planetoid/raw/master/data/ind.cora.graph\n",
            "Downloading https://github.com/kimiyoung/planetoid/raw/master/data/ind.cora.test.index\n",
            "Processing...\n",
            "Done!\n"
          ]
        },
        {
          "output_type": "stream",
          "name": "stdout",
          "text": [
            "{'partition_method': 'metis', 'GNN': 'SGC', 'dataset': 'Cora', 'num_parts': 2, 'device': 'cuda', 'edges_after_partition': 10178, 'avg_train_loss': 0.20513168243070443, 'time_taken_for_train': 1417028.1383333334, 'time_taken_for_test': 119865.33333333333, 'test_accuracy': 0.799}\n",
            "dumped to /content/experiment_results_cuda_SGC.json\n"
          ]
        },
        {
          "output_type": "stream",
          "name": "stderr",
          "text": [
            "Downloading https://github.com/kimiyoung/planetoid/raw/master/data/ind.cora.x\n",
            "Downloading https://github.com/kimiyoung/planetoid/raw/master/data/ind.cora.tx\n",
            "Downloading https://github.com/kimiyoung/planetoid/raw/master/data/ind.cora.allx\n",
            "Downloading https://github.com/kimiyoung/planetoid/raw/master/data/ind.cora.y\n",
            "Downloading https://github.com/kimiyoung/planetoid/raw/master/data/ind.cora.ty\n",
            "Downloading https://github.com/kimiyoung/planetoid/raw/master/data/ind.cora.ally\n",
            "Downloading https://github.com/kimiyoung/planetoid/raw/master/data/ind.cora.graph\n",
            "Downloading https://github.com/kimiyoung/planetoid/raw/master/data/ind.cora.test.index\n",
            "Processing...\n",
            "Done!\n"
          ]
        },
        {
          "output_type": "stream",
          "name": "stdout",
          "text": [
            "{'partition_method': 'metis', 'GNN': 'SGC', 'dataset': 'Cora', 'num_parts': 3, 'device': 'cuda', 'edges_after_partition': 9940, 'avg_train_loss': 0.20083837453275918, 'time_taken_for_train': 1396490.3, 'time_taken_for_test': 117988.0, 'test_accuracy': 0.799}\n",
            "dumped to /content/experiment_results_cuda_SGC.json\n"
          ]
        },
        {
          "output_type": "stream",
          "name": "stderr",
          "text": [
            "Downloading https://github.com/kimiyoung/planetoid/raw/master/data/ind.cora.x\n",
            "Downloading https://github.com/kimiyoung/planetoid/raw/master/data/ind.cora.tx\n",
            "Downloading https://github.com/kimiyoung/planetoid/raw/master/data/ind.cora.allx\n",
            "Downloading https://github.com/kimiyoung/planetoid/raw/master/data/ind.cora.y\n",
            "Downloading https://github.com/kimiyoung/planetoid/raw/master/data/ind.cora.ty\n",
            "Downloading https://github.com/kimiyoung/planetoid/raw/master/data/ind.cora.ally\n",
            "Downloading https://github.com/kimiyoung/planetoid/raw/master/data/ind.cora.graph\n",
            "Downloading https://github.com/kimiyoung/planetoid/raw/master/data/ind.cora.test.index\n",
            "Processing...\n",
            "Done!\n"
          ]
        },
        {
          "output_type": "stream",
          "name": "stdout",
          "text": [
            "{'partition_method': 'metis', 'GNN': 'SGC', 'dataset': 'Cora', 'num_parts': 4, 'device': 'cuda', 'edges_after_partition': 9906, 'avg_train_loss': 0.1993175644427538, 'time_taken_for_train': 1387984.58, 'time_taken_for_test': 137733.33333333334, 'test_accuracy': 0.793}\n",
            "dumped to /content/experiment_results_cuda_SGC.json\n"
          ]
        },
        {
          "output_type": "stream",
          "name": "stderr",
          "text": [
            "Downloading https://github.com/kimiyoung/planetoid/raw/master/data/ind.cora.x\n",
            "Downloading https://github.com/kimiyoung/planetoid/raw/master/data/ind.cora.tx\n",
            "Downloading https://github.com/kimiyoung/planetoid/raw/master/data/ind.cora.allx\n",
            "Downloading https://github.com/kimiyoung/planetoid/raw/master/data/ind.cora.y\n",
            "Downloading https://github.com/kimiyoung/planetoid/raw/master/data/ind.cora.ty\n",
            "Downloading https://github.com/kimiyoung/planetoid/raw/master/data/ind.cora.ally\n",
            "Downloading https://github.com/kimiyoung/planetoid/raw/master/data/ind.cora.graph\n",
            "Downloading https://github.com/kimiyoung/planetoid/raw/master/data/ind.cora.test.index\n",
            "Processing...\n",
            "Done!\n"
          ]
        },
        {
          "output_type": "stream",
          "name": "stdout",
          "text": [
            "{'partition_method': 'metis', 'GNN': 'SGC', 'dataset': 'Cora', 'num_parts': 5, 'device': 'cuda', 'edges_after_partition': 9812, 'avg_train_loss': 0.19982140341152746, 'time_taken_for_train': 1423730.9133333333, 'time_taken_for_test': 121301.0, 'test_accuracy': 0.791}\n",
            "dumped to /content/experiment_results_cuda_SGC.json\n"
          ]
        },
        {
          "output_type": "stream",
          "name": "stderr",
          "text": [
            "Downloading https://github.com/kimiyoung/planetoid/raw/master/data/ind.cora.x\n",
            "Downloading https://github.com/kimiyoung/planetoid/raw/master/data/ind.cora.tx\n",
            "Downloading https://github.com/kimiyoung/planetoid/raw/master/data/ind.cora.allx\n",
            "Downloading https://github.com/kimiyoung/planetoid/raw/master/data/ind.cora.y\n",
            "Downloading https://github.com/kimiyoung/planetoid/raw/master/data/ind.cora.ty\n",
            "Downloading https://github.com/kimiyoung/planetoid/raw/master/data/ind.cora.ally\n",
            "Downloading https://github.com/kimiyoung/planetoid/raw/master/data/ind.cora.graph\n",
            "Downloading https://github.com/kimiyoung/planetoid/raw/master/data/ind.cora.test.index\n",
            "Processing...\n",
            "Done!\n"
          ]
        },
        {
          "output_type": "stream",
          "name": "stdout",
          "text": [
            "{'partition_method': 'metis', 'GNN': 'SGC', 'dataset': 'Cora', 'num_parts': 6, 'device': 'cuda', 'edges_after_partition': 9652, 'avg_train_loss': 0.19917957639942566, 'time_taken_for_train': 1376409.0416666667, 'time_taken_for_test': 119890.0, 'test_accuracy': 0.781}\n",
            "dumped to /content/experiment_results_cuda_SGC.json\n"
          ]
        },
        {
          "output_type": "stream",
          "name": "stderr",
          "text": [
            "Downloading https://github.com/kimiyoung/planetoid/raw/master/data/ind.cora.x\n",
            "Downloading https://github.com/kimiyoung/planetoid/raw/master/data/ind.cora.tx\n",
            "Downloading https://github.com/kimiyoung/planetoid/raw/master/data/ind.cora.allx\n",
            "Downloading https://github.com/kimiyoung/planetoid/raw/master/data/ind.cora.y\n",
            "Downloading https://github.com/kimiyoung/planetoid/raw/master/data/ind.cora.ty\n",
            "Downloading https://github.com/kimiyoung/planetoid/raw/master/data/ind.cora.ally\n",
            "Downloading https://github.com/kimiyoung/planetoid/raw/master/data/ind.cora.graph\n",
            "Downloading https://github.com/kimiyoung/planetoid/raw/master/data/ind.cora.test.index\n",
            "Processing...\n",
            "Done!\n"
          ]
        },
        {
          "output_type": "stream",
          "name": "stdout",
          "text": [
            "{'partition_method': 'metis', 'GNN': 'SGC', 'dataset': 'Cora', 'num_parts': 7, 'device': 'cuda', 'edges_after_partition': 9604, 'avg_train_loss': 0.19488365543385347, 'time_taken_for_train': 1435618.71, 'time_taken_for_test': 115083.33333333333, 'test_accuracy': 0.7843333333333334}\n",
            "dumped to /content/experiment_results_cuda_SGC.json\n"
          ]
        },
        {
          "output_type": "stream",
          "name": "stderr",
          "text": [
            "Downloading https://github.com/kimiyoung/planetoid/raw/master/data/ind.cora.x\n",
            "Downloading https://github.com/kimiyoung/planetoid/raw/master/data/ind.cora.tx\n",
            "Downloading https://github.com/kimiyoung/planetoid/raw/master/data/ind.cora.allx\n",
            "Downloading https://github.com/kimiyoung/planetoid/raw/master/data/ind.cora.y\n",
            "Downloading https://github.com/kimiyoung/planetoid/raw/master/data/ind.cora.ty\n",
            "Downloading https://github.com/kimiyoung/planetoid/raw/master/data/ind.cora.ally\n",
            "Downloading https://github.com/kimiyoung/planetoid/raw/master/data/ind.cora.graph\n",
            "Downloading https://github.com/kimiyoung/planetoid/raw/master/data/ind.cora.test.index\n",
            "Processing...\n",
            "Done!\n"
          ]
        },
        {
          "output_type": "stream",
          "name": "stdout",
          "text": [
            "{'partition_method': 'metis', 'GNN': 'SGC', 'dataset': 'Cora', 'num_parts': 8, 'device': 'cuda', 'edges_after_partition': 9460, 'avg_train_loss': 0.19492632144441205, 'time_taken_for_train': 1400753.326666667, 'time_taken_for_test': 119251.33333333333, 'test_accuracy': 0.786}\n",
            "dumped to /content/experiment_results_cuda_SGC.json\n"
          ]
        },
        {
          "output_type": "stream",
          "name": "stderr",
          "text": [
            "Downloading https://github.com/kimiyoung/planetoid/raw/master/data/ind.cora.x\n",
            "Downloading https://github.com/kimiyoung/planetoid/raw/master/data/ind.cora.tx\n",
            "Downloading https://github.com/kimiyoung/planetoid/raw/master/data/ind.cora.allx\n",
            "Downloading https://github.com/kimiyoung/planetoid/raw/master/data/ind.cora.y\n",
            "Downloading https://github.com/kimiyoung/planetoid/raw/master/data/ind.cora.ty\n",
            "Downloading https://github.com/kimiyoung/planetoid/raw/master/data/ind.cora.ally\n",
            "Downloading https://github.com/kimiyoung/planetoid/raw/master/data/ind.cora.graph\n",
            "Downloading https://github.com/kimiyoung/planetoid/raw/master/data/ind.cora.test.index\n",
            "Processing...\n",
            "Done!\n"
          ]
        },
        {
          "output_type": "stream",
          "name": "stdout",
          "text": [
            "{'partition_method': 'metis', 'GNN': 'SGC', 'dataset': 'Cora', 'num_parts': 9, 'device': 'cuda', 'edges_after_partition': 9370, 'avg_train_loss': 0.19335828675578037, 'time_taken_for_train': 1386982.9983333333, 'time_taken_for_test': 118715.66666666667, 'test_accuracy': 0.7856666666666667}\n",
            "dumped to /content/experiment_results_cuda_SGC.json\n"
          ]
        },
        {
          "output_type": "stream",
          "name": "stderr",
          "text": [
            "Downloading https://github.com/kimiyoung/planetoid/raw/master/data/ind.cora.x\n",
            "Downloading https://github.com/kimiyoung/planetoid/raw/master/data/ind.cora.tx\n",
            "Downloading https://github.com/kimiyoung/planetoid/raw/master/data/ind.cora.allx\n",
            "Downloading https://github.com/kimiyoung/planetoid/raw/master/data/ind.cora.y\n",
            "Downloading https://github.com/kimiyoung/planetoid/raw/master/data/ind.cora.ty\n",
            "Downloading https://github.com/kimiyoung/planetoid/raw/master/data/ind.cora.ally\n",
            "Downloading https://github.com/kimiyoung/planetoid/raw/master/data/ind.cora.graph\n",
            "Downloading https://github.com/kimiyoung/planetoid/raw/master/data/ind.cora.test.index\n",
            "Processing...\n",
            "Done!\n"
          ]
        },
        {
          "output_type": "stream",
          "name": "stdout",
          "text": [
            "{'partition_method': 'metis', 'GNN': 'SGC', 'dataset': 'Cora', 'num_parts': 10, 'device': 'cuda', 'edges_after_partition': 9348, 'avg_train_loss': 0.19367368454734482, 'time_taken_for_train': 1408962.1716666666, 'time_taken_for_test': 132424.33333333334, 'test_accuracy': 0.786}\n",
            "dumped to /content/experiment_results_cuda_SGC.json\n"
          ]
        },
        {
          "output_type": "stream",
          "name": "stderr",
          "text": [
            "Downloading https://github.com/kimiyoung/planetoid/raw/master/data/ind.cora.x\n",
            "Downloading https://github.com/kimiyoung/planetoid/raw/master/data/ind.cora.tx\n",
            "Downloading https://github.com/kimiyoung/planetoid/raw/master/data/ind.cora.allx\n",
            "Downloading https://github.com/kimiyoung/planetoid/raw/master/data/ind.cora.y\n",
            "Downloading https://github.com/kimiyoung/planetoid/raw/master/data/ind.cora.ty\n",
            "Downloading https://github.com/kimiyoung/planetoid/raw/master/data/ind.cora.ally\n",
            "Downloading https://github.com/kimiyoung/planetoid/raw/master/data/ind.cora.graph\n",
            "Downloading https://github.com/kimiyoung/planetoid/raw/master/data/ind.cora.test.index\n",
            "Processing...\n",
            "Done!\n"
          ]
        },
        {
          "output_type": "stream",
          "name": "stdout",
          "text": [
            "{'partition_method': 'metis', 'GNN': 'SGC', 'dataset': 'Cora', 'num_parts': 20, 'device': 'cuda', 'edges_after_partition': 8958, 'avg_train_loss': 0.18984723566720885, 'time_taken_for_train': 1402325.2266666666, 'time_taken_for_test': 116857.0, 'test_accuracy': 0.7766666666666667}\n",
            "dumped to /content/experiment_results_cuda_SGC.json\n"
          ]
        },
        {
          "output_type": "stream",
          "name": "stderr",
          "text": [
            "Downloading https://github.com/kimiyoung/planetoid/raw/master/data/ind.cora.x\n",
            "Downloading https://github.com/kimiyoung/planetoid/raw/master/data/ind.cora.tx\n",
            "Downloading https://github.com/kimiyoung/planetoid/raw/master/data/ind.cora.allx\n",
            "Downloading https://github.com/kimiyoung/planetoid/raw/master/data/ind.cora.y\n",
            "Downloading https://github.com/kimiyoung/planetoid/raw/master/data/ind.cora.ty\n",
            "Downloading https://github.com/kimiyoung/planetoid/raw/master/data/ind.cora.ally\n",
            "Downloading https://github.com/kimiyoung/planetoid/raw/master/data/ind.cora.graph\n",
            "Downloading https://github.com/kimiyoung/planetoid/raw/master/data/ind.cora.test.index\n",
            "Processing...\n",
            "Done!\n"
          ]
        },
        {
          "output_type": "stream",
          "name": "stdout",
          "text": [
            "{'partition_method': 'metis', 'GNN': 'SGC', 'dataset': 'Cora', 'num_parts': 30, 'device': 'cuda', 'edges_after_partition': 8600, 'avg_train_loss': 0.19275154300034048, 'time_taken_for_train': 1411905.6133333333, 'time_taken_for_test': 122034.0, 'test_accuracy': 0.7679999999999999}\n",
            "dumped to /content/experiment_results_cuda_SGC.json\n"
          ]
        },
        {
          "output_type": "stream",
          "name": "stderr",
          "text": [
            "Downloading https://github.com/kimiyoung/planetoid/raw/master/data/ind.cora.x\n",
            "Downloading https://github.com/kimiyoung/planetoid/raw/master/data/ind.cora.tx\n",
            "Downloading https://github.com/kimiyoung/planetoid/raw/master/data/ind.cora.allx\n",
            "Downloading https://github.com/kimiyoung/planetoid/raw/master/data/ind.cora.y\n",
            "Downloading https://github.com/kimiyoung/planetoid/raw/master/data/ind.cora.ty\n",
            "Downloading https://github.com/kimiyoung/planetoid/raw/master/data/ind.cora.ally\n",
            "Downloading https://github.com/kimiyoung/planetoid/raw/master/data/ind.cora.graph\n",
            "Downloading https://github.com/kimiyoung/planetoid/raw/master/data/ind.cora.test.index\n",
            "Processing...\n",
            "Done!\n"
          ]
        },
        {
          "output_type": "stream",
          "name": "stdout",
          "text": [
            "{'partition_method': 'metis', 'GNN': 'SGC', 'dataset': 'Cora', 'num_parts': 40, 'device': 'cuda', 'edges_after_partition': 8382, 'avg_train_loss': 0.18592261688783765, 'time_taken_for_train': 1400329.2133333336, 'time_taken_for_test': 136297.66666666666, 'test_accuracy': 0.7676666666666666}\n",
            "dumped to /content/experiment_results_cuda_SGC.json\n"
          ]
        },
        {
          "output_type": "stream",
          "name": "stderr",
          "text": [
            "Downloading https://github.com/kimiyoung/planetoid/raw/master/data/ind.cora.x\n",
            "Downloading https://github.com/kimiyoung/planetoid/raw/master/data/ind.cora.tx\n",
            "Downloading https://github.com/kimiyoung/planetoid/raw/master/data/ind.cora.allx\n",
            "Downloading https://github.com/kimiyoung/planetoid/raw/master/data/ind.cora.y\n",
            "Downloading https://github.com/kimiyoung/planetoid/raw/master/data/ind.cora.ty\n",
            "Downloading https://github.com/kimiyoung/planetoid/raw/master/data/ind.cora.ally\n",
            "Downloading https://github.com/kimiyoung/planetoid/raw/master/data/ind.cora.graph\n",
            "Downloading https://github.com/kimiyoung/planetoid/raw/master/data/ind.cora.test.index\n",
            "Processing...\n",
            "Done!\n"
          ]
        },
        {
          "output_type": "stream",
          "name": "stdout",
          "text": [
            "{'partition_method': 'metis', 'GNN': 'SGC', 'dataset': 'Cora', 'num_parts': 50, 'device': 'cuda', 'edges_after_partition': 8132, 'avg_train_loss': 0.18802840231607357, 'time_taken_for_train': 1378352.2216666667, 'time_taken_for_test': 119605.0, 'test_accuracy': 0.7603333333333332}\n",
            "dumped to /content/experiment_results_cuda_SGC.json\n"
          ]
        },
        {
          "output_type": "stream",
          "name": "stderr",
          "text": [
            "Downloading https://github.com/kimiyoung/planetoid/raw/master/data/ind.cora.x\n",
            "Downloading https://github.com/kimiyoung/planetoid/raw/master/data/ind.cora.tx\n",
            "Downloading https://github.com/kimiyoung/planetoid/raw/master/data/ind.cora.allx\n",
            "Downloading https://github.com/kimiyoung/planetoid/raw/master/data/ind.cora.y\n",
            "Downloading https://github.com/kimiyoung/planetoid/raw/master/data/ind.cora.ty\n",
            "Downloading https://github.com/kimiyoung/planetoid/raw/master/data/ind.cora.ally\n",
            "Downloading https://github.com/kimiyoung/planetoid/raw/master/data/ind.cora.graph\n",
            "Downloading https://github.com/kimiyoung/planetoid/raw/master/data/ind.cora.test.index\n",
            "Processing...\n",
            "Done!\n"
          ]
        },
        {
          "output_type": "stream",
          "name": "stdout",
          "text": [
            "{'partition_method': 'metis', 'GNN': 'SGC', 'dataset': 'Cora', 'num_parts': 60, 'device': 'cuda', 'edges_after_partition': 8054, 'avg_train_loss': 0.180231096552064, 'time_taken_for_train': 1382692.2533333332, 'time_taken_for_test': 116063.0, 'test_accuracy': 0.763}\n",
            "dumped to /content/experiment_results_cuda_SGC.json\n"
          ]
        },
        {
          "output_type": "stream",
          "name": "stderr",
          "text": [
            "Downloading https://github.com/kimiyoung/planetoid/raw/master/data/ind.cora.x\n",
            "Downloading https://github.com/kimiyoung/planetoid/raw/master/data/ind.cora.tx\n",
            "Downloading https://github.com/kimiyoung/planetoid/raw/master/data/ind.cora.allx\n",
            "Downloading https://github.com/kimiyoung/planetoid/raw/master/data/ind.cora.y\n",
            "Downloading https://github.com/kimiyoung/planetoid/raw/master/data/ind.cora.ty\n",
            "Downloading https://github.com/kimiyoung/planetoid/raw/master/data/ind.cora.ally\n",
            "Downloading https://github.com/kimiyoung/planetoid/raw/master/data/ind.cora.graph\n",
            "Downloading https://github.com/kimiyoung/planetoid/raw/master/data/ind.cora.test.index\n",
            "Processing...\n",
            "Done!\n"
          ]
        },
        {
          "output_type": "stream",
          "name": "stdout",
          "text": [
            "{'partition_method': 'metis', 'GNN': 'SGC', 'dataset': 'Cora', 'num_parts': 70, 'device': 'cuda', 'edges_after_partition': 7788, 'avg_train_loss': 0.18453023957709472, 'time_taken_for_train': 1376345.355, 'time_taken_for_test': 116697.33333333333, 'test_accuracy': 0.7756666666666666}\n",
            "dumped to /content/experiment_results_cuda_SGC.json\n"
          ]
        },
        {
          "output_type": "stream",
          "name": "stderr",
          "text": [
            "Downloading https://github.com/kimiyoung/planetoid/raw/master/data/ind.cora.x\n",
            "Downloading https://github.com/kimiyoung/planetoid/raw/master/data/ind.cora.tx\n",
            "Downloading https://github.com/kimiyoung/planetoid/raw/master/data/ind.cora.allx\n",
            "Downloading https://github.com/kimiyoung/planetoid/raw/master/data/ind.cora.y\n",
            "Downloading https://github.com/kimiyoung/planetoid/raw/master/data/ind.cora.ty\n",
            "Downloading https://github.com/kimiyoung/planetoid/raw/master/data/ind.cora.ally\n",
            "Downloading https://github.com/kimiyoung/planetoid/raw/master/data/ind.cora.graph\n",
            "Downloading https://github.com/kimiyoung/planetoid/raw/master/data/ind.cora.test.index\n",
            "Processing...\n",
            "Done!\n"
          ]
        },
        {
          "output_type": "stream",
          "name": "stdout",
          "text": [
            "{'partition_method': 'metis', 'GNN': 'SGC', 'dataset': 'Cora', 'num_parts': 80, 'device': 'cuda', 'edges_after_partition': 7422, 'avg_train_loss': 0.17915111559132735, 'time_taken_for_train': 1385047.8783333334, 'time_taken_for_test': 116991.66666666667, 'test_accuracy': 0.7516666666666666}\n",
            "dumped to /content/experiment_results_cuda_SGC.json\n"
          ]
        },
        {
          "output_type": "stream",
          "name": "stderr",
          "text": [
            "Downloading https://github.com/kimiyoung/planetoid/raw/master/data/ind.cora.x\n",
            "Downloading https://github.com/kimiyoung/planetoid/raw/master/data/ind.cora.tx\n",
            "Downloading https://github.com/kimiyoung/planetoid/raw/master/data/ind.cora.allx\n",
            "Downloading https://github.com/kimiyoung/planetoid/raw/master/data/ind.cora.y\n",
            "Downloading https://github.com/kimiyoung/planetoid/raw/master/data/ind.cora.ty\n",
            "Downloading https://github.com/kimiyoung/planetoid/raw/master/data/ind.cora.ally\n",
            "Downloading https://github.com/kimiyoung/planetoid/raw/master/data/ind.cora.graph\n",
            "Downloading https://github.com/kimiyoung/planetoid/raw/master/data/ind.cora.test.index\n",
            "Processing...\n",
            "Done!\n"
          ]
        },
        {
          "output_type": "stream",
          "name": "stdout",
          "text": [
            "{'partition_method': 'metis', 'GNN': 'SGC', 'dataset': 'Cora', 'num_parts': 90, 'device': 'cuda', 'edges_after_partition': 6044, 'avg_train_loss': 0.1633076157855491, 'time_taken_for_train': 1390794.4683333333, 'time_taken_for_test': 116876.33333333333, 'test_accuracy': 0.7523333333333334}\n",
            "dumped to /content/experiment_results_cuda_SGC.json\n"
          ]
        },
        {
          "output_type": "stream",
          "name": "stderr",
          "text": [
            "Downloading https://github.com/kimiyoung/planetoid/raw/master/data/ind.cora.x\n",
            "Downloading https://github.com/kimiyoung/planetoid/raw/master/data/ind.cora.tx\n",
            "Downloading https://github.com/kimiyoung/planetoid/raw/master/data/ind.cora.allx\n",
            "Downloading https://github.com/kimiyoung/planetoid/raw/master/data/ind.cora.y\n",
            "Downloading https://github.com/kimiyoung/planetoid/raw/master/data/ind.cora.ty\n",
            "Downloading https://github.com/kimiyoung/planetoid/raw/master/data/ind.cora.ally\n",
            "Downloading https://github.com/kimiyoung/planetoid/raw/master/data/ind.cora.graph\n",
            "Downloading https://github.com/kimiyoung/planetoid/raw/master/data/ind.cora.test.index\n",
            "Processing...\n",
            "Done!\n"
          ]
        },
        {
          "output_type": "stream",
          "name": "stdout",
          "text": [
            "{'partition_method': 'metis', 'GNN': 'SGC', 'dataset': 'Cora', 'num_parts': 100, 'device': 'cuda', 'edges_after_partition': 6138, 'avg_train_loss': 0.16739779942979416, 'time_taken_for_train': 1371276.5966666664, 'time_taken_for_test': 125972.0, 'test_accuracy': 0.7563333333333334}\n",
            "dumped to /content/experiment_results_cuda_SGC.json\n"
          ]
        },
        {
          "output_type": "stream",
          "name": "stderr",
          "text": [
            "Downloading https://github.com/kimiyoung/planetoid/raw/master/data/ind.cora.x\n",
            "Downloading https://github.com/kimiyoung/planetoid/raw/master/data/ind.cora.tx\n",
            "Downloading https://github.com/kimiyoung/planetoid/raw/master/data/ind.cora.allx\n",
            "Downloading https://github.com/kimiyoung/planetoid/raw/master/data/ind.cora.y\n",
            "Downloading https://github.com/kimiyoung/planetoid/raw/master/data/ind.cora.ty\n",
            "Downloading https://github.com/kimiyoung/planetoid/raw/master/data/ind.cora.ally\n",
            "Downloading https://github.com/kimiyoung/planetoid/raw/master/data/ind.cora.graph\n",
            "Downloading https://github.com/kimiyoung/planetoid/raw/master/data/ind.cora.test.index\n",
            "Processing...\n",
            "Done!\n"
          ]
        },
        {
          "output_type": "stream",
          "name": "stdout",
          "text": [
            "{'partition_method': 'metis', 'GNN': 'SGC', 'dataset': 'Cora', 'num_parts': 200, 'device': 'cuda', 'edges_after_partition': 3998, 'avg_train_loss': 0.1503556552094718, 'time_taken_for_train': 1865438.7116666667, 'time_taken_for_test': 132982.66666666666, 'test_accuracy': 0.6866666666666669}\n",
            "dumped to /content/experiment_results_cuda_SGC.json\n"
          ]
        },
        {
          "output_type": "stream",
          "name": "stderr",
          "text": [
            "Downloading https://github.com/kimiyoung/planetoid/raw/master/data/ind.cora.x\n",
            "Downloading https://github.com/kimiyoung/planetoid/raw/master/data/ind.cora.tx\n",
            "Downloading https://github.com/kimiyoung/planetoid/raw/master/data/ind.cora.allx\n",
            "Downloading https://github.com/kimiyoung/planetoid/raw/master/data/ind.cora.y\n",
            "Downloading https://github.com/kimiyoung/planetoid/raw/master/data/ind.cora.ty\n",
            "Downloading https://github.com/kimiyoung/planetoid/raw/master/data/ind.cora.ally\n",
            "Downloading https://github.com/kimiyoung/planetoid/raw/master/data/ind.cora.graph\n",
            "Downloading https://github.com/kimiyoung/planetoid/raw/master/data/ind.cora.test.index\n",
            "Processing...\n",
            "Done!\n"
          ]
        },
        {
          "output_type": "stream",
          "name": "stdout",
          "text": [
            "{'partition_method': 'metis', 'GNN': 'SGC', 'dataset': 'Cora', 'num_parts': 300, 'device': 'cuda', 'edges_after_partition': 4456, 'avg_train_loss': 0.15041349623352288, 'time_taken_for_train': 1362836.3083333333, 'time_taken_for_test': 121303.33333333333, 'test_accuracy': 0.7263333333333333}\n",
            "dumped to /content/experiment_results_cuda_SGC.json\n"
          ]
        },
        {
          "output_type": "stream",
          "name": "stderr",
          "text": [
            "Downloading https://github.com/kimiyoung/planetoid/raw/master/data/ind.cora.x\n",
            "Downloading https://github.com/kimiyoung/planetoid/raw/master/data/ind.cora.tx\n",
            "Downloading https://github.com/kimiyoung/planetoid/raw/master/data/ind.cora.allx\n",
            "Downloading https://github.com/kimiyoung/planetoid/raw/master/data/ind.cora.y\n",
            "Downloading https://github.com/kimiyoung/planetoid/raw/master/data/ind.cora.ty\n",
            "Downloading https://github.com/kimiyoung/planetoid/raw/master/data/ind.cora.ally\n",
            "Downloading https://github.com/kimiyoung/planetoid/raw/master/data/ind.cora.graph\n",
            "Downloading https://github.com/kimiyoung/planetoid/raw/master/data/ind.cora.test.index\n",
            "Processing...\n",
            "Done!\n"
          ]
        },
        {
          "output_type": "stream",
          "name": "stdout",
          "text": [
            "{'partition_method': 'metis', 'GNN': 'SGC', 'dataset': 'Cora', 'num_parts': 400, 'device': 'cuda', 'edges_after_partition': 3648, 'avg_train_loss': 0.14203636592254043, 'time_taken_for_train': 1426698.4716666667, 'time_taken_for_test': 150765.66666666666, 'test_accuracy': 0.6926666666666667}\n",
            "dumped to /content/experiment_results_cuda_SGC.json\n"
          ]
        },
        {
          "output_type": "stream",
          "name": "stderr",
          "text": [
            "Downloading https://github.com/kimiyoung/planetoid/raw/master/data/ind.cora.x\n",
            "Downloading https://github.com/kimiyoung/planetoid/raw/master/data/ind.cora.tx\n",
            "Downloading https://github.com/kimiyoung/planetoid/raw/master/data/ind.cora.allx\n",
            "Downloading https://github.com/kimiyoung/planetoid/raw/master/data/ind.cora.y\n",
            "Downloading https://github.com/kimiyoung/planetoid/raw/master/data/ind.cora.ty\n",
            "Downloading https://github.com/kimiyoung/planetoid/raw/master/data/ind.cora.ally\n",
            "Downloading https://github.com/kimiyoung/planetoid/raw/master/data/ind.cora.graph\n",
            "Downloading https://github.com/kimiyoung/planetoid/raw/master/data/ind.cora.test.index\n",
            "Processing...\n",
            "Done!\n"
          ]
        },
        {
          "output_type": "stream",
          "name": "stdout",
          "text": [
            "{'partition_method': 'metis', 'GNN': 'SGC', 'dataset': 'Cora', 'num_parts': 500, 'device': 'cuda', 'edges_after_partition': 3344, 'avg_train_loss': 0.13688873413950203, 'time_taken_for_train': 1391844.6233333333, 'time_taken_for_test': 127653.0, 'test_accuracy': 0.6726666666666667}\n",
            "dumped to /content/experiment_results_cuda_SGC.json\n"
          ]
        },
        {
          "output_type": "stream",
          "name": "stderr",
          "text": [
            "Downloading https://github.com/kimiyoung/planetoid/raw/master/data/ind.cora.x\n",
            "Downloading https://github.com/kimiyoung/planetoid/raw/master/data/ind.cora.tx\n",
            "Downloading https://github.com/kimiyoung/planetoid/raw/master/data/ind.cora.allx\n",
            "Downloading https://github.com/kimiyoung/planetoid/raw/master/data/ind.cora.y\n",
            "Downloading https://github.com/kimiyoung/planetoid/raw/master/data/ind.cora.ty\n",
            "Downloading https://github.com/kimiyoung/planetoid/raw/master/data/ind.cora.ally\n",
            "Downloading https://github.com/kimiyoung/planetoid/raw/master/data/ind.cora.graph\n",
            "Downloading https://github.com/kimiyoung/planetoid/raw/master/data/ind.cora.test.index\n",
            "Processing...\n",
            "Done!\n"
          ]
        },
        {
          "output_type": "stream",
          "name": "stdout",
          "text": [
            "{'partition_method': 'metis', 'GNN': 'SGC', 'dataset': 'Cora', 'num_parts': 600, 'device': 'cuda', 'edges_after_partition': 3288, 'avg_train_loss': 0.14344024106860162, 'time_taken_for_train': 1380597.7933333332, 'time_taken_for_test': 129924.66666666667, 'test_accuracy': 0.697}\n",
            "dumped to /content/experiment_results_cuda_SGC.json\n"
          ]
        },
        {
          "output_type": "stream",
          "name": "stderr",
          "text": [
            "Downloading https://github.com/kimiyoung/planetoid/raw/master/data/ind.cora.x\n",
            "Downloading https://github.com/kimiyoung/planetoid/raw/master/data/ind.cora.tx\n",
            "Downloading https://github.com/kimiyoung/planetoid/raw/master/data/ind.cora.allx\n",
            "Downloading https://github.com/kimiyoung/planetoid/raw/master/data/ind.cora.y\n",
            "Downloading https://github.com/kimiyoung/planetoid/raw/master/data/ind.cora.ty\n",
            "Downloading https://github.com/kimiyoung/planetoid/raw/master/data/ind.cora.ally\n",
            "Downloading https://github.com/kimiyoung/planetoid/raw/master/data/ind.cora.graph\n",
            "Downloading https://github.com/kimiyoung/planetoid/raw/master/data/ind.cora.test.index\n",
            "Processing...\n",
            "Done!\n"
          ]
        },
        {
          "output_type": "stream",
          "name": "stdout",
          "text": [
            "{'partition_method': 'metis', 'GNN': 'SGC', 'dataset': 'Cora', 'num_parts': 700, 'device': 'cuda', 'edges_after_partition': 3358, 'avg_train_loss': 0.1390054710830251, 'time_taken_for_train': 1364523.8283333334, 'time_taken_for_test': 115641.66666666667, 'test_accuracy': 0.664}\n",
            "dumped to /content/experiment_results_cuda_SGC.json\n"
          ]
        },
        {
          "output_type": "stream",
          "name": "stderr",
          "text": [
            "Downloading https://github.com/kimiyoung/planetoid/raw/master/data/ind.cora.x\n",
            "Downloading https://github.com/kimiyoung/planetoid/raw/master/data/ind.cora.tx\n",
            "Downloading https://github.com/kimiyoung/planetoid/raw/master/data/ind.cora.allx\n",
            "Downloading https://github.com/kimiyoung/planetoid/raw/master/data/ind.cora.y\n",
            "Downloading https://github.com/kimiyoung/planetoid/raw/master/data/ind.cora.ty\n",
            "Downloading https://github.com/kimiyoung/planetoid/raw/master/data/ind.cora.ally\n",
            "Downloading https://github.com/kimiyoung/planetoid/raw/master/data/ind.cora.graph\n",
            "Downloading https://github.com/kimiyoung/planetoid/raw/master/data/ind.cora.test.index\n",
            "Processing...\n",
            "Done!\n"
          ]
        },
        {
          "output_type": "stream",
          "name": "stdout",
          "text": [
            "{'partition_method': 'metis', 'GNN': 'SGC', 'dataset': 'Cora', 'num_parts': 800, 'device': 'cuda', 'edges_after_partition': 3156, 'avg_train_loss': 0.13859879854445656, 'time_taken_for_train': 1447438.6283333332, 'time_taken_for_test': 143142.33333333334, 'test_accuracy': 0.6863333333333334}\n",
            "dumped to /content/experiment_results_cuda_SGC.json\n"
          ]
        },
        {
          "output_type": "stream",
          "name": "stderr",
          "text": [
            "Downloading https://github.com/kimiyoung/planetoid/raw/master/data/ind.cora.x\n",
            "Downloading https://github.com/kimiyoung/planetoid/raw/master/data/ind.cora.tx\n",
            "Downloading https://github.com/kimiyoung/planetoid/raw/master/data/ind.cora.allx\n",
            "Downloading https://github.com/kimiyoung/planetoid/raw/master/data/ind.cora.y\n",
            "Downloading https://github.com/kimiyoung/planetoid/raw/master/data/ind.cora.ty\n",
            "Downloading https://github.com/kimiyoung/planetoid/raw/master/data/ind.cora.ally\n",
            "Downloading https://github.com/kimiyoung/planetoid/raw/master/data/ind.cora.graph\n",
            "Downloading https://github.com/kimiyoung/planetoid/raw/master/data/ind.cora.test.index\n",
            "Processing...\n",
            "Done!\n"
          ]
        },
        {
          "output_type": "stream",
          "name": "stdout",
          "text": [
            "{'partition_method': 'metis', 'GNN': 'SGC', 'dataset': 'Cora', 'num_parts': 900, 'device': 'cuda', 'edges_after_partition': 3100, 'avg_train_loss': 0.13686154201005896, 'time_taken_for_train': 1396424.0416666667, 'time_taken_for_test': 123410.33333333333, 'test_accuracy': 0.645}\n",
            "dumped to /content/experiment_results_cuda_SGC.json\n"
          ]
        },
        {
          "output_type": "stream",
          "name": "stderr",
          "text": [
            "Downloading https://github.com/kimiyoung/planetoid/raw/master/data/ind.cora.x\n",
            "Downloading https://github.com/kimiyoung/planetoid/raw/master/data/ind.cora.tx\n",
            "Downloading https://github.com/kimiyoung/planetoid/raw/master/data/ind.cora.allx\n",
            "Downloading https://github.com/kimiyoung/planetoid/raw/master/data/ind.cora.y\n",
            "Downloading https://github.com/kimiyoung/planetoid/raw/master/data/ind.cora.ty\n",
            "Downloading https://github.com/kimiyoung/planetoid/raw/master/data/ind.cora.ally\n",
            "Downloading https://github.com/kimiyoung/planetoid/raw/master/data/ind.cora.graph\n",
            "Downloading https://github.com/kimiyoung/planetoid/raw/master/data/ind.cora.test.index\n",
            "Processing...\n",
            "Done!\n"
          ]
        },
        {
          "output_type": "stream",
          "name": "stdout",
          "text": [
            "{'partition_method': 'metis', 'GNN': 'SGC', 'dataset': 'Cora', 'num_parts': 1000, 'device': 'cuda', 'edges_after_partition': 2952, 'avg_train_loss': 0.14534499222412703, 'time_taken_for_train': 1361120.6, 'time_taken_for_test': 116182.0, 'test_accuracy': 0.6670000000000001}\n",
            "dumped to /content/experiment_results_cuda_SGC.json\n"
          ]
        },
        {
          "output_type": "stream",
          "name": "stderr",
          "text": [
            "Downloading https://github.com/kimiyoung/planetoid/raw/master/data/ind.cora.x\n",
            "Downloading https://github.com/kimiyoung/planetoid/raw/master/data/ind.cora.tx\n",
            "Downloading https://github.com/kimiyoung/planetoid/raw/master/data/ind.cora.allx\n",
            "Downloading https://github.com/kimiyoung/planetoid/raw/master/data/ind.cora.y\n",
            "Downloading https://github.com/kimiyoung/planetoid/raw/master/data/ind.cora.ty\n",
            "Downloading https://github.com/kimiyoung/planetoid/raw/master/data/ind.cora.ally\n",
            "Downloading https://github.com/kimiyoung/planetoid/raw/master/data/ind.cora.graph\n",
            "Downloading https://github.com/kimiyoung/planetoid/raw/master/data/ind.cora.test.index\n",
            "Processing...\n",
            "Done!\n"
          ]
        },
        {
          "output_type": "stream",
          "name": "stdout",
          "text": [
            "{'partition_method': 'metis', 'GNN': 'SGC', 'dataset': 'Cora', 'num_parts': 2000, 'device': 'cuda', 'edges_after_partition': 3138, 'avg_train_loss': 0.13980905060345927, 'time_taken_for_train': 1379722.0, 'time_taken_for_test': 141497.0, 'test_accuracy': 0.644}\n",
            "dumped to /content/experiment_results_cuda_SGC.json\n"
          ]
        },
        {
          "output_type": "stream",
          "name": "stderr",
          "text": [
            "Downloading https://github.com/kimiyoung/planetoid/raw/master/data/ind.cora.x\n",
            "Downloading https://github.com/kimiyoung/planetoid/raw/master/data/ind.cora.tx\n",
            "Downloading https://github.com/kimiyoung/planetoid/raw/master/data/ind.cora.allx\n",
            "Downloading https://github.com/kimiyoung/planetoid/raw/master/data/ind.cora.y\n",
            "Downloading https://github.com/kimiyoung/planetoid/raw/master/data/ind.cora.ty\n",
            "Downloading https://github.com/kimiyoung/planetoid/raw/master/data/ind.cora.ally\n",
            "Downloading https://github.com/kimiyoung/planetoid/raw/master/data/ind.cora.graph\n",
            "Downloading https://github.com/kimiyoung/planetoid/raw/master/data/ind.cora.test.index\n",
            "Processing...\n",
            "Done!\n",
            "Downloading https://github.com/kimiyoung/planetoid/raw/master/data/ind.citeseer.x\n",
            "Downloading https://github.com/kimiyoung/planetoid/raw/master/data/ind.citeseer.tx\n",
            "Downloading https://github.com/kimiyoung/planetoid/raw/master/data/ind.citeseer.allx\n",
            "Downloading https://github.com/kimiyoung/planetoid/raw/master/data/ind.citeseer.y\n",
            "Downloading https://github.com/kimiyoung/planetoid/raw/master/data/ind.citeseer.ty\n",
            "Downloading https://github.com/kimiyoung/planetoid/raw/master/data/ind.citeseer.ally\n",
            "Downloading https://github.com/kimiyoung/planetoid/raw/master/data/ind.citeseer.graph\n",
            "Downloading https://github.com/kimiyoung/planetoid/raw/master/data/ind.citeseer.test.index\n",
            "Processing...\n",
            "Done!\n"
          ]
        },
        {
          "output_type": "stream",
          "name": "stdout",
          "text": [
            "{'partition_method': 'metis', 'GNN': 'SGC', 'dataset': 'CiteSeer', 'num_parts': 1, 'device': 'cuda', 'edges_after_partition': 9104, 'avg_train_loss': 0.10736963271473844, 'time_taken_for_train': 1739290.735, 'time_taken_for_test': 115583.66666666667, 'test_accuracy': 0.6636666666666667}\n",
            "dumped to /content/experiment_results_cuda_SGC.json\n"
          ]
        },
        {
          "output_type": "stream",
          "name": "stderr",
          "text": [
            "Downloading https://github.com/kimiyoung/planetoid/raw/master/data/ind.citeseer.x\n",
            "Downloading https://github.com/kimiyoung/planetoid/raw/master/data/ind.citeseer.tx\n",
            "Downloading https://github.com/kimiyoung/planetoid/raw/master/data/ind.citeseer.allx\n",
            "Downloading https://github.com/kimiyoung/planetoid/raw/master/data/ind.citeseer.y\n",
            "Downloading https://github.com/kimiyoung/planetoid/raw/master/data/ind.citeseer.ty\n",
            "Downloading https://github.com/kimiyoung/planetoid/raw/master/data/ind.citeseer.ally\n",
            "Downloading https://github.com/kimiyoung/planetoid/raw/master/data/ind.citeseer.graph\n",
            "Downloading https://github.com/kimiyoung/planetoid/raw/master/data/ind.citeseer.test.index\n",
            "Processing...\n",
            "Done!\n"
          ]
        },
        {
          "output_type": "stream",
          "name": "stdout",
          "text": [
            "{'partition_method': 'metis', 'GNN': 'SGC', 'dataset': 'CiteSeer', 'num_parts': 2, 'device': 'cuda', 'edges_after_partition': 9052, 'avg_train_loss': 0.10668194334954025, 'time_taken_for_train': 1662760.0933333335, 'time_taken_for_test': 129003.0, 'test_accuracy': 0.666}\n",
            "dumped to /content/experiment_results_cuda_SGC.json\n"
          ]
        },
        {
          "output_type": "stream",
          "name": "stderr",
          "text": [
            "Downloading https://github.com/kimiyoung/planetoid/raw/master/data/ind.citeseer.x\n",
            "Downloading https://github.com/kimiyoung/planetoid/raw/master/data/ind.citeseer.tx\n",
            "Downloading https://github.com/kimiyoung/planetoid/raw/master/data/ind.citeseer.allx\n",
            "Downloading https://github.com/kimiyoung/planetoid/raw/master/data/ind.citeseer.y\n",
            "Downloading https://github.com/kimiyoung/planetoid/raw/master/data/ind.citeseer.ty\n",
            "Downloading https://github.com/kimiyoung/planetoid/raw/master/data/ind.citeseer.ally\n",
            "Downloading https://github.com/kimiyoung/planetoid/raw/master/data/ind.citeseer.graph\n",
            "Downloading https://github.com/kimiyoung/planetoid/raw/master/data/ind.citeseer.test.index\n",
            "Processing...\n",
            "Done!\n"
          ]
        },
        {
          "output_type": "stream",
          "name": "stdout",
          "text": [
            "{'partition_method': 'metis', 'GNN': 'SGC', 'dataset': 'CiteSeer', 'num_parts': 3, 'device': 'cuda', 'edges_after_partition': 9050, 'avg_train_loss': 0.1069871154986322, 'time_taken_for_train': 1951006.7216666667, 'time_taken_for_test': 152339.0, 'test_accuracy': 0.665}\n",
            "dumped to /content/experiment_results_cuda_SGC.json\n"
          ]
        },
        {
          "output_type": "stream",
          "name": "stderr",
          "text": [
            "Downloading https://github.com/kimiyoung/planetoid/raw/master/data/ind.citeseer.x\n",
            "Downloading https://github.com/kimiyoung/planetoid/raw/master/data/ind.citeseer.tx\n",
            "Downloading https://github.com/kimiyoung/planetoid/raw/master/data/ind.citeseer.allx\n",
            "Downloading https://github.com/kimiyoung/planetoid/raw/master/data/ind.citeseer.y\n",
            "Downloading https://github.com/kimiyoung/planetoid/raw/master/data/ind.citeseer.ty\n",
            "Downloading https://github.com/kimiyoung/planetoid/raw/master/data/ind.citeseer.ally\n",
            "Downloading https://github.com/kimiyoung/planetoid/raw/master/data/ind.citeseer.graph\n",
            "Downloading https://github.com/kimiyoung/planetoid/raw/master/data/ind.citeseer.test.index\n",
            "Processing...\n",
            "Done!\n"
          ]
        },
        {
          "output_type": "stream",
          "name": "stdout",
          "text": [
            "{'partition_method': 'metis', 'GNN': 'SGC', 'dataset': 'CiteSeer', 'num_parts': 4, 'device': 'cuda', 'edges_after_partition': 8982, 'avg_train_loss': 0.10682702234014868, 'time_taken_for_train': 1707332.048333333, 'time_taken_for_test': 137625.0, 'test_accuracy': 0.6613333333333333}\n",
            "dumped to /content/experiment_results_cuda_SGC.json\n"
          ]
        },
        {
          "output_type": "stream",
          "name": "stderr",
          "text": [
            "Downloading https://github.com/kimiyoung/planetoid/raw/master/data/ind.citeseer.x\n",
            "Downloading https://github.com/kimiyoung/planetoid/raw/master/data/ind.citeseer.tx\n",
            "Downloading https://github.com/kimiyoung/planetoid/raw/master/data/ind.citeseer.allx\n",
            "Downloading https://github.com/kimiyoung/planetoid/raw/master/data/ind.citeseer.y\n",
            "Downloading https://github.com/kimiyoung/planetoid/raw/master/data/ind.citeseer.ty\n",
            "Downloading https://github.com/kimiyoung/planetoid/raw/master/data/ind.citeseer.ally\n",
            "Downloading https://github.com/kimiyoung/planetoid/raw/master/data/ind.citeseer.graph\n",
            "Downloading https://github.com/kimiyoung/planetoid/raw/master/data/ind.citeseer.test.index\n",
            "Processing...\n",
            "Done!\n"
          ]
        },
        {
          "output_type": "stream",
          "name": "stdout",
          "text": [
            "{'partition_method': 'metis', 'GNN': 'SGC', 'dataset': 'CiteSeer', 'num_parts': 5, 'device': 'cuda', 'edges_after_partition': 8952, 'avg_train_loss': 0.10850386626397569, 'time_taken_for_train': 1709201.51, 'time_taken_for_test': 127292.33333333333, 'test_accuracy': 0.6696666666666666}\n",
            "dumped to /content/experiment_results_cuda_SGC.json\n"
          ]
        },
        {
          "output_type": "stream",
          "name": "stderr",
          "text": [
            "Downloading https://github.com/kimiyoung/planetoid/raw/master/data/ind.citeseer.x\n",
            "Downloading https://github.com/kimiyoung/planetoid/raw/master/data/ind.citeseer.tx\n",
            "Downloading https://github.com/kimiyoung/planetoid/raw/master/data/ind.citeseer.allx\n",
            "Downloading https://github.com/kimiyoung/planetoid/raw/master/data/ind.citeseer.y\n",
            "Downloading https://github.com/kimiyoung/planetoid/raw/master/data/ind.citeseer.ty\n",
            "Downloading https://github.com/kimiyoung/planetoid/raw/master/data/ind.citeseer.ally\n",
            "Downloading https://github.com/kimiyoung/planetoid/raw/master/data/ind.citeseer.graph\n",
            "Downloading https://github.com/kimiyoung/planetoid/raw/master/data/ind.citeseer.test.index\n",
            "Processing...\n",
            "Done!\n"
          ]
        },
        {
          "output_type": "stream",
          "name": "stdout",
          "text": [
            "{'partition_method': 'metis', 'GNN': 'SGC', 'dataset': 'CiteSeer', 'num_parts': 6, 'device': 'cuda', 'edges_after_partition': 8880, 'avg_train_loss': 0.10331459643940132, 'time_taken_for_train': 1706560.4783333333, 'time_taken_for_test': 120346.0, 'test_accuracy': 0.664}\n",
            "dumped to /content/experiment_results_cuda_SGC.json\n"
          ]
        },
        {
          "output_type": "stream",
          "name": "stderr",
          "text": [
            "Downloading https://github.com/kimiyoung/planetoid/raw/master/data/ind.citeseer.x\n",
            "Downloading https://github.com/kimiyoung/planetoid/raw/master/data/ind.citeseer.tx\n",
            "Downloading https://github.com/kimiyoung/planetoid/raw/master/data/ind.citeseer.allx\n",
            "Downloading https://github.com/kimiyoung/planetoid/raw/master/data/ind.citeseer.y\n",
            "Downloading https://github.com/kimiyoung/planetoid/raw/master/data/ind.citeseer.ty\n",
            "Downloading https://github.com/kimiyoung/planetoid/raw/master/data/ind.citeseer.ally\n",
            "Downloading https://github.com/kimiyoung/planetoid/raw/master/data/ind.citeseer.graph\n",
            "Downloading https://github.com/kimiyoung/planetoid/raw/master/data/ind.citeseer.test.index\n",
            "Processing...\n",
            "Done!\n"
          ]
        },
        {
          "output_type": "stream",
          "name": "stdout",
          "text": [
            "{'partition_method': 'metis', 'GNN': 'SGC', 'dataset': 'CiteSeer', 'num_parts': 7, 'device': 'cuda', 'edges_after_partition': 8796, 'avg_train_loss': 0.10137949517617623, 'time_taken_for_train': 1669736.795, 'time_taken_for_test': 147898.66666666666, 'test_accuracy': 0.6703333333333333}\n",
            "dumped to /content/experiment_results_cuda_SGC.json\n"
          ]
        },
        {
          "output_type": "stream",
          "name": "stderr",
          "text": [
            "Downloading https://github.com/kimiyoung/planetoid/raw/master/data/ind.citeseer.x\n",
            "Downloading https://github.com/kimiyoung/planetoid/raw/master/data/ind.citeseer.tx\n",
            "Downloading https://github.com/kimiyoung/planetoid/raw/master/data/ind.citeseer.allx\n",
            "Downloading https://github.com/kimiyoung/planetoid/raw/master/data/ind.citeseer.y\n",
            "Downloading https://github.com/kimiyoung/planetoid/raw/master/data/ind.citeseer.ty\n",
            "Downloading https://github.com/kimiyoung/planetoid/raw/master/data/ind.citeseer.ally\n",
            "Downloading https://github.com/kimiyoung/planetoid/raw/master/data/ind.citeseer.graph\n",
            "Downloading https://github.com/kimiyoung/planetoid/raw/master/data/ind.citeseer.test.index\n",
            "Processing...\n",
            "Done!\n"
          ]
        },
        {
          "output_type": "stream",
          "name": "stdout",
          "text": [
            "{'partition_method': 'metis', 'GNN': 'SGC', 'dataset': 'CiteSeer', 'num_parts': 8, 'device': 'cuda', 'edges_after_partition': 8802, 'avg_train_loss': 0.10404547683894634, 'time_taken_for_train': 1699827.7466666668, 'time_taken_for_test': 146956.33333333334, 'test_accuracy': 0.6746666666666666}\n",
            "dumped to /content/experiment_results_cuda_SGC.json\n"
          ]
        },
        {
          "output_type": "stream",
          "name": "stderr",
          "text": [
            "Downloading https://github.com/kimiyoung/planetoid/raw/master/data/ind.citeseer.x\n",
            "Downloading https://github.com/kimiyoung/planetoid/raw/master/data/ind.citeseer.tx\n",
            "Downloading https://github.com/kimiyoung/planetoid/raw/master/data/ind.citeseer.allx\n",
            "Downloading https://github.com/kimiyoung/planetoid/raw/master/data/ind.citeseer.y\n",
            "Downloading https://github.com/kimiyoung/planetoid/raw/master/data/ind.citeseer.ty\n",
            "Downloading https://github.com/kimiyoung/planetoid/raw/master/data/ind.citeseer.ally\n",
            "Downloading https://github.com/kimiyoung/planetoid/raw/master/data/ind.citeseer.graph\n",
            "Downloading https://github.com/kimiyoung/planetoid/raw/master/data/ind.citeseer.test.index\n",
            "Processing...\n",
            "Done!\n"
          ]
        },
        {
          "output_type": "stream",
          "name": "stdout",
          "text": [
            "{'partition_method': 'metis', 'GNN': 'SGC', 'dataset': 'CiteSeer', 'num_parts': 9, 'device': 'cuda', 'edges_after_partition': 8748, 'avg_train_loss': 0.10208352642754714, 'time_taken_for_train': 1728756.915, 'time_taken_for_test': 114654.0, 'test_accuracy': 0.684}\n",
            "dumped to /content/experiment_results_cuda_SGC.json\n"
          ]
        },
        {
          "output_type": "stream",
          "name": "stderr",
          "text": [
            "Downloading https://github.com/kimiyoung/planetoid/raw/master/data/ind.citeseer.x\n",
            "Downloading https://github.com/kimiyoung/planetoid/raw/master/data/ind.citeseer.tx\n",
            "Downloading https://github.com/kimiyoung/planetoid/raw/master/data/ind.citeseer.allx\n",
            "Downloading https://github.com/kimiyoung/planetoid/raw/master/data/ind.citeseer.y\n",
            "Downloading https://github.com/kimiyoung/planetoid/raw/master/data/ind.citeseer.ty\n",
            "Downloading https://github.com/kimiyoung/planetoid/raw/master/data/ind.citeseer.ally\n",
            "Downloading https://github.com/kimiyoung/planetoid/raw/master/data/ind.citeseer.graph\n",
            "Downloading https://github.com/kimiyoung/planetoid/raw/master/data/ind.citeseer.test.index\n",
            "Processing...\n",
            "Done!\n"
          ]
        },
        {
          "output_type": "stream",
          "name": "stdout",
          "text": [
            "{'partition_method': 'metis', 'GNN': 'SGC', 'dataset': 'CiteSeer', 'num_parts': 10, 'device': 'cuda', 'edges_after_partition': 8732, 'avg_train_loss': 0.1007449756624798, 'time_taken_for_train': 1882688.7216666664, 'time_taken_for_test': 151432.33333333334, 'test_accuracy': 0.6733333333333333}\n",
            "dumped to /content/experiment_results_cuda_SGC.json\n"
          ]
        },
        {
          "output_type": "stream",
          "name": "stderr",
          "text": [
            "Downloading https://github.com/kimiyoung/planetoid/raw/master/data/ind.citeseer.x\n",
            "Downloading https://github.com/kimiyoung/planetoid/raw/master/data/ind.citeseer.tx\n",
            "Downloading https://github.com/kimiyoung/planetoid/raw/master/data/ind.citeseer.allx\n",
            "Downloading https://github.com/kimiyoung/planetoid/raw/master/data/ind.citeseer.y\n",
            "Downloading https://github.com/kimiyoung/planetoid/raw/master/data/ind.citeseer.ty\n",
            "Downloading https://github.com/kimiyoung/planetoid/raw/master/data/ind.citeseer.ally\n",
            "Downloading https://github.com/kimiyoung/planetoid/raw/master/data/ind.citeseer.graph\n",
            "Downloading https://github.com/kimiyoung/planetoid/raw/master/data/ind.citeseer.test.index\n",
            "Processing...\n",
            "Done!\n"
          ]
        },
        {
          "output_type": "stream",
          "name": "stdout",
          "text": [
            "{'partition_method': 'metis', 'GNN': 'SGC', 'dataset': 'CiteSeer', 'num_parts': 20, 'device': 'cuda', 'edges_after_partition': 8382, 'avg_train_loss': 0.09971324181184171, 'time_taken_for_train': 1714864.03, 'time_taken_for_test': 139619.66666666666, 'test_accuracy': 0.6706666666666669}\n",
            "dumped to /content/experiment_results_cuda_SGC.json\n"
          ]
        },
        {
          "output_type": "stream",
          "name": "stderr",
          "text": [
            "Downloading https://github.com/kimiyoung/planetoid/raw/master/data/ind.citeseer.x\n",
            "Downloading https://github.com/kimiyoung/planetoid/raw/master/data/ind.citeseer.tx\n",
            "Downloading https://github.com/kimiyoung/planetoid/raw/master/data/ind.citeseer.allx\n",
            "Downloading https://github.com/kimiyoung/planetoid/raw/master/data/ind.citeseer.y\n",
            "Downloading https://github.com/kimiyoung/planetoid/raw/master/data/ind.citeseer.ty\n",
            "Downloading https://github.com/kimiyoung/planetoid/raw/master/data/ind.citeseer.ally\n",
            "Downloading https://github.com/kimiyoung/planetoid/raw/master/data/ind.citeseer.graph\n",
            "Downloading https://github.com/kimiyoung/planetoid/raw/master/data/ind.citeseer.test.index\n",
            "Processing...\n",
            "Done!\n"
          ]
        },
        {
          "output_type": "stream",
          "name": "stdout",
          "text": [
            "{'partition_method': 'metis', 'GNN': 'SGC', 'dataset': 'CiteSeer', 'num_parts': 30, 'device': 'cuda', 'edges_after_partition': 8230, 'avg_train_loss': 0.10113561481237411, 'time_taken_for_train': 1706688.3633333333, 'time_taken_for_test': 148634.0, 'test_accuracy': 0.68}\n",
            "dumped to /content/experiment_results_cuda_SGC.json\n"
          ]
        },
        {
          "output_type": "stream",
          "name": "stderr",
          "text": [
            "Downloading https://github.com/kimiyoung/planetoid/raw/master/data/ind.citeseer.x\n",
            "Downloading https://github.com/kimiyoung/planetoid/raw/master/data/ind.citeseer.tx\n",
            "Downloading https://github.com/kimiyoung/planetoid/raw/master/data/ind.citeseer.allx\n",
            "Downloading https://github.com/kimiyoung/planetoid/raw/master/data/ind.citeseer.y\n",
            "Downloading https://github.com/kimiyoung/planetoid/raw/master/data/ind.citeseer.ty\n",
            "Downloading https://github.com/kimiyoung/planetoid/raw/master/data/ind.citeseer.ally\n",
            "Downloading https://github.com/kimiyoung/planetoid/raw/master/data/ind.citeseer.graph\n",
            "Downloading https://github.com/kimiyoung/planetoid/raw/master/data/ind.citeseer.test.index\n",
            "Processing...\n",
            "Done!\n"
          ]
        },
        {
          "output_type": "stream",
          "name": "stdout",
          "text": [
            "{'partition_method': 'metis', 'GNN': 'SGC', 'dataset': 'CiteSeer', 'num_parts': 40, 'device': 'cuda', 'edges_after_partition': 8124, 'avg_train_loss': 0.09738665357232094, 'time_taken_for_train': 1648231.3333333333, 'time_taken_for_test': 117299.33333333333, 'test_accuracy': 0.6816666666666666}\n",
            "dumped to /content/experiment_results_cuda_SGC.json\n"
          ]
        },
        {
          "output_type": "stream",
          "name": "stderr",
          "text": [
            "Downloading https://github.com/kimiyoung/planetoid/raw/master/data/ind.citeseer.x\n",
            "Downloading https://github.com/kimiyoung/planetoid/raw/master/data/ind.citeseer.tx\n",
            "Downloading https://github.com/kimiyoung/planetoid/raw/master/data/ind.citeseer.allx\n",
            "Downloading https://github.com/kimiyoung/planetoid/raw/master/data/ind.citeseer.y\n",
            "Downloading https://github.com/kimiyoung/planetoid/raw/master/data/ind.citeseer.ty\n",
            "Downloading https://github.com/kimiyoung/planetoid/raw/master/data/ind.citeseer.ally\n",
            "Downloading https://github.com/kimiyoung/planetoid/raw/master/data/ind.citeseer.graph\n",
            "Downloading https://github.com/kimiyoung/planetoid/raw/master/data/ind.citeseer.test.index\n",
            "Processing...\n",
            "Done!\n"
          ]
        },
        {
          "output_type": "stream",
          "name": "stdout",
          "text": [
            "{'partition_method': 'metis', 'GNN': 'SGC', 'dataset': 'CiteSeer', 'num_parts': 50, 'device': 'cuda', 'edges_after_partition': 7994, 'avg_train_loss': 0.0993869304470718, 'time_taken_for_train': 1671733.3116666665, 'time_taken_for_test': 116524.33333333333, 'test_accuracy': 0.664}\n",
            "dumped to /content/experiment_results_cuda_SGC.json\n"
          ]
        },
        {
          "output_type": "stream",
          "name": "stderr",
          "text": [
            "Downloading https://github.com/kimiyoung/planetoid/raw/master/data/ind.citeseer.x\n",
            "Downloading https://github.com/kimiyoung/planetoid/raw/master/data/ind.citeseer.tx\n",
            "Downloading https://github.com/kimiyoung/planetoid/raw/master/data/ind.citeseer.allx\n",
            "Downloading https://github.com/kimiyoung/planetoid/raw/master/data/ind.citeseer.y\n",
            "Downloading https://github.com/kimiyoung/planetoid/raw/master/data/ind.citeseer.ty\n",
            "Downloading https://github.com/kimiyoung/planetoid/raw/master/data/ind.citeseer.ally\n",
            "Downloading https://github.com/kimiyoung/planetoid/raw/master/data/ind.citeseer.graph\n",
            "Downloading https://github.com/kimiyoung/planetoid/raw/master/data/ind.citeseer.test.index\n",
            "Processing...\n",
            "Done!\n"
          ]
        },
        {
          "output_type": "stream",
          "name": "stdout",
          "text": [
            "{'partition_method': 'metis', 'GNN': 'SGC', 'dataset': 'CiteSeer', 'num_parts': 60, 'device': 'cuda', 'edges_after_partition': 7922, 'avg_train_loss': 0.10046419105182092, 'time_taken_for_train': 1690020.4433333334, 'time_taken_for_test': 121306.0, 'test_accuracy': 0.6633333333333333}\n",
            "dumped to /content/experiment_results_cuda_SGC.json\n"
          ]
        },
        {
          "output_type": "stream",
          "name": "stderr",
          "text": [
            "Downloading https://github.com/kimiyoung/planetoid/raw/master/data/ind.citeseer.x\n",
            "Downloading https://github.com/kimiyoung/planetoid/raw/master/data/ind.citeseer.tx\n",
            "Downloading https://github.com/kimiyoung/planetoid/raw/master/data/ind.citeseer.allx\n",
            "Downloading https://github.com/kimiyoung/planetoid/raw/master/data/ind.citeseer.y\n",
            "Downloading https://github.com/kimiyoung/planetoid/raw/master/data/ind.citeseer.ty\n",
            "Downloading https://github.com/kimiyoung/planetoid/raw/master/data/ind.citeseer.ally\n",
            "Downloading https://github.com/kimiyoung/planetoid/raw/master/data/ind.citeseer.graph\n",
            "Downloading https://github.com/kimiyoung/planetoid/raw/master/data/ind.citeseer.test.index\n",
            "Processing...\n",
            "Done!\n"
          ]
        },
        {
          "output_type": "stream",
          "name": "stdout",
          "text": [
            "{'partition_method': 'metis', 'GNN': 'SGC', 'dataset': 'CiteSeer', 'num_parts': 70, 'device': 'cuda', 'edges_after_partition': 7422, 'avg_train_loss': 0.09349186927080154, 'time_taken_for_train': 1691054.0833333333, 'time_taken_for_test': 116964.0, 'test_accuracy': 0.6709999999999999}\n",
            "dumped to /content/experiment_results_cuda_SGC.json\n"
          ]
        },
        {
          "output_type": "stream",
          "name": "stderr",
          "text": [
            "Downloading https://github.com/kimiyoung/planetoid/raw/master/data/ind.citeseer.x\n",
            "Downloading https://github.com/kimiyoung/planetoid/raw/master/data/ind.citeseer.tx\n",
            "Downloading https://github.com/kimiyoung/planetoid/raw/master/data/ind.citeseer.allx\n",
            "Downloading https://github.com/kimiyoung/planetoid/raw/master/data/ind.citeseer.y\n",
            "Downloading https://github.com/kimiyoung/planetoid/raw/master/data/ind.citeseer.ty\n",
            "Downloading https://github.com/kimiyoung/planetoid/raw/master/data/ind.citeseer.ally\n",
            "Downloading https://github.com/kimiyoung/planetoid/raw/master/data/ind.citeseer.graph\n",
            "Downloading https://github.com/kimiyoung/planetoid/raw/master/data/ind.citeseer.test.index\n",
            "Processing...\n",
            "Done!\n"
          ]
        },
        {
          "output_type": "stream",
          "name": "stdout",
          "text": [
            "{'partition_method': 'metis', 'GNN': 'SGC', 'dataset': 'CiteSeer', 'num_parts': 80, 'device': 'cuda', 'edges_after_partition': 7284, 'avg_train_loss': 0.09515991742412248, 'time_taken_for_train': 1937250.6233333333, 'time_taken_for_test': 145662.0, 'test_accuracy': 0.6726666666666666}\n",
            "dumped to /content/experiment_results_cuda_SGC.json\n"
          ]
        },
        {
          "output_type": "stream",
          "name": "stderr",
          "text": [
            "Downloading https://github.com/kimiyoung/planetoid/raw/master/data/ind.citeseer.x\n",
            "Downloading https://github.com/kimiyoung/planetoid/raw/master/data/ind.citeseer.tx\n",
            "Downloading https://github.com/kimiyoung/planetoid/raw/master/data/ind.citeseer.allx\n",
            "Downloading https://github.com/kimiyoung/planetoid/raw/master/data/ind.citeseer.y\n",
            "Downloading https://github.com/kimiyoung/planetoid/raw/master/data/ind.citeseer.ty\n",
            "Downloading https://github.com/kimiyoung/planetoid/raw/master/data/ind.citeseer.ally\n",
            "Downloading https://github.com/kimiyoung/planetoid/raw/master/data/ind.citeseer.graph\n",
            "Downloading https://github.com/kimiyoung/planetoid/raw/master/data/ind.citeseer.test.index\n",
            "Processing...\n",
            "Done!\n"
          ]
        },
        {
          "output_type": "stream",
          "name": "stdout",
          "text": [
            "{'partition_method': 'metis', 'GNN': 'SGC', 'dataset': 'CiteSeer', 'num_parts': 90, 'device': 'cuda', 'edges_after_partition': 7726, 'avg_train_loss': 0.09644563724597295, 'time_taken_for_train': 1714912.7233333334, 'time_taken_for_test': 120408.66666666667, 'test_accuracy': 0.674}\n",
            "dumped to /content/experiment_results_cuda_SGC.json\n"
          ]
        },
        {
          "output_type": "stream",
          "name": "stderr",
          "text": [
            "Downloading https://github.com/kimiyoung/planetoid/raw/master/data/ind.citeseer.x\n",
            "Downloading https://github.com/kimiyoung/planetoid/raw/master/data/ind.citeseer.tx\n",
            "Downloading https://github.com/kimiyoung/planetoid/raw/master/data/ind.citeseer.allx\n",
            "Downloading https://github.com/kimiyoung/planetoid/raw/master/data/ind.citeseer.y\n",
            "Downloading https://github.com/kimiyoung/planetoid/raw/master/data/ind.citeseer.ty\n",
            "Downloading https://github.com/kimiyoung/planetoid/raw/master/data/ind.citeseer.ally\n",
            "Downloading https://github.com/kimiyoung/planetoid/raw/master/data/ind.citeseer.graph\n",
            "Downloading https://github.com/kimiyoung/planetoid/raw/master/data/ind.citeseer.test.index\n",
            "Processing...\n",
            "Done!\n"
          ]
        },
        {
          "output_type": "stream",
          "name": "stdout",
          "text": [
            "{'partition_method': 'metis', 'GNN': 'SGC', 'dataset': 'CiteSeer', 'num_parts': 100, 'device': 'cuda', 'edges_after_partition': 7330, 'avg_train_loss': 0.09907320044313868, 'time_taken_for_train': 1698394.2366666666, 'time_taken_for_test': 137807.33333333334, 'test_accuracy': 0.6766666666666667}\n",
            "dumped to /content/experiment_results_cuda_SGC.json\n"
          ]
        },
        {
          "output_type": "stream",
          "name": "stderr",
          "text": [
            "Downloading https://github.com/kimiyoung/planetoid/raw/master/data/ind.citeseer.x\n",
            "Downloading https://github.com/kimiyoung/planetoid/raw/master/data/ind.citeseer.tx\n",
            "Downloading https://github.com/kimiyoung/planetoid/raw/master/data/ind.citeseer.allx\n",
            "Downloading https://github.com/kimiyoung/planetoid/raw/master/data/ind.citeseer.y\n",
            "Downloading https://github.com/kimiyoung/planetoid/raw/master/data/ind.citeseer.ty\n",
            "Downloading https://github.com/kimiyoung/planetoid/raw/master/data/ind.citeseer.ally\n",
            "Downloading https://github.com/kimiyoung/planetoid/raw/master/data/ind.citeseer.graph\n",
            "Downloading https://github.com/kimiyoung/planetoid/raw/master/data/ind.citeseer.test.index\n",
            "Processing...\n",
            "Done!\n"
          ]
        },
        {
          "output_type": "stream",
          "name": "stdout",
          "text": [
            "{'partition_method': 'metis', 'GNN': 'SGC', 'dataset': 'CiteSeer', 'num_parts': 200, 'device': 'cuda', 'edges_after_partition': 6646, 'avg_train_loss': 0.09996418321505189, 'time_taken_for_train': 1687567.201666667, 'time_taken_for_test': 122003.33333333333, 'test_accuracy': 0.653}\n",
            "dumped to /content/experiment_results_cuda_SGC.json\n"
          ]
        },
        {
          "output_type": "stream",
          "name": "stderr",
          "text": [
            "Downloading https://github.com/kimiyoung/planetoid/raw/master/data/ind.citeseer.x\n",
            "Downloading https://github.com/kimiyoung/planetoid/raw/master/data/ind.citeseer.tx\n",
            "Downloading https://github.com/kimiyoung/planetoid/raw/master/data/ind.citeseer.allx\n",
            "Downloading https://github.com/kimiyoung/planetoid/raw/master/data/ind.citeseer.y\n",
            "Downloading https://github.com/kimiyoung/planetoid/raw/master/data/ind.citeseer.ty\n",
            "Downloading https://github.com/kimiyoung/planetoid/raw/master/data/ind.citeseer.ally\n",
            "Downloading https://github.com/kimiyoung/planetoid/raw/master/data/ind.citeseer.graph\n",
            "Downloading https://github.com/kimiyoung/planetoid/raw/master/data/ind.citeseer.test.index\n",
            "Processing...\n",
            "Done!\n"
          ]
        },
        {
          "output_type": "stream",
          "name": "stdout",
          "text": [
            "{'partition_method': 'metis', 'GNN': 'SGC', 'dataset': 'CiteSeer', 'num_parts': 300, 'device': 'cuda', 'edges_after_partition': 5446, 'avg_train_loss': 0.08547955793018143, 'time_taken_for_train': 1919523.6616666669, 'time_taken_for_test': 157821.66666666666, 'test_accuracy': 0.6469999999999999}\n",
            "dumped to /content/experiment_results_cuda_SGC.json\n"
          ]
        },
        {
          "output_type": "stream",
          "name": "stderr",
          "text": [
            "Downloading https://github.com/kimiyoung/planetoid/raw/master/data/ind.citeseer.x\n",
            "Downloading https://github.com/kimiyoung/planetoid/raw/master/data/ind.citeseer.tx\n",
            "Downloading https://github.com/kimiyoung/planetoid/raw/master/data/ind.citeseer.allx\n",
            "Downloading https://github.com/kimiyoung/planetoid/raw/master/data/ind.citeseer.y\n",
            "Downloading https://github.com/kimiyoung/planetoid/raw/master/data/ind.citeseer.ty\n",
            "Downloading https://github.com/kimiyoung/planetoid/raw/master/data/ind.citeseer.ally\n",
            "Downloading https://github.com/kimiyoung/planetoid/raw/master/data/ind.citeseer.graph\n",
            "Downloading https://github.com/kimiyoung/planetoid/raw/master/data/ind.citeseer.test.index\n",
            "Processing...\n",
            "Done!\n"
          ]
        },
        {
          "output_type": "stream",
          "name": "stdout",
          "text": [
            "{'partition_method': 'metis', 'GNN': 'SGC', 'dataset': 'CiteSeer', 'num_parts': 400, 'device': 'cuda', 'edges_after_partition': 4882, 'avg_train_loss': 0.08920740839714807, 'time_taken_for_train': 1676470.545, 'time_taken_for_test': 121251.33333333333, 'test_accuracy': 0.6333333333333333}\n",
            "dumped to /content/experiment_results_cuda_SGC.json\n"
          ]
        },
        {
          "output_type": "stream",
          "name": "stderr",
          "text": [
            "Downloading https://github.com/kimiyoung/planetoid/raw/master/data/ind.citeseer.x\n",
            "Downloading https://github.com/kimiyoung/planetoid/raw/master/data/ind.citeseer.tx\n",
            "Downloading https://github.com/kimiyoung/planetoid/raw/master/data/ind.citeseer.allx\n",
            "Downloading https://github.com/kimiyoung/planetoid/raw/master/data/ind.citeseer.y\n",
            "Downloading https://github.com/kimiyoung/planetoid/raw/master/data/ind.citeseer.ty\n",
            "Downloading https://github.com/kimiyoung/planetoid/raw/master/data/ind.citeseer.ally\n",
            "Downloading https://github.com/kimiyoung/planetoid/raw/master/data/ind.citeseer.graph\n",
            "Downloading https://github.com/kimiyoung/planetoid/raw/master/data/ind.citeseer.test.index\n",
            "Processing...\n",
            "Done!\n"
          ]
        },
        {
          "output_type": "stream",
          "name": "stdout",
          "text": [
            "{'partition_method': 'metis', 'GNN': 'SGC', 'dataset': 'CiteSeer', 'num_parts': 500, 'device': 'cuda', 'edges_after_partition': 4630, 'avg_train_loss': 0.07943760247901081, 'time_taken_for_train': 1676574.8833333335, 'time_taken_for_test': 115308.33333333333, 'test_accuracy': 0.6283333333333333}\n",
            "dumped to /content/experiment_results_cuda_SGC.json\n"
          ]
        },
        {
          "output_type": "stream",
          "name": "stderr",
          "text": [
            "Downloading https://github.com/kimiyoung/planetoid/raw/master/data/ind.citeseer.x\n",
            "Downloading https://github.com/kimiyoung/planetoid/raw/master/data/ind.citeseer.tx\n",
            "Downloading https://github.com/kimiyoung/planetoid/raw/master/data/ind.citeseer.allx\n",
            "Downloading https://github.com/kimiyoung/planetoid/raw/master/data/ind.citeseer.y\n",
            "Downloading https://github.com/kimiyoung/planetoid/raw/master/data/ind.citeseer.ty\n",
            "Downloading https://github.com/kimiyoung/planetoid/raw/master/data/ind.citeseer.ally\n",
            "Downloading https://github.com/kimiyoung/planetoid/raw/master/data/ind.citeseer.graph\n",
            "Downloading https://github.com/kimiyoung/planetoid/raw/master/data/ind.citeseer.test.index\n",
            "Processing...\n",
            "Done!\n"
          ]
        },
        {
          "output_type": "stream",
          "name": "stdout",
          "text": [
            "{'partition_method': 'metis', 'GNN': 'SGC', 'dataset': 'CiteSeer', 'num_parts': 600, 'device': 'cuda', 'edges_after_partition': 4388, 'avg_train_loss': 0.08792772956192492, 'time_taken_for_train': 1831713.7149999999, 'time_taken_for_test': 130767.66666666667, 'test_accuracy': 0.6676666666666667}\n",
            "dumped to /content/experiment_results_cuda_SGC.json\n"
          ]
        },
        {
          "output_type": "stream",
          "name": "stderr",
          "text": [
            "Downloading https://github.com/kimiyoung/planetoid/raw/master/data/ind.citeseer.x\n",
            "Downloading https://github.com/kimiyoung/planetoid/raw/master/data/ind.citeseer.tx\n",
            "Downloading https://github.com/kimiyoung/planetoid/raw/master/data/ind.citeseer.allx\n",
            "Downloading https://github.com/kimiyoung/planetoid/raw/master/data/ind.citeseer.y\n",
            "Downloading https://github.com/kimiyoung/planetoid/raw/master/data/ind.citeseer.ty\n",
            "Downloading https://github.com/kimiyoung/planetoid/raw/master/data/ind.citeseer.ally\n",
            "Downloading https://github.com/kimiyoung/planetoid/raw/master/data/ind.citeseer.graph\n",
            "Downloading https://github.com/kimiyoung/planetoid/raw/master/data/ind.citeseer.test.index\n",
            "Processing...\n",
            "Done!\n"
          ]
        },
        {
          "output_type": "stream",
          "name": "stdout",
          "text": [
            "{'partition_method': 'metis', 'GNN': 'SGC', 'dataset': 'CiteSeer', 'num_parts': 700, 'device': 'cuda', 'edges_after_partition': 4382, 'avg_train_loss': 0.07658813774585724, 'time_taken_for_train': 1695411.8783333332, 'time_taken_for_test': 116955.33333333333, 'test_accuracy': 0.6196666666666667}\n",
            "dumped to /content/experiment_results_cuda_SGC.json\n"
          ]
        },
        {
          "output_type": "stream",
          "name": "stderr",
          "text": [
            "Downloading https://github.com/kimiyoung/planetoid/raw/master/data/ind.citeseer.x\n",
            "Downloading https://github.com/kimiyoung/planetoid/raw/master/data/ind.citeseer.tx\n",
            "Downloading https://github.com/kimiyoung/planetoid/raw/master/data/ind.citeseer.allx\n",
            "Downloading https://github.com/kimiyoung/planetoid/raw/master/data/ind.citeseer.y\n",
            "Downloading https://github.com/kimiyoung/planetoid/raw/master/data/ind.citeseer.ty\n",
            "Downloading https://github.com/kimiyoung/planetoid/raw/master/data/ind.citeseer.ally\n",
            "Downloading https://github.com/kimiyoung/planetoid/raw/master/data/ind.citeseer.graph\n",
            "Downloading https://github.com/kimiyoung/planetoid/raw/master/data/ind.citeseer.test.index\n",
            "Processing...\n",
            "Done!\n"
          ]
        },
        {
          "output_type": "stream",
          "name": "stdout",
          "text": [
            "{'partition_method': 'metis', 'GNN': 'SGC', 'dataset': 'CiteSeer', 'num_parts': 800, 'device': 'cuda', 'edges_after_partition': 4136, 'avg_train_loss': 0.08130416215086977, 'time_taken_for_train': 1693108.22, 'time_taken_for_test': 122524.0, 'test_accuracy': 0.6233333333333333}\n",
            "dumped to /content/experiment_results_cuda_SGC.json\n"
          ]
        },
        {
          "output_type": "stream",
          "name": "stderr",
          "text": [
            "Downloading https://github.com/kimiyoung/planetoid/raw/master/data/ind.citeseer.x\n",
            "Downloading https://github.com/kimiyoung/planetoid/raw/master/data/ind.citeseer.tx\n",
            "Downloading https://github.com/kimiyoung/planetoid/raw/master/data/ind.citeseer.allx\n",
            "Downloading https://github.com/kimiyoung/planetoid/raw/master/data/ind.citeseer.y\n",
            "Downloading https://github.com/kimiyoung/planetoid/raw/master/data/ind.citeseer.ty\n",
            "Downloading https://github.com/kimiyoung/planetoid/raw/master/data/ind.citeseer.ally\n",
            "Downloading https://github.com/kimiyoung/planetoid/raw/master/data/ind.citeseer.graph\n",
            "Downloading https://github.com/kimiyoung/planetoid/raw/master/data/ind.citeseer.test.index\n",
            "Processing...\n",
            "Done!\n"
          ]
        },
        {
          "output_type": "stream",
          "name": "stdout",
          "text": [
            "{'partition_method': 'metis', 'GNN': 'SGC', 'dataset': 'CiteSeer', 'num_parts': 900, 'device': 'cuda', 'edges_after_partition': 4158, 'avg_train_loss': 0.07594574296226105, 'time_taken_for_train': 1798741.8883333334, 'time_taken_for_test': 145594.66666666666, 'test_accuracy': 0.646}\n",
            "dumped to /content/experiment_results_cuda_SGC.json\n"
          ]
        },
        {
          "output_type": "stream",
          "name": "stderr",
          "text": [
            "Downloading https://github.com/kimiyoung/planetoid/raw/master/data/ind.citeseer.x\n",
            "Downloading https://github.com/kimiyoung/planetoid/raw/master/data/ind.citeseer.tx\n",
            "Downloading https://github.com/kimiyoung/planetoid/raw/master/data/ind.citeseer.allx\n",
            "Downloading https://github.com/kimiyoung/planetoid/raw/master/data/ind.citeseer.y\n",
            "Downloading https://github.com/kimiyoung/planetoid/raw/master/data/ind.citeseer.ty\n",
            "Downloading https://github.com/kimiyoung/planetoid/raw/master/data/ind.citeseer.ally\n",
            "Downloading https://github.com/kimiyoung/planetoid/raw/master/data/ind.citeseer.graph\n",
            "Downloading https://github.com/kimiyoung/planetoid/raw/master/data/ind.citeseer.test.index\n",
            "Processing...\n",
            "Done!\n"
          ]
        },
        {
          "output_type": "stream",
          "name": "stdout",
          "text": [
            "{'partition_method': 'metis', 'GNN': 'SGC', 'dataset': 'CiteSeer', 'num_parts': 1000, 'device': 'cuda', 'edges_after_partition': 3974, 'avg_train_loss': 0.08119693574495614, 'time_taken_for_train': 1668347.625, 'time_taken_for_test': 138151.66666666666, 'test_accuracy': 0.637}\n",
            "dumped to /content/experiment_results_cuda_SGC.json\n"
          ]
        },
        {
          "output_type": "stream",
          "name": "stderr",
          "text": [
            "Downloading https://github.com/kimiyoung/planetoid/raw/master/data/ind.citeseer.x\n",
            "Downloading https://github.com/kimiyoung/planetoid/raw/master/data/ind.citeseer.tx\n",
            "Downloading https://github.com/kimiyoung/planetoid/raw/master/data/ind.citeseer.allx\n",
            "Downloading https://github.com/kimiyoung/planetoid/raw/master/data/ind.citeseer.y\n",
            "Downloading https://github.com/kimiyoung/planetoid/raw/master/data/ind.citeseer.ty\n",
            "Downloading https://github.com/kimiyoung/planetoid/raw/master/data/ind.citeseer.ally\n",
            "Downloading https://github.com/kimiyoung/planetoid/raw/master/data/ind.citeseer.graph\n",
            "Downloading https://github.com/kimiyoung/planetoid/raw/master/data/ind.citeseer.test.index\n",
            "Processing...\n",
            "Done!\n"
          ]
        },
        {
          "output_type": "stream",
          "name": "stdout",
          "text": [
            "{'partition_method': 'metis', 'GNN': 'SGC', 'dataset': 'CiteSeer', 'num_parts': 2000, 'device': 'cuda', 'edges_after_partition': 3886, 'avg_train_loss': 0.07163105413628122, 'time_taken_for_train': 1648412.173333333, 'time_taken_for_test': 117561.0, 'test_accuracy': 0.6196666666666667}\n",
            "dumped to /content/experiment_results_cuda_SGC.json\n"
          ]
        },
        {
          "output_type": "stream",
          "name": "stderr",
          "text": [
            "Downloading https://github.com/kimiyoung/planetoid/raw/master/data/ind.citeseer.x\n",
            "Downloading https://github.com/kimiyoung/planetoid/raw/master/data/ind.citeseer.tx\n",
            "Downloading https://github.com/kimiyoung/planetoid/raw/master/data/ind.citeseer.allx\n",
            "Downloading https://github.com/kimiyoung/planetoid/raw/master/data/ind.citeseer.y\n",
            "Downloading https://github.com/kimiyoung/planetoid/raw/master/data/ind.citeseer.ty\n",
            "Downloading https://github.com/kimiyoung/planetoid/raw/master/data/ind.citeseer.ally\n",
            "Downloading https://github.com/kimiyoung/planetoid/raw/master/data/ind.citeseer.graph\n",
            "Downloading https://github.com/kimiyoung/planetoid/raw/master/data/ind.citeseer.test.index\n",
            "Processing...\n",
            "Done!\n"
          ]
        },
        {
          "output_type": "stream",
          "name": "stdout",
          "text": [
            "{'partition_method': 'metis', 'GNN': 'SGC', 'dataset': 'CiteSeer', 'num_parts': 3000, 'device': 'cuda', 'edges_after_partition': 3850, 'avg_train_loss': 0.07101863000541925, 'time_taken_for_train': 1662434.9966666668, 'time_taken_for_test': 135875.33333333334, 'test_accuracy': 0.6176666666666667}\n",
            "dumped to /content/experiment_results_cuda_SGC.json\n"
          ]
        },
        {
          "output_type": "stream",
          "name": "stderr",
          "text": [
            "Downloading https://github.com/kimiyoung/planetoid/raw/master/data/ind.citeseer.x\n",
            "Downloading https://github.com/kimiyoung/planetoid/raw/master/data/ind.citeseer.tx\n",
            "Downloading https://github.com/kimiyoung/planetoid/raw/master/data/ind.citeseer.allx\n",
            "Downloading https://github.com/kimiyoung/planetoid/raw/master/data/ind.citeseer.y\n",
            "Downloading https://github.com/kimiyoung/planetoid/raw/master/data/ind.citeseer.ty\n",
            "Downloading https://github.com/kimiyoung/planetoid/raw/master/data/ind.citeseer.ally\n",
            "Downloading https://github.com/kimiyoung/planetoid/raw/master/data/ind.citeseer.graph\n",
            "Downloading https://github.com/kimiyoung/planetoid/raw/master/data/ind.citeseer.test.index\n",
            "Processing...\n",
            "Done!\n",
            "Downloading https://github.com/kimiyoung/planetoid/raw/master/data/ind.pubmed.x\n",
            "Downloading https://github.com/kimiyoung/planetoid/raw/master/data/ind.pubmed.tx\n",
            "Downloading https://github.com/kimiyoung/planetoid/raw/master/data/ind.pubmed.allx\n",
            "Downloading https://github.com/kimiyoung/planetoid/raw/master/data/ind.pubmed.y\n",
            "Downloading https://github.com/kimiyoung/planetoid/raw/master/data/ind.pubmed.ty\n",
            "Downloading https://github.com/kimiyoung/planetoid/raw/master/data/ind.pubmed.ally\n",
            "Downloading https://github.com/kimiyoung/planetoid/raw/master/data/ind.pubmed.graph\n",
            "Downloading https://github.com/kimiyoung/planetoid/raw/master/data/ind.pubmed.test.index\n",
            "Processing...\n",
            "Done!\n"
          ]
        },
        {
          "output_type": "stream",
          "name": "stdout",
          "text": [
            "{'partition_method': 'metis', 'GNN': 'SGC', 'dataset': 'PubMed', 'num_parts': 1, 'device': 'cuda', 'edges_after_partition': 88648, 'avg_train_loss': 0.7020113069812458, 'time_taken_for_train': 1609756.4149999998, 'time_taken_for_test': 118063.33333333333, 'test_accuracy': 0.7793333333333333}\n",
            "dumped to /content/experiment_results_cuda_SGC.json\n"
          ]
        },
        {
          "output_type": "stream",
          "name": "stderr",
          "text": [
            "Downloading https://github.com/kimiyoung/planetoid/raw/master/data/ind.pubmed.x\n",
            "Downloading https://github.com/kimiyoung/planetoid/raw/master/data/ind.pubmed.tx\n",
            "Downloading https://github.com/kimiyoung/planetoid/raw/master/data/ind.pubmed.allx\n",
            "Downloading https://github.com/kimiyoung/planetoid/raw/master/data/ind.pubmed.y\n",
            "Downloading https://github.com/kimiyoung/planetoid/raw/master/data/ind.pubmed.ty\n",
            "Downloading https://github.com/kimiyoung/planetoid/raw/master/data/ind.pubmed.ally\n",
            "Downloading https://github.com/kimiyoung/planetoid/raw/master/data/ind.pubmed.graph\n",
            "Downloading https://github.com/kimiyoung/planetoid/raw/master/data/ind.pubmed.test.index\n",
            "Processing...\n",
            "Done!\n"
          ]
        },
        {
          "output_type": "stream",
          "name": "stdout",
          "text": [
            "{'partition_method': 'metis', 'GNN': 'SGC', 'dataset': 'PubMed', 'num_parts': 2, 'device': 'cuda', 'edges_after_partition': 85878, 'avg_train_loss': 0.6977959739168486, 'time_taken_for_train': 1602048.6483333334, 'time_taken_for_test': 108167.0, 'test_accuracy': 0.7836666666666666}\n",
            "dumped to /content/experiment_results_cuda_SGC.json\n"
          ]
        },
        {
          "output_type": "stream",
          "name": "stderr",
          "text": [
            "Downloading https://github.com/kimiyoung/planetoid/raw/master/data/ind.pubmed.x\n",
            "Downloading https://github.com/kimiyoung/planetoid/raw/master/data/ind.pubmed.tx\n",
            "Downloading https://github.com/kimiyoung/planetoid/raw/master/data/ind.pubmed.allx\n",
            "Downloading https://github.com/kimiyoung/planetoid/raw/master/data/ind.pubmed.y\n",
            "Downloading https://github.com/kimiyoung/planetoid/raw/master/data/ind.pubmed.ty\n",
            "Downloading https://github.com/kimiyoung/planetoid/raw/master/data/ind.pubmed.ally\n",
            "Downloading https://github.com/kimiyoung/planetoid/raw/master/data/ind.pubmed.graph\n",
            "Downloading https://github.com/kimiyoung/planetoid/raw/master/data/ind.pubmed.test.index\n",
            "Processing...\n",
            "Done!\n"
          ]
        },
        {
          "output_type": "stream",
          "name": "stdout",
          "text": [
            "{'partition_method': 'metis', 'GNN': 'SGC', 'dataset': 'PubMed', 'num_parts': 3, 'device': 'cuda', 'edges_after_partition': 84694, 'avg_train_loss': 0.6973198691010475, 'time_taken_for_train': 1579934.7700000003, 'time_taken_for_test': 111358.33333333333, 'test_accuracy': 0.7800000000000001}\n",
            "dumped to /content/experiment_results_cuda_SGC.json\n"
          ]
        },
        {
          "output_type": "stream",
          "name": "stderr",
          "text": [
            "Downloading https://github.com/kimiyoung/planetoid/raw/master/data/ind.pubmed.x\n",
            "Downloading https://github.com/kimiyoung/planetoid/raw/master/data/ind.pubmed.tx\n",
            "Downloading https://github.com/kimiyoung/planetoid/raw/master/data/ind.pubmed.allx\n",
            "Downloading https://github.com/kimiyoung/planetoid/raw/master/data/ind.pubmed.y\n",
            "Downloading https://github.com/kimiyoung/planetoid/raw/master/data/ind.pubmed.ty\n",
            "Downloading https://github.com/kimiyoung/planetoid/raw/master/data/ind.pubmed.ally\n",
            "Downloading https://github.com/kimiyoung/planetoid/raw/master/data/ind.pubmed.graph\n",
            "Downloading https://github.com/kimiyoung/planetoid/raw/master/data/ind.pubmed.test.index\n",
            "Processing...\n",
            "Done!\n"
          ]
        },
        {
          "output_type": "stream",
          "name": "stdout",
          "text": [
            "{'partition_method': 'metis', 'GNN': 'SGC', 'dataset': 'PubMed', 'num_parts': 4, 'device': 'cuda', 'edges_after_partition': 83500, 'avg_train_loss': 0.6965827667713165, 'time_taken_for_train': 1559783.9816666667, 'time_taken_for_test': 128198.33333333333, 'test_accuracy': 0.7833333333333333}\n",
            "dumped to /content/experiment_results_cuda_SGC.json\n"
          ]
        },
        {
          "output_type": "stream",
          "name": "stderr",
          "text": [
            "Downloading https://github.com/kimiyoung/planetoid/raw/master/data/ind.pubmed.x\n",
            "Downloading https://github.com/kimiyoung/planetoid/raw/master/data/ind.pubmed.tx\n",
            "Downloading https://github.com/kimiyoung/planetoid/raw/master/data/ind.pubmed.allx\n",
            "Downloading https://github.com/kimiyoung/planetoid/raw/master/data/ind.pubmed.y\n",
            "Downloading https://github.com/kimiyoung/planetoid/raw/master/data/ind.pubmed.ty\n",
            "Downloading https://github.com/kimiyoung/planetoid/raw/master/data/ind.pubmed.ally\n",
            "Downloading https://github.com/kimiyoung/planetoid/raw/master/data/ind.pubmed.graph\n",
            "Downloading https://github.com/kimiyoung/planetoid/raw/master/data/ind.pubmed.test.index\n",
            "Processing...\n",
            "Done!\n"
          ]
        },
        {
          "output_type": "stream",
          "name": "stdout",
          "text": [
            "{'partition_method': 'metis', 'GNN': 'SGC', 'dataset': 'PubMed', 'num_parts': 5, 'device': 'cuda', 'edges_after_partition': 81872, 'avg_train_loss': 0.6973171594738959, 'time_taken_for_train': 1582884.9483333332, 'time_taken_for_test': 123445.0, 'test_accuracy': 0.783}\n",
            "dumped to /content/experiment_results_cuda_SGC.json\n"
          ]
        },
        {
          "output_type": "stream",
          "name": "stderr",
          "text": [
            "Downloading https://github.com/kimiyoung/planetoid/raw/master/data/ind.pubmed.x\n",
            "Downloading https://github.com/kimiyoung/planetoid/raw/master/data/ind.pubmed.tx\n",
            "Downloading https://github.com/kimiyoung/planetoid/raw/master/data/ind.pubmed.allx\n",
            "Downloading https://github.com/kimiyoung/planetoid/raw/master/data/ind.pubmed.y\n",
            "Downloading https://github.com/kimiyoung/planetoid/raw/master/data/ind.pubmed.ty\n",
            "Downloading https://github.com/kimiyoung/planetoid/raw/master/data/ind.pubmed.ally\n",
            "Downloading https://github.com/kimiyoung/planetoid/raw/master/data/ind.pubmed.graph\n",
            "Downloading https://github.com/kimiyoung/planetoid/raw/master/data/ind.pubmed.test.index\n",
            "Processing...\n",
            "Done!\n"
          ]
        },
        {
          "output_type": "stream",
          "name": "stdout",
          "text": [
            "{'partition_method': 'metis', 'GNN': 'SGC', 'dataset': 'PubMed', 'num_parts': 6, 'device': 'cuda', 'edges_after_partition': 80628, 'avg_train_loss': 0.691699787179629, 'time_taken_for_train': 1548209.2733333334, 'time_taken_for_test': 110339.0, 'test_accuracy': 0.773}\n",
            "dumped to /content/experiment_results_cuda_SGC.json\n"
          ]
        },
        {
          "output_type": "stream",
          "name": "stderr",
          "text": [
            "Downloading https://github.com/kimiyoung/planetoid/raw/master/data/ind.pubmed.x\n",
            "Downloading https://github.com/kimiyoung/planetoid/raw/master/data/ind.pubmed.tx\n",
            "Downloading https://github.com/kimiyoung/planetoid/raw/master/data/ind.pubmed.allx\n",
            "Downloading https://github.com/kimiyoung/planetoid/raw/master/data/ind.pubmed.y\n",
            "Downloading https://github.com/kimiyoung/planetoid/raw/master/data/ind.pubmed.ty\n",
            "Downloading https://github.com/kimiyoung/planetoid/raw/master/data/ind.pubmed.ally\n",
            "Downloading https://github.com/kimiyoung/planetoid/raw/master/data/ind.pubmed.graph\n",
            "Downloading https://github.com/kimiyoung/planetoid/raw/master/data/ind.pubmed.test.index\n",
            "Processing...\n",
            "Done!\n"
          ]
        },
        {
          "output_type": "stream",
          "name": "stdout",
          "text": [
            "{'partition_method': 'metis', 'GNN': 'SGC', 'dataset': 'PubMed', 'num_parts': 7, 'device': 'cuda', 'edges_after_partition': 78960, 'avg_train_loss': 0.694360692501068, 'time_taken_for_train': 1551845.3233333332, 'time_taken_for_test': 106861.0, 'test_accuracy': 0.7826666666666666}\n",
            "dumped to /content/experiment_results_cuda_SGC.json\n"
          ]
        },
        {
          "output_type": "stream",
          "name": "stderr",
          "text": [
            "Downloading https://github.com/kimiyoung/planetoid/raw/master/data/ind.pubmed.x\n",
            "Downloading https://github.com/kimiyoung/planetoid/raw/master/data/ind.pubmed.tx\n",
            "Downloading https://github.com/kimiyoung/planetoid/raw/master/data/ind.pubmed.allx\n",
            "Downloading https://github.com/kimiyoung/planetoid/raw/master/data/ind.pubmed.y\n",
            "Downloading https://github.com/kimiyoung/planetoid/raw/master/data/ind.pubmed.ty\n",
            "Downloading https://github.com/kimiyoung/planetoid/raw/master/data/ind.pubmed.ally\n",
            "Downloading https://github.com/kimiyoung/planetoid/raw/master/data/ind.pubmed.graph\n",
            "Downloading https://github.com/kimiyoung/planetoid/raw/master/data/ind.pubmed.test.index\n",
            "Processing...\n",
            "Done!\n"
          ]
        },
        {
          "output_type": "stream",
          "name": "stdout",
          "text": [
            "{'partition_method': 'metis', 'GNN': 'SGC', 'dataset': 'PubMed', 'num_parts': 8, 'device': 'cuda', 'edges_after_partition': 78490, 'avg_train_loss': 0.691731172601382, 'time_taken_for_train': 1571003.6816666666, 'time_taken_for_test': 156354.0, 'test_accuracy': 0.777}\n",
            "dumped to /content/experiment_results_cuda_SGC.json\n"
          ]
        },
        {
          "output_type": "stream",
          "name": "stderr",
          "text": [
            "Downloading https://github.com/kimiyoung/planetoid/raw/master/data/ind.pubmed.x\n",
            "Downloading https://github.com/kimiyoung/planetoid/raw/master/data/ind.pubmed.tx\n",
            "Downloading https://github.com/kimiyoung/planetoid/raw/master/data/ind.pubmed.allx\n",
            "Downloading https://github.com/kimiyoung/planetoid/raw/master/data/ind.pubmed.y\n",
            "Downloading https://github.com/kimiyoung/planetoid/raw/master/data/ind.pubmed.ty\n",
            "Downloading https://github.com/kimiyoung/planetoid/raw/master/data/ind.pubmed.ally\n",
            "Downloading https://github.com/kimiyoung/planetoid/raw/master/data/ind.pubmed.graph\n",
            "Downloading https://github.com/kimiyoung/planetoid/raw/master/data/ind.pubmed.test.index\n",
            "Processing...\n",
            "Done!\n"
          ]
        },
        {
          "output_type": "stream",
          "name": "stdout",
          "text": [
            "{'partition_method': 'metis', 'GNN': 'SGC', 'dataset': 'PubMed', 'num_parts': 9, 'device': 'cuda', 'edges_after_partition': 77824, 'avg_train_loss': 0.6914118296901385, 'time_taken_for_train': 1578358.0200000003, 'time_taken_for_test': 127049.0, 'test_accuracy': 0.7656666666666667}\n",
            "dumped to /content/experiment_results_cuda_SGC.json\n"
          ]
        },
        {
          "output_type": "stream",
          "name": "stderr",
          "text": [
            "Downloading https://github.com/kimiyoung/planetoid/raw/master/data/ind.pubmed.x\n",
            "Downloading https://github.com/kimiyoung/planetoid/raw/master/data/ind.pubmed.tx\n",
            "Downloading https://github.com/kimiyoung/planetoid/raw/master/data/ind.pubmed.allx\n",
            "Downloading https://github.com/kimiyoung/planetoid/raw/master/data/ind.pubmed.y\n",
            "Downloading https://github.com/kimiyoung/planetoid/raw/master/data/ind.pubmed.ty\n",
            "Downloading https://github.com/kimiyoung/planetoid/raw/master/data/ind.pubmed.ally\n",
            "Downloading https://github.com/kimiyoung/planetoid/raw/master/data/ind.pubmed.graph\n",
            "Downloading https://github.com/kimiyoung/planetoid/raw/master/data/ind.pubmed.test.index\n",
            "Processing...\n",
            "Done!\n"
          ]
        },
        {
          "output_type": "stream",
          "name": "stdout",
          "text": [
            "{'partition_method': 'metis', 'GNN': 'SGC', 'dataset': 'PubMed', 'num_parts': 10, 'device': 'cuda', 'edges_after_partition': 76710, 'avg_train_loss': 0.6932848445574442, 'time_taken_for_train': 1568749.0916666668, 'time_taken_for_test': 128179.33333333333, 'test_accuracy': 0.7719999999999999}\n",
            "dumped to /content/experiment_results_cuda_SGC.json\n"
          ]
        },
        {
          "output_type": "stream",
          "name": "stderr",
          "text": [
            "Downloading https://github.com/kimiyoung/planetoid/raw/master/data/ind.pubmed.x\n",
            "Downloading https://github.com/kimiyoung/planetoid/raw/master/data/ind.pubmed.tx\n",
            "Downloading https://github.com/kimiyoung/planetoid/raw/master/data/ind.pubmed.allx\n",
            "Downloading https://github.com/kimiyoung/planetoid/raw/master/data/ind.pubmed.y\n",
            "Downloading https://github.com/kimiyoung/planetoid/raw/master/data/ind.pubmed.ty\n",
            "Downloading https://github.com/kimiyoung/planetoid/raw/master/data/ind.pubmed.ally\n",
            "Downloading https://github.com/kimiyoung/planetoid/raw/master/data/ind.pubmed.graph\n",
            "Downloading https://github.com/kimiyoung/planetoid/raw/master/data/ind.pubmed.test.index\n",
            "Processing...\n",
            "Done!\n"
          ]
        },
        {
          "output_type": "stream",
          "name": "stdout",
          "text": [
            "{'partition_method': 'metis', 'GNN': 'SGC', 'dataset': 'PubMed', 'num_parts': 20, 'device': 'cuda', 'edges_after_partition': 72148, 'avg_train_loss': 0.6863490144411722, 'time_taken_for_train': 1597455.7933333332, 'time_taken_for_test': 112206.66666666667, 'test_accuracy': 0.7723333333333334}\n",
            "dumped to /content/experiment_results_cuda_SGC.json\n"
          ]
        },
        {
          "output_type": "stream",
          "name": "stderr",
          "text": [
            "Downloading https://github.com/kimiyoung/planetoid/raw/master/data/ind.pubmed.x\n",
            "Downloading https://github.com/kimiyoung/planetoid/raw/master/data/ind.pubmed.tx\n",
            "Downloading https://github.com/kimiyoung/planetoid/raw/master/data/ind.pubmed.allx\n",
            "Downloading https://github.com/kimiyoung/planetoid/raw/master/data/ind.pubmed.y\n",
            "Downloading https://github.com/kimiyoung/planetoid/raw/master/data/ind.pubmed.ty\n",
            "Downloading https://github.com/kimiyoung/planetoid/raw/master/data/ind.pubmed.ally\n",
            "Downloading https://github.com/kimiyoung/planetoid/raw/master/data/ind.pubmed.graph\n",
            "Downloading https://github.com/kimiyoung/planetoid/raw/master/data/ind.pubmed.test.index\n",
            "Processing...\n",
            "Done!\n"
          ]
        },
        {
          "output_type": "stream",
          "name": "stdout",
          "text": [
            "{'partition_method': 'metis', 'GNN': 'SGC', 'dataset': 'PubMed', 'num_parts': 30, 'device': 'cuda', 'edges_after_partition': 69848, 'avg_train_loss': 0.686336029668649, 'time_taken_for_train': 1567029.8800000001, 'time_taken_for_test': 114952.0, 'test_accuracy': 0.7783333333333333}\n",
            "dumped to /content/experiment_results_cuda_SGC.json\n"
          ]
        },
        {
          "output_type": "stream",
          "name": "stderr",
          "text": [
            "Downloading https://github.com/kimiyoung/planetoid/raw/master/data/ind.pubmed.x\n",
            "Downloading https://github.com/kimiyoung/planetoid/raw/master/data/ind.pubmed.tx\n",
            "Downloading https://github.com/kimiyoung/planetoid/raw/master/data/ind.pubmed.allx\n",
            "Downloading https://github.com/kimiyoung/planetoid/raw/master/data/ind.pubmed.y\n",
            "Downloading https://github.com/kimiyoung/planetoid/raw/master/data/ind.pubmed.ty\n",
            "Downloading https://github.com/kimiyoung/planetoid/raw/master/data/ind.pubmed.ally\n",
            "Downloading https://github.com/kimiyoung/planetoid/raw/master/data/ind.pubmed.graph\n",
            "Downloading https://github.com/kimiyoung/planetoid/raw/master/data/ind.pubmed.test.index\n",
            "Processing...\n",
            "Done!\n"
          ]
        },
        {
          "output_type": "stream",
          "name": "stdout",
          "text": [
            "{'partition_method': 'metis', 'GNN': 'SGC', 'dataset': 'PubMed', 'num_parts': 40, 'device': 'cuda', 'edges_after_partition': 67924, 'avg_train_loss': 0.6788837365309398, 'time_taken_for_train': 1560051.085, 'time_taken_for_test': 127391.0, 'test_accuracy': 0.771}\n",
            "dumped to /content/experiment_results_cuda_SGC.json\n"
          ]
        },
        {
          "output_type": "stream",
          "name": "stderr",
          "text": [
            "Downloading https://github.com/kimiyoung/planetoid/raw/master/data/ind.pubmed.x\n",
            "Downloading https://github.com/kimiyoung/planetoid/raw/master/data/ind.pubmed.tx\n",
            "Downloading https://github.com/kimiyoung/planetoid/raw/master/data/ind.pubmed.allx\n",
            "Downloading https://github.com/kimiyoung/planetoid/raw/master/data/ind.pubmed.y\n",
            "Downloading https://github.com/kimiyoung/planetoid/raw/master/data/ind.pubmed.ty\n",
            "Downloading https://github.com/kimiyoung/planetoid/raw/master/data/ind.pubmed.ally\n",
            "Downloading https://github.com/kimiyoung/planetoid/raw/master/data/ind.pubmed.graph\n",
            "Downloading https://github.com/kimiyoung/planetoid/raw/master/data/ind.pubmed.test.index\n",
            "Processing...\n",
            "Done!\n"
          ]
        },
        {
          "output_type": "stream",
          "name": "stdout",
          "text": [
            "{'partition_method': 'metis', 'GNN': 'SGC', 'dataset': 'PubMed', 'num_parts': 50, 'device': 'cuda', 'edges_after_partition': 66332, 'avg_train_loss': 0.6750679992636045, 'time_taken_for_train': 1615940.5416666667, 'time_taken_for_test': 121717.0, 'test_accuracy': 0.7693333333333333}\n",
            "dumped to /content/experiment_results_cuda_SGC.json\n"
          ]
        },
        {
          "output_type": "stream",
          "name": "stderr",
          "text": [
            "Downloading https://github.com/kimiyoung/planetoid/raw/master/data/ind.pubmed.x\n",
            "Downloading https://github.com/kimiyoung/planetoid/raw/master/data/ind.pubmed.tx\n",
            "Downloading https://github.com/kimiyoung/planetoid/raw/master/data/ind.pubmed.allx\n",
            "Downloading https://github.com/kimiyoung/planetoid/raw/master/data/ind.pubmed.y\n",
            "Downloading https://github.com/kimiyoung/planetoid/raw/master/data/ind.pubmed.ty\n",
            "Downloading https://github.com/kimiyoung/planetoid/raw/master/data/ind.pubmed.ally\n",
            "Downloading https://github.com/kimiyoung/planetoid/raw/master/data/ind.pubmed.graph\n",
            "Downloading https://github.com/kimiyoung/planetoid/raw/master/data/ind.pubmed.test.index\n",
            "Processing...\n",
            "Done!\n"
          ]
        },
        {
          "output_type": "stream",
          "name": "stdout",
          "text": [
            "{'partition_method': 'metis', 'GNN': 'SGC', 'dataset': 'PubMed', 'num_parts': 60, 'device': 'cuda', 'edges_after_partition': 65228, 'avg_train_loss': 0.6826704361041386, 'time_taken_for_train': 1561176.1616666669, 'time_taken_for_test': 110408.33333333333, 'test_accuracy': 0.765}\n",
            "dumped to /content/experiment_results_cuda_SGC.json\n"
          ]
        },
        {
          "output_type": "stream",
          "name": "stderr",
          "text": [
            "Downloading https://github.com/kimiyoung/planetoid/raw/master/data/ind.pubmed.x\n",
            "Downloading https://github.com/kimiyoung/planetoid/raw/master/data/ind.pubmed.tx\n",
            "Downloading https://github.com/kimiyoung/planetoid/raw/master/data/ind.pubmed.allx\n",
            "Downloading https://github.com/kimiyoung/planetoid/raw/master/data/ind.pubmed.y\n",
            "Downloading https://github.com/kimiyoung/planetoid/raw/master/data/ind.pubmed.ty\n",
            "Downloading https://github.com/kimiyoung/planetoid/raw/master/data/ind.pubmed.ally\n",
            "Downloading https://github.com/kimiyoung/planetoid/raw/master/data/ind.pubmed.graph\n",
            "Downloading https://github.com/kimiyoung/planetoid/raw/master/data/ind.pubmed.test.index\n",
            "Processing...\n",
            "Done!\n"
          ]
        },
        {
          "output_type": "stream",
          "name": "stdout",
          "text": [
            "{'partition_method': 'metis', 'GNN': 'SGC', 'dataset': 'PubMed', 'num_parts': 70, 'device': 'cuda', 'edges_after_partition': 64070, 'avg_train_loss': 0.6761433140436809, 'time_taken_for_train': 1560735.4383333332, 'time_taken_for_test': 113490.66666666667, 'test_accuracy': 0.758}\n",
            "dumped to /content/experiment_results_cuda_SGC.json\n"
          ]
        },
        {
          "output_type": "stream",
          "name": "stderr",
          "text": [
            "Downloading https://github.com/kimiyoung/planetoid/raw/master/data/ind.pubmed.x\n",
            "Downloading https://github.com/kimiyoung/planetoid/raw/master/data/ind.pubmed.tx\n",
            "Downloading https://github.com/kimiyoung/planetoid/raw/master/data/ind.pubmed.allx\n",
            "Downloading https://github.com/kimiyoung/planetoid/raw/master/data/ind.pubmed.y\n",
            "Downloading https://github.com/kimiyoung/planetoid/raw/master/data/ind.pubmed.ty\n",
            "Downloading https://github.com/kimiyoung/planetoid/raw/master/data/ind.pubmed.ally\n",
            "Downloading https://github.com/kimiyoung/planetoid/raw/master/data/ind.pubmed.graph\n",
            "Downloading https://github.com/kimiyoung/planetoid/raw/master/data/ind.pubmed.test.index\n",
            "Processing...\n",
            "Done!\n"
          ]
        },
        {
          "output_type": "stream",
          "name": "stdout",
          "text": [
            "{'partition_method': 'metis', 'GNN': 'SGC', 'dataset': 'PubMed', 'num_parts': 80, 'device': 'cuda', 'edges_after_partition': 63142, 'avg_train_loss': 0.6768604107697804, 'time_taken_for_train': 1515915.015, 'time_taken_for_test': 109209.66666666667, 'test_accuracy': 0.761}\n",
            "dumped to /content/experiment_results_cuda_SGC.json\n"
          ]
        },
        {
          "output_type": "stream",
          "name": "stderr",
          "text": [
            "Downloading https://github.com/kimiyoung/planetoid/raw/master/data/ind.pubmed.x\n",
            "Downloading https://github.com/kimiyoung/planetoid/raw/master/data/ind.pubmed.tx\n",
            "Downloading https://github.com/kimiyoung/planetoid/raw/master/data/ind.pubmed.allx\n",
            "Downloading https://github.com/kimiyoung/planetoid/raw/master/data/ind.pubmed.y\n",
            "Downloading https://github.com/kimiyoung/planetoid/raw/master/data/ind.pubmed.ty\n",
            "Downloading https://github.com/kimiyoung/planetoid/raw/master/data/ind.pubmed.ally\n",
            "Downloading https://github.com/kimiyoung/planetoid/raw/master/data/ind.pubmed.graph\n",
            "Downloading https://github.com/kimiyoung/planetoid/raw/master/data/ind.pubmed.test.index\n",
            "Processing...\n",
            "Done!\n"
          ]
        },
        {
          "output_type": "stream",
          "name": "stdout",
          "text": [
            "{'partition_method': 'metis', 'GNN': 'SGC', 'dataset': 'PubMed', 'num_parts': 90, 'device': 'cuda', 'edges_after_partition': 62420, 'avg_train_loss': 0.6718717085321745, 'time_taken_for_train': 1858293.548333333, 'time_taken_for_test': 145129.66666666666, 'test_accuracy': 0.7653333333333334}\n",
            "dumped to /content/experiment_results_cuda_SGC.json\n"
          ]
        },
        {
          "output_type": "stream",
          "name": "stderr",
          "text": [
            "Downloading https://github.com/kimiyoung/planetoid/raw/master/data/ind.pubmed.x\n",
            "Downloading https://github.com/kimiyoung/planetoid/raw/master/data/ind.pubmed.tx\n",
            "Downloading https://github.com/kimiyoung/planetoid/raw/master/data/ind.pubmed.allx\n",
            "Downloading https://github.com/kimiyoung/planetoid/raw/master/data/ind.pubmed.y\n",
            "Downloading https://github.com/kimiyoung/planetoid/raw/master/data/ind.pubmed.ty\n",
            "Downloading https://github.com/kimiyoung/planetoid/raw/master/data/ind.pubmed.ally\n",
            "Downloading https://github.com/kimiyoung/planetoid/raw/master/data/ind.pubmed.graph\n",
            "Downloading https://github.com/kimiyoung/planetoid/raw/master/data/ind.pubmed.test.index\n",
            "Processing...\n",
            "Done!\n"
          ]
        },
        {
          "output_type": "stream",
          "name": "stdout",
          "text": [
            "{'partition_method': 'metis', 'GNN': 'SGC', 'dataset': 'PubMed', 'num_parts': 100, 'device': 'cuda', 'edges_after_partition': 61762, 'avg_train_loss': 0.6739772470792135, 'time_taken_for_train': 1584652.7316666667, 'time_taken_for_test': 112285.33333333333, 'test_accuracy': 0.7676666666666666}\n",
            "dumped to /content/experiment_results_cuda_SGC.json\n"
          ]
        },
        {
          "output_type": "stream",
          "name": "stderr",
          "text": [
            "Downloading https://github.com/kimiyoung/planetoid/raw/master/data/ind.pubmed.x\n",
            "Downloading https://github.com/kimiyoung/planetoid/raw/master/data/ind.pubmed.tx\n",
            "Downloading https://github.com/kimiyoung/planetoid/raw/master/data/ind.pubmed.allx\n",
            "Downloading https://github.com/kimiyoung/planetoid/raw/master/data/ind.pubmed.y\n",
            "Downloading https://github.com/kimiyoung/planetoid/raw/master/data/ind.pubmed.ty\n",
            "Downloading https://github.com/kimiyoung/planetoid/raw/master/data/ind.pubmed.ally\n",
            "Downloading https://github.com/kimiyoung/planetoid/raw/master/data/ind.pubmed.graph\n",
            "Downloading https://github.com/kimiyoung/planetoid/raw/master/data/ind.pubmed.test.index\n",
            "Processing...\n",
            "Done!\n"
          ]
        },
        {
          "output_type": "stream",
          "name": "stdout",
          "text": [
            "{'partition_method': 'metis', 'GNN': 'SGC', 'dataset': 'PubMed', 'num_parts': 200, 'device': 'cuda', 'edges_after_partition': 57164, 'avg_train_loss': 0.6629772770901521, 'time_taken_for_train': 1577776.4149999998, 'time_taken_for_test': 109875.33333333333, 'test_accuracy': 0.7696666666666667}\n",
            "dumped to /content/experiment_results_cuda_SGC.json\n"
          ]
        },
        {
          "output_type": "stream",
          "name": "stderr",
          "text": [
            "Downloading https://github.com/kimiyoung/planetoid/raw/master/data/ind.pubmed.x\n",
            "Downloading https://github.com/kimiyoung/planetoid/raw/master/data/ind.pubmed.tx\n",
            "Downloading https://github.com/kimiyoung/planetoid/raw/master/data/ind.pubmed.allx\n",
            "Downloading https://github.com/kimiyoung/planetoid/raw/master/data/ind.pubmed.y\n",
            "Downloading https://github.com/kimiyoung/planetoid/raw/master/data/ind.pubmed.ty\n",
            "Downloading https://github.com/kimiyoung/planetoid/raw/master/data/ind.pubmed.ally\n",
            "Downloading https://github.com/kimiyoung/planetoid/raw/master/data/ind.pubmed.graph\n",
            "Downloading https://github.com/kimiyoung/planetoid/raw/master/data/ind.pubmed.test.index\n",
            "Processing...\n",
            "Done!\n"
          ]
        },
        {
          "output_type": "stream",
          "name": "stdout",
          "text": [
            "{'partition_method': 'metis', 'GNN': 'SGC', 'dataset': 'PubMed', 'num_parts': 300, 'device': 'cuda', 'edges_after_partition': 54222, 'avg_train_loss': 0.6593475315968195, 'time_taken_for_train': 1559138.3683333332, 'time_taken_for_test': 109802.33333333333, 'test_accuracy': 0.7676666666666666}\n",
            "dumped to /content/experiment_results_cuda_SGC.json\n"
          ]
        },
        {
          "output_type": "stream",
          "name": "stderr",
          "text": [
            "Downloading https://github.com/kimiyoung/planetoid/raw/master/data/ind.pubmed.x\n",
            "Downloading https://github.com/kimiyoung/planetoid/raw/master/data/ind.pubmed.tx\n",
            "Downloading https://github.com/kimiyoung/planetoid/raw/master/data/ind.pubmed.allx\n",
            "Downloading https://github.com/kimiyoung/planetoid/raw/master/data/ind.pubmed.y\n",
            "Downloading https://github.com/kimiyoung/planetoid/raw/master/data/ind.pubmed.ty\n",
            "Downloading https://github.com/kimiyoung/planetoid/raw/master/data/ind.pubmed.ally\n",
            "Downloading https://github.com/kimiyoung/planetoid/raw/master/data/ind.pubmed.graph\n",
            "Downloading https://github.com/kimiyoung/planetoid/raw/master/data/ind.pubmed.test.index\n",
            "Processing...\n",
            "Done!\n"
          ]
        },
        {
          "output_type": "stream",
          "name": "stdout",
          "text": [
            "{'partition_method': 'metis', 'GNN': 'SGC', 'dataset': 'PubMed', 'num_parts': 400, 'device': 'cuda', 'edges_after_partition': 51468, 'avg_train_loss': 0.6557281243801117, 'time_taken_for_train': 1560360.2599999998, 'time_taken_for_test': 109843.33333333333, 'test_accuracy': 0.759}\n",
            "dumped to /content/experiment_results_cuda_SGC.json\n"
          ]
        },
        {
          "output_type": "stream",
          "name": "stderr",
          "text": [
            "Downloading https://github.com/kimiyoung/planetoid/raw/master/data/ind.pubmed.x\n",
            "Downloading https://github.com/kimiyoung/planetoid/raw/master/data/ind.pubmed.tx\n",
            "Downloading https://github.com/kimiyoung/planetoid/raw/master/data/ind.pubmed.allx\n",
            "Downloading https://github.com/kimiyoung/planetoid/raw/master/data/ind.pubmed.y\n",
            "Downloading https://github.com/kimiyoung/planetoid/raw/master/data/ind.pubmed.ty\n",
            "Downloading https://github.com/kimiyoung/planetoid/raw/master/data/ind.pubmed.ally\n",
            "Downloading https://github.com/kimiyoung/planetoid/raw/master/data/ind.pubmed.graph\n",
            "Downloading https://github.com/kimiyoung/planetoid/raw/master/data/ind.pubmed.test.index\n",
            "Processing...\n",
            "Done!\n"
          ]
        },
        {
          "output_type": "stream",
          "name": "stdout",
          "text": [
            "{'partition_method': 'metis', 'GNN': 'SGC', 'dataset': 'PubMed', 'num_parts': 500, 'device': 'cuda', 'edges_after_partition': 47126, 'avg_train_loss': 0.6516890252629916, 'time_taken_for_train': 1552222.8566666665, 'time_taken_for_test': 110440.0, 'test_accuracy': 0.7573333333333334}\n",
            "dumped to /content/experiment_results_cuda_SGC.json\n"
          ]
        },
        {
          "output_type": "stream",
          "name": "stderr",
          "text": [
            "Downloading https://github.com/kimiyoung/planetoid/raw/master/data/ind.pubmed.x\n",
            "Downloading https://github.com/kimiyoung/planetoid/raw/master/data/ind.pubmed.tx\n",
            "Downloading https://github.com/kimiyoung/planetoid/raw/master/data/ind.pubmed.allx\n",
            "Downloading https://github.com/kimiyoung/planetoid/raw/master/data/ind.pubmed.y\n",
            "Downloading https://github.com/kimiyoung/planetoid/raw/master/data/ind.pubmed.ty\n",
            "Downloading https://github.com/kimiyoung/planetoid/raw/master/data/ind.pubmed.ally\n",
            "Downloading https://github.com/kimiyoung/planetoid/raw/master/data/ind.pubmed.graph\n",
            "Downloading https://github.com/kimiyoung/planetoid/raw/master/data/ind.pubmed.test.index\n",
            "Processing...\n",
            "Done!\n"
          ]
        },
        {
          "output_type": "stream",
          "name": "stdout",
          "text": [
            "{'partition_method': 'metis', 'GNN': 'SGC', 'dataset': 'PubMed', 'num_parts': 600, 'device': 'cuda', 'edges_after_partition': 38992, 'avg_train_loss': 0.6412306398650011, 'time_taken_for_train': 1548316.5983333334, 'time_taken_for_test': 109470.66666666667, 'test_accuracy': 0.743}\n",
            "dumped to /content/experiment_results_cuda_SGC.json\n"
          ]
        },
        {
          "output_type": "stream",
          "name": "stderr",
          "text": [
            "Downloading https://github.com/kimiyoung/planetoid/raw/master/data/ind.pubmed.x\n",
            "Downloading https://github.com/kimiyoung/planetoid/raw/master/data/ind.pubmed.tx\n",
            "Downloading https://github.com/kimiyoung/planetoid/raw/master/data/ind.pubmed.allx\n",
            "Downloading https://github.com/kimiyoung/planetoid/raw/master/data/ind.pubmed.y\n",
            "Downloading https://github.com/kimiyoung/planetoid/raw/master/data/ind.pubmed.ty\n",
            "Downloading https://github.com/kimiyoung/planetoid/raw/master/data/ind.pubmed.ally\n",
            "Downloading https://github.com/kimiyoung/planetoid/raw/master/data/ind.pubmed.graph\n",
            "Downloading https://github.com/kimiyoung/planetoid/raw/master/data/ind.pubmed.test.index\n",
            "Processing...\n",
            "Done!\n"
          ]
        },
        {
          "output_type": "stream",
          "name": "stdout",
          "text": [
            "{'partition_method': 'metis', 'GNN': 'SGC', 'dataset': 'PubMed', 'num_parts': 700, 'device': 'cuda', 'edges_after_partition': 44582, 'avg_train_loss': 0.6503960898021858, 'time_taken_for_train': 1563156.8933333333, 'time_taken_for_test': 113046.66666666667, 'test_accuracy': 0.757}\n",
            "dumped to /content/experiment_results_cuda_SGC.json\n"
          ]
        },
        {
          "output_type": "stream",
          "name": "stderr",
          "text": [
            "Downloading https://github.com/kimiyoung/planetoid/raw/master/data/ind.pubmed.x\n",
            "Downloading https://github.com/kimiyoung/planetoid/raw/master/data/ind.pubmed.tx\n",
            "Downloading https://github.com/kimiyoung/planetoid/raw/master/data/ind.pubmed.allx\n",
            "Downloading https://github.com/kimiyoung/planetoid/raw/master/data/ind.pubmed.y\n",
            "Downloading https://github.com/kimiyoung/planetoid/raw/master/data/ind.pubmed.ty\n",
            "Downloading https://github.com/kimiyoung/planetoid/raw/master/data/ind.pubmed.ally\n",
            "Downloading https://github.com/kimiyoung/planetoid/raw/master/data/ind.pubmed.graph\n",
            "Downloading https://github.com/kimiyoung/planetoid/raw/master/data/ind.pubmed.test.index\n",
            "Processing...\n",
            "Done!\n"
          ]
        },
        {
          "output_type": "stream",
          "name": "stdout",
          "text": [
            "{'partition_method': 'metis', 'GNN': 'SGC', 'dataset': 'PubMed', 'num_parts': 800, 'device': 'cuda', 'edges_after_partition': 41388, 'avg_train_loss': 0.6313708865145843, 'time_taken_for_train': 1559670.4933333334, 'time_taken_for_test': 137117.0, 'test_accuracy': 0.7596666666666666}\n",
            "dumped to /content/experiment_results_cuda_SGC.json\n"
          ]
        },
        {
          "output_type": "stream",
          "name": "stderr",
          "text": [
            "Downloading https://github.com/kimiyoung/planetoid/raw/master/data/ind.pubmed.x\n",
            "Downloading https://github.com/kimiyoung/planetoid/raw/master/data/ind.pubmed.tx\n",
            "Downloading https://github.com/kimiyoung/planetoid/raw/master/data/ind.pubmed.allx\n",
            "Downloading https://github.com/kimiyoung/planetoid/raw/master/data/ind.pubmed.y\n",
            "Downloading https://github.com/kimiyoung/planetoid/raw/master/data/ind.pubmed.ty\n",
            "Downloading https://github.com/kimiyoung/planetoid/raw/master/data/ind.pubmed.ally\n",
            "Downloading https://github.com/kimiyoung/planetoid/raw/master/data/ind.pubmed.graph\n",
            "Downloading https://github.com/kimiyoung/planetoid/raw/master/data/ind.pubmed.test.index\n",
            "Processing...\n",
            "Done!\n"
          ]
        },
        {
          "output_type": "stream",
          "name": "stdout",
          "text": [
            "{'partition_method': 'metis', 'GNN': 'SGC', 'dataset': 'PubMed', 'num_parts': 900, 'device': 'cuda', 'edges_after_partition': 35662, 'avg_train_loss': 0.6251424099008243, 'time_taken_for_train': 1582577.923333333, 'time_taken_for_test': 111806.33333333333, 'test_accuracy': 0.763}\n",
            "dumped to /content/experiment_results_cuda_SGC.json\n"
          ]
        },
        {
          "output_type": "stream",
          "name": "stderr",
          "text": [
            "Downloading https://github.com/kimiyoung/planetoid/raw/master/data/ind.pubmed.x\n",
            "Downloading https://github.com/kimiyoung/planetoid/raw/master/data/ind.pubmed.tx\n",
            "Downloading https://github.com/kimiyoung/planetoid/raw/master/data/ind.pubmed.allx\n",
            "Downloading https://github.com/kimiyoung/planetoid/raw/master/data/ind.pubmed.y\n",
            "Downloading https://github.com/kimiyoung/planetoid/raw/master/data/ind.pubmed.ty\n",
            "Downloading https://github.com/kimiyoung/planetoid/raw/master/data/ind.pubmed.ally\n",
            "Downloading https://github.com/kimiyoung/planetoid/raw/master/data/ind.pubmed.graph\n",
            "Downloading https://github.com/kimiyoung/planetoid/raw/master/data/ind.pubmed.test.index\n",
            "Processing...\n",
            "Done!\n"
          ]
        },
        {
          "output_type": "stream",
          "name": "stdout",
          "text": [
            "{'partition_method': 'metis', 'GNN': 'SGC', 'dataset': 'PubMed', 'num_parts': 1000, 'device': 'cuda', 'edges_after_partition': 36594, 'avg_train_loss': 0.6156688784062863, 'time_taken_for_train': 1541883.1383333334, 'time_taken_for_test': 114024.33333333333, 'test_accuracy': 0.7653333333333334}\n",
            "dumped to /content/experiment_results_cuda_SGC.json\n"
          ]
        },
        {
          "output_type": "stream",
          "name": "stderr",
          "text": [
            "Downloading https://github.com/kimiyoung/planetoid/raw/master/data/ind.pubmed.x\n",
            "Downloading https://github.com/kimiyoung/planetoid/raw/master/data/ind.pubmed.tx\n",
            "Downloading https://github.com/kimiyoung/planetoid/raw/master/data/ind.pubmed.allx\n",
            "Downloading https://github.com/kimiyoung/planetoid/raw/master/data/ind.pubmed.y\n",
            "Downloading https://github.com/kimiyoung/planetoid/raw/master/data/ind.pubmed.ty\n",
            "Downloading https://github.com/kimiyoung/planetoid/raw/master/data/ind.pubmed.ally\n",
            "Downloading https://github.com/kimiyoung/planetoid/raw/master/data/ind.pubmed.graph\n",
            "Downloading https://github.com/kimiyoung/planetoid/raw/master/data/ind.pubmed.test.index\n",
            "Processing...\n",
            "Done!\n"
          ]
        }
      ]
    },
    {
      "cell_type": "code",
      "source": [
        "import matplotlib.pyplot as plt\n",
        "\n",
        "data = experiment_results\n",
        "\n",
        "# Separate data by GNN method\n",
        "gnn_methods = {}\n",
        "for entry in sorted(data, key = lambda x: x['edges_after_partition'], reverse=True):\n",
        "    gnn = entry[\"GNN\"]\n",
        "    if gnn not in gnn_methods:\n",
        "        gnn_methods[gnn] = {\"num_parts\": [], \"edges_after_partition\": [], \"time_taken_for_train\": [], \"time_taken_for_test\": [], \"test_accuracy\": [], \"avg_train_loss\":[]}\n",
        "    gnn_methods[gnn][\"num_parts\"].append(entry[\"num_parts\"])\n",
        "    gnn_methods[gnn][\"edges_after_partition\"].append(entry[\"edges_after_partition\"])\n",
        "    gnn_methods[gnn][\"time_taken_for_train\"].append(entry[\"time_taken_for_train\"])\n",
        "    gnn_methods[gnn][\"time_taken_for_test\"].append(entry[\"time_taken_for_test\"])\n",
        "    gnn_methods[gnn][\"test_accuracy\"].append(entry[\"test_accuracy\"])\n",
        "    gnn_methods[gnn][\"avg_train_loss\"].append(entry[\"avg_train_loss\"])\n",
        "\n",
        "for gnn, gnn_data in gnn_methods.items():\n",
        "  total_edges = max( cur_pkt for cur_pkt in gnn_data['edges_after_partition'])\n",
        "  gnn_data['edge_drop'] = []\n",
        "  for cur_edges_after_partition in gnn_data['edges_after_partition']:\n",
        "    gnn_data['edge_drop'].append((total_edges - cur_edges_after_partition)*100/total_edges)\n",
        "  gnn_methods[gnn] = gnn_data\n",
        "\n",
        "# Plotting\n",
        "fig, ax1 = plt.subplots(figsize=(12, 8))\n",
        "\n",
        "# Plot num_parts vs time_taken_for_train\n",
        "for gnn, values in gnn_methods.items():\n",
        "    ax1.plot(values[\"edge_drop\"], values[\"time_taken_for_train\"], marker='o', label=f'{gnn} - Train Time')\n",
        "\n",
        "# Plot num_parts vs time_taken_for_test on ax1\n",
        "for gnn, values in gnn_methods.items():\n",
        "    ax1.plot(values[\"edge_drop\"], values[\"time_taken_for_test\"], marker='x', label=f'{gnn} - Test Time', linestyle='-.')\n",
        "\n",
        "# Create a second y-axis for test_accuracy\n",
        "ax2 = ax1.twinx()\n",
        "\n",
        "# Plot num_parts vs test_accuracy\n",
        "for gnn, values in gnn_methods.items():\n",
        "    ax2.plot(values[\"edge_drop\"], values[\"test_accuracy\"], marker='s', label=f'{gnn} - Test Accuracy', linestyle='--')\n",
        "# # Plot num_parts vs test_accuracy\n",
        "for gnn, values in gnn_methods.items():\n",
        "    ax2.plot(values[\"edge_drop\"], values[\"avg_train_loss\"], marker='v', label=f'{gnn} - Train Loss', linestyle='--')\n",
        "\n",
        "\n",
        "# Formatting\n",
        "# ax1.set_xscale('log', base=2)\n",
        "# ax1.set_yscale('log')\n",
        "# ax1.set_xticks([2**i for i in range(11)])\n",
        "# ax1.set_xticklabels([str(2**i) for i in range(11)])\n",
        "ax1.set_xlabel('Edges Drop (%)')\n",
        "ax1.set_ylabel('Train Time')\n",
        "ax2.set_ylabel('Test Accuracy')\n",
        "ax1.set_title('Edges Drop (%) vs Train Time and Test Accuracy for Different GNN Methods (Cora dataset)')\n",
        "ax1.grid(True)\n",
        "ax1.legend(loc='upper left')\n",
        "ax2.legend(loc='upper right')\n",
        "\n",
        "plt.tight_layout()\n",
        "plt.show()\n"
      ],
      "metadata": {
        "colab": {
          "base_uri": "https://localhost:8080/",
          "height": 722
        },
        "id": "Z0MFkRP6Kk_u",
        "outputId": "f6422b57-d686-48d1-cc0a-f03a096f329e"
      },
      "execution_count": 110,
      "outputs": [
        {
          "output_type": "display_data",
          "data": {
            "text/plain": [
              "<Figure size 1200x800 with 2 Axes>"
            ],
            "image/png": "[encoded data removed]"
          },
          "metadata": {}
        }
      ]
    },
    {
      "cell_type": "code",
      "source": [],
      "metadata": {
        "id": "pPVuL4WcLlD3"
      },
      "execution_count": 58,
      "outputs": []
    }
  ]
}